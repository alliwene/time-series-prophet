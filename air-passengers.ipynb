{
 "cells": [
  {
   "cell_type": "code",
   "execution_count": 1,
   "metadata": {},
   "outputs": [],
   "source": [
    "import pandas as pd\n",
    "from sklearn.metrics import mean_absolute_error\n",
    "\n",
    "from scripts.forecast_plot import forecast_plot\n",
    "\n",
    "from prophet import Prophet\n",
    "from prophet.plot import (\n",
    "    plot_plotly,\n",
    "    plot_components_plotly,\n",
    "    add_changepoints_to_plot,\n",
    "    plot_forecast_component,\n",
    ")"
   ]
  },
  {
   "cell_type": "code",
   "execution_count": 2,
   "metadata": {},
   "outputs": [
    {
     "name": "stdout",
     "output_type": "stream",
     "text": [
      "(144, 2)\n"
     ]
    },
    {
     "data": {
      "text/html": [
       "<div>\n",
       "<style scoped>\n",
       "    .dataframe tbody tr th:only-of-type {\n",
       "        vertical-align: middle;\n",
       "    }\n",
       "\n",
       "    .dataframe tbody tr th {\n",
       "        vertical-align: top;\n",
       "    }\n",
       "\n",
       "    .dataframe thead th {\n",
       "        text-align: right;\n",
       "    }\n",
       "</style>\n",
       "<table border=\"1\" class=\"dataframe\">\n",
       "  <thead>\n",
       "    <tr style=\"text-align: right;\">\n",
       "      <th></th>\n",
       "      <th>Month</th>\n",
       "      <th>#Passengers</th>\n",
       "    </tr>\n",
       "  </thead>\n",
       "  <tbody>\n",
       "    <tr>\n",
       "      <th>0</th>\n",
       "      <td>1949-01</td>\n",
       "      <td>112</td>\n",
       "    </tr>\n",
       "    <tr>\n",
       "      <th>1</th>\n",
       "      <td>1949-02</td>\n",
       "      <td>118</td>\n",
       "    </tr>\n",
       "    <tr>\n",
       "      <th>2</th>\n",
       "      <td>1949-03</td>\n",
       "      <td>132</td>\n",
       "    </tr>\n",
       "    <tr>\n",
       "      <th>3</th>\n",
       "      <td>1949-04</td>\n",
       "      <td>129</td>\n",
       "    </tr>\n",
       "    <tr>\n",
       "      <th>4</th>\n",
       "      <td>1949-05</td>\n",
       "      <td>121</td>\n",
       "    </tr>\n",
       "  </tbody>\n",
       "</table>\n",
       "</div>"
      ],
      "text/plain": [
       "     Month  #Passengers\n",
       "0  1949-01          112\n",
       "1  1949-02          118\n",
       "2  1949-03          132\n",
       "3  1949-04          129\n",
       "4  1949-05          121"
      ]
     },
     "execution_count": 2,
     "metadata": {},
     "output_type": "execute_result"
    }
   ],
   "source": [
    "data = pd.read_csv('data/Air_passengers/AirPassengers.csv')\n",
    "print(data.shape)\n",
    "data.head()"
   ]
  },
  {
   "cell_type": "code",
   "execution_count": 3,
   "metadata": {},
   "outputs": [],
   "source": [
    "# # specifying carrying capacity \n",
    "# data['cap'] = 200"
   ]
  },
  {
   "cell_type": "code",
   "execution_count": 4,
   "metadata": {},
   "outputs": [
    {
     "name": "stdout",
     "output_type": "stream",
     "text": [
      "<class 'pandas.core.frame.DataFrame'>\n",
      "RangeIndex: 144 entries, 0 to 143\n",
      "Data columns (total 2 columns):\n",
      " #   Column       Non-Null Count  Dtype \n",
      "---  ------       --------------  ----- \n",
      " 0   Month        144 non-null    object\n",
      " 1   #Passengers  144 non-null    int64 \n",
      "dtypes: int64(1), object(1)\n",
      "memory usage: 2.4+ KB\n"
     ]
    }
   ],
   "source": [
    "data.info()"
   ]
  },
  {
   "cell_type": "code",
   "execution_count": 5,
   "metadata": {},
   "outputs": [
    {
     "data": {
      "text/html": [
       "<div>\n",
       "<style scoped>\n",
       "    .dataframe tbody tr th:only-of-type {\n",
       "        vertical-align: middle;\n",
       "    }\n",
       "\n",
       "    .dataframe tbody tr th {\n",
       "        vertical-align: top;\n",
       "    }\n",
       "\n",
       "    .dataframe thead th {\n",
       "        text-align: right;\n",
       "    }\n",
       "</style>\n",
       "<table border=\"1\" class=\"dataframe\">\n",
       "  <thead>\n",
       "    <tr style=\"text-align: right;\">\n",
       "      <th></th>\n",
       "      <th>Month</th>\n",
       "      <th>#Passengers</th>\n",
       "    </tr>\n",
       "  </thead>\n",
       "  <tbody>\n",
       "    <tr>\n",
       "      <th>0</th>\n",
       "      <td>1949-01-01</td>\n",
       "      <td>112</td>\n",
       "    </tr>\n",
       "    <tr>\n",
       "      <th>1</th>\n",
       "      <td>1949-02-01</td>\n",
       "      <td>118</td>\n",
       "    </tr>\n",
       "    <tr>\n",
       "      <th>2</th>\n",
       "      <td>1949-03-01</td>\n",
       "      <td>132</td>\n",
       "    </tr>\n",
       "    <tr>\n",
       "      <th>3</th>\n",
       "      <td>1949-04-01</td>\n",
       "      <td>129</td>\n",
       "    </tr>\n",
       "    <tr>\n",
       "      <th>4</th>\n",
       "      <td>1949-05-01</td>\n",
       "      <td>121</td>\n",
       "    </tr>\n",
       "  </tbody>\n",
       "</table>\n",
       "</div>"
      ],
      "text/plain": [
       "       Month  #Passengers\n",
       "0 1949-01-01          112\n",
       "1 1949-02-01          118\n",
       "2 1949-03-01          132\n",
       "3 1949-04-01          129\n",
       "4 1949-05-01          121"
      ]
     },
     "execution_count": 5,
     "metadata": {},
     "output_type": "execute_result"
    }
   ],
   "source": [
    "#convert Month column to datetime\n",
    "data['Month'] = pd.to_datetime(data['Month'])\n",
    "data.head()"
   ]
  },
  {
   "cell_type": "code",
   "execution_count": 6,
   "metadata": {},
   "outputs": [
    {
     "data": {
      "text/plain": [
       "622"
      ]
     },
     "execution_count": 6,
     "metadata": {},
     "output_type": "execute_result"
    }
   ],
   "source": [
    "data['#Passengers'].max()"
   ]
  },
  {
   "cell_type": "code",
   "execution_count": 7,
   "metadata": {},
   "outputs": [
    {
     "data": {
      "application/vnd.plotly.v1+json": {
       "config": {
        "plotlyServerURL": "https://plot.ly"
       },
       "data": [
        {
         "hovertemplate": "Month=%{x}<br>#Passengers=%{y}<extra></extra>",
         "legendgroup": "",
         "line": {
          "color": "#636efa",
          "dash": "solid"
         },
         "marker": {
          "symbol": "circle"
         },
         "mode": "lines",
         "name": "",
         "orientation": "v",
         "showlegend": false,
         "type": "scatter",
         "x": [
          "1949-01-01T00:00:00",
          "1949-02-01T00:00:00",
          "1949-03-01T00:00:00",
          "1949-04-01T00:00:00",
          "1949-05-01T00:00:00",
          "1949-06-01T00:00:00",
          "1949-07-01T00:00:00",
          "1949-08-01T00:00:00",
          "1949-09-01T00:00:00",
          "1949-10-01T00:00:00",
          "1949-11-01T00:00:00",
          "1949-12-01T00:00:00",
          "1950-01-01T00:00:00",
          "1950-02-01T00:00:00",
          "1950-03-01T00:00:00",
          "1950-04-01T00:00:00",
          "1950-05-01T00:00:00",
          "1950-06-01T00:00:00",
          "1950-07-01T00:00:00",
          "1950-08-01T00:00:00",
          "1950-09-01T00:00:00",
          "1950-10-01T00:00:00",
          "1950-11-01T00:00:00",
          "1950-12-01T00:00:00",
          "1951-01-01T00:00:00",
          "1951-02-01T00:00:00",
          "1951-03-01T00:00:00",
          "1951-04-01T00:00:00",
          "1951-05-01T00:00:00",
          "1951-06-01T00:00:00",
          "1951-07-01T00:00:00",
          "1951-08-01T00:00:00",
          "1951-09-01T00:00:00",
          "1951-10-01T00:00:00",
          "1951-11-01T00:00:00",
          "1951-12-01T00:00:00",
          "1952-01-01T00:00:00",
          "1952-02-01T00:00:00",
          "1952-03-01T00:00:00",
          "1952-04-01T00:00:00",
          "1952-05-01T00:00:00",
          "1952-06-01T00:00:00",
          "1952-07-01T00:00:00",
          "1952-08-01T00:00:00",
          "1952-09-01T00:00:00",
          "1952-10-01T00:00:00",
          "1952-11-01T00:00:00",
          "1952-12-01T00:00:00",
          "1953-01-01T00:00:00",
          "1953-02-01T00:00:00",
          "1953-03-01T00:00:00",
          "1953-04-01T00:00:00",
          "1953-05-01T00:00:00",
          "1953-06-01T00:00:00",
          "1953-07-01T00:00:00",
          "1953-08-01T00:00:00",
          "1953-09-01T00:00:00",
          "1953-10-01T00:00:00",
          "1953-11-01T00:00:00",
          "1953-12-01T00:00:00",
          "1954-01-01T00:00:00",
          "1954-02-01T00:00:00",
          "1954-03-01T00:00:00",
          "1954-04-01T00:00:00",
          "1954-05-01T00:00:00",
          "1954-06-01T00:00:00",
          "1954-07-01T00:00:00",
          "1954-08-01T00:00:00",
          "1954-09-01T00:00:00",
          "1954-10-01T00:00:00",
          "1954-11-01T00:00:00",
          "1954-12-01T00:00:00",
          "1955-01-01T00:00:00",
          "1955-02-01T00:00:00",
          "1955-03-01T00:00:00",
          "1955-04-01T00:00:00",
          "1955-05-01T00:00:00",
          "1955-06-01T00:00:00",
          "1955-07-01T00:00:00",
          "1955-08-01T00:00:00",
          "1955-09-01T00:00:00",
          "1955-10-01T00:00:00",
          "1955-11-01T00:00:00",
          "1955-12-01T00:00:00",
          "1956-01-01T00:00:00",
          "1956-02-01T00:00:00",
          "1956-03-01T00:00:00",
          "1956-04-01T00:00:00",
          "1956-05-01T00:00:00",
          "1956-06-01T00:00:00",
          "1956-07-01T00:00:00",
          "1956-08-01T00:00:00",
          "1956-09-01T00:00:00",
          "1956-10-01T00:00:00",
          "1956-11-01T00:00:00",
          "1956-12-01T00:00:00",
          "1957-01-01T00:00:00",
          "1957-02-01T00:00:00",
          "1957-03-01T00:00:00",
          "1957-04-01T00:00:00",
          "1957-05-01T00:00:00",
          "1957-06-01T00:00:00",
          "1957-07-01T00:00:00",
          "1957-08-01T00:00:00",
          "1957-09-01T00:00:00",
          "1957-10-01T00:00:00",
          "1957-11-01T00:00:00",
          "1957-12-01T00:00:00",
          "1958-01-01T00:00:00",
          "1958-02-01T00:00:00",
          "1958-03-01T00:00:00",
          "1958-04-01T00:00:00",
          "1958-05-01T00:00:00",
          "1958-06-01T00:00:00",
          "1958-07-01T00:00:00",
          "1958-08-01T00:00:00",
          "1958-09-01T00:00:00",
          "1958-10-01T00:00:00",
          "1958-11-01T00:00:00",
          "1958-12-01T00:00:00",
          "1959-01-01T00:00:00",
          "1959-02-01T00:00:00",
          "1959-03-01T00:00:00",
          "1959-04-01T00:00:00",
          "1959-05-01T00:00:00",
          "1959-06-01T00:00:00",
          "1959-07-01T00:00:00",
          "1959-08-01T00:00:00",
          "1959-09-01T00:00:00",
          "1959-10-01T00:00:00",
          "1959-11-01T00:00:00",
          "1959-12-01T00:00:00",
          "1960-01-01T00:00:00",
          "1960-02-01T00:00:00",
          "1960-03-01T00:00:00",
          "1960-04-01T00:00:00",
          "1960-05-01T00:00:00",
          "1960-06-01T00:00:00",
          "1960-07-01T00:00:00",
          "1960-08-01T00:00:00",
          "1960-09-01T00:00:00",
          "1960-10-01T00:00:00",
          "1960-11-01T00:00:00",
          "1960-12-01T00:00:00"
         ],
         "xaxis": "x",
         "y": [
          112,
          118,
          132,
          129,
          121,
          135,
          148,
          148,
          136,
          119,
          104,
          118,
          115,
          126,
          141,
          135,
          125,
          149,
          170,
          170,
          158,
          133,
          114,
          140,
          145,
          150,
          178,
          163,
          172,
          178,
          199,
          199,
          184,
          162,
          146,
          166,
          171,
          180,
          193,
          181,
          183,
          218,
          230,
          242,
          209,
          191,
          172,
          194,
          196,
          196,
          236,
          235,
          229,
          243,
          264,
          272,
          237,
          211,
          180,
          201,
          204,
          188,
          235,
          227,
          234,
          264,
          302,
          293,
          259,
          229,
          203,
          229,
          242,
          233,
          267,
          269,
          270,
          315,
          364,
          347,
          312,
          274,
          237,
          278,
          284,
          277,
          317,
          313,
          318,
          374,
          413,
          405,
          355,
          306,
          271,
          306,
          315,
          301,
          356,
          348,
          355,
          422,
          465,
          467,
          404,
          347,
          305,
          336,
          340,
          318,
          362,
          348,
          363,
          435,
          491,
          505,
          404,
          359,
          310,
          337,
          360,
          342,
          406,
          396,
          420,
          472,
          548,
          559,
          463,
          407,
          362,
          405,
          417,
          391,
          419,
          461,
          472,
          535,
          622,
          606,
          508,
          461,
          390,
          432
         ],
         "yaxis": "y"
        }
       ],
       "layout": {
        "legend": {
         "tracegroupgap": 0
        },
        "template": {
         "data": {
          "bar": [
           {
            "error_x": {
             "color": "#2a3f5f"
            },
            "error_y": {
             "color": "#2a3f5f"
            },
            "marker": {
             "line": {
              "color": "#E5ECF6",
              "width": 0.5
             },
             "pattern": {
              "fillmode": "overlay",
              "size": 10,
              "solidity": 0.2
             }
            },
            "type": "bar"
           }
          ],
          "barpolar": [
           {
            "marker": {
             "line": {
              "color": "#E5ECF6",
              "width": 0.5
             },
             "pattern": {
              "fillmode": "overlay",
              "size": 10,
              "solidity": 0.2
             }
            },
            "type": "barpolar"
           }
          ],
          "carpet": [
           {
            "aaxis": {
             "endlinecolor": "#2a3f5f",
             "gridcolor": "white",
             "linecolor": "white",
             "minorgridcolor": "white",
             "startlinecolor": "#2a3f5f"
            },
            "baxis": {
             "endlinecolor": "#2a3f5f",
             "gridcolor": "white",
             "linecolor": "white",
             "minorgridcolor": "white",
             "startlinecolor": "#2a3f5f"
            },
            "type": "carpet"
           }
          ],
          "choropleth": [
           {
            "colorbar": {
             "outlinewidth": 0,
             "ticks": ""
            },
            "type": "choropleth"
           }
          ],
          "contour": [
           {
            "colorbar": {
             "outlinewidth": 0,
             "ticks": ""
            },
            "colorscale": [
             [
              0,
              "#0d0887"
             ],
             [
              0.1111111111111111,
              "#46039f"
             ],
             [
              0.2222222222222222,
              "#7201a8"
             ],
             [
              0.3333333333333333,
              "#9c179e"
             ],
             [
              0.4444444444444444,
              "#bd3786"
             ],
             [
              0.5555555555555556,
              "#d8576b"
             ],
             [
              0.6666666666666666,
              "#ed7953"
             ],
             [
              0.7777777777777778,
              "#fb9f3a"
             ],
             [
              0.8888888888888888,
              "#fdca26"
             ],
             [
              1,
              "#f0f921"
             ]
            ],
            "type": "contour"
           }
          ],
          "contourcarpet": [
           {
            "colorbar": {
             "outlinewidth": 0,
             "ticks": ""
            },
            "type": "contourcarpet"
           }
          ],
          "heatmap": [
           {
            "colorbar": {
             "outlinewidth": 0,
             "ticks": ""
            },
            "colorscale": [
             [
              0,
              "#0d0887"
             ],
             [
              0.1111111111111111,
              "#46039f"
             ],
             [
              0.2222222222222222,
              "#7201a8"
             ],
             [
              0.3333333333333333,
              "#9c179e"
             ],
             [
              0.4444444444444444,
              "#bd3786"
             ],
             [
              0.5555555555555556,
              "#d8576b"
             ],
             [
              0.6666666666666666,
              "#ed7953"
             ],
             [
              0.7777777777777778,
              "#fb9f3a"
             ],
             [
              0.8888888888888888,
              "#fdca26"
             ],
             [
              1,
              "#f0f921"
             ]
            ],
            "type": "heatmap"
           }
          ],
          "heatmapgl": [
           {
            "colorbar": {
             "outlinewidth": 0,
             "ticks": ""
            },
            "colorscale": [
             [
              0,
              "#0d0887"
             ],
             [
              0.1111111111111111,
              "#46039f"
             ],
             [
              0.2222222222222222,
              "#7201a8"
             ],
             [
              0.3333333333333333,
              "#9c179e"
             ],
             [
              0.4444444444444444,
              "#bd3786"
             ],
             [
              0.5555555555555556,
              "#d8576b"
             ],
             [
              0.6666666666666666,
              "#ed7953"
             ],
             [
              0.7777777777777778,
              "#fb9f3a"
             ],
             [
              0.8888888888888888,
              "#fdca26"
             ],
             [
              1,
              "#f0f921"
             ]
            ],
            "type": "heatmapgl"
           }
          ],
          "histogram": [
           {
            "marker": {
             "pattern": {
              "fillmode": "overlay",
              "size": 10,
              "solidity": 0.2
             }
            },
            "type": "histogram"
           }
          ],
          "histogram2d": [
           {
            "colorbar": {
             "outlinewidth": 0,
             "ticks": ""
            },
            "colorscale": [
             [
              0,
              "#0d0887"
             ],
             [
              0.1111111111111111,
              "#46039f"
             ],
             [
              0.2222222222222222,
              "#7201a8"
             ],
             [
              0.3333333333333333,
              "#9c179e"
             ],
             [
              0.4444444444444444,
              "#bd3786"
             ],
             [
              0.5555555555555556,
              "#d8576b"
             ],
             [
              0.6666666666666666,
              "#ed7953"
             ],
             [
              0.7777777777777778,
              "#fb9f3a"
             ],
             [
              0.8888888888888888,
              "#fdca26"
             ],
             [
              1,
              "#f0f921"
             ]
            ],
            "type": "histogram2d"
           }
          ],
          "histogram2dcontour": [
           {
            "colorbar": {
             "outlinewidth": 0,
             "ticks": ""
            },
            "colorscale": [
             [
              0,
              "#0d0887"
             ],
             [
              0.1111111111111111,
              "#46039f"
             ],
             [
              0.2222222222222222,
              "#7201a8"
             ],
             [
              0.3333333333333333,
              "#9c179e"
             ],
             [
              0.4444444444444444,
              "#bd3786"
             ],
             [
              0.5555555555555556,
              "#d8576b"
             ],
             [
              0.6666666666666666,
              "#ed7953"
             ],
             [
              0.7777777777777778,
              "#fb9f3a"
             ],
             [
              0.8888888888888888,
              "#fdca26"
             ],
             [
              1,
              "#f0f921"
             ]
            ],
            "type": "histogram2dcontour"
           }
          ],
          "mesh3d": [
           {
            "colorbar": {
             "outlinewidth": 0,
             "ticks": ""
            },
            "type": "mesh3d"
           }
          ],
          "parcoords": [
           {
            "line": {
             "colorbar": {
              "outlinewidth": 0,
              "ticks": ""
             }
            },
            "type": "parcoords"
           }
          ],
          "pie": [
           {
            "automargin": true,
            "type": "pie"
           }
          ],
          "scatter": [
           {
            "fillpattern": {
             "fillmode": "overlay",
             "size": 10,
             "solidity": 0.2
            },
            "type": "scatter"
           }
          ],
          "scatter3d": [
           {
            "line": {
             "colorbar": {
              "outlinewidth": 0,
              "ticks": ""
             }
            },
            "marker": {
             "colorbar": {
              "outlinewidth": 0,
              "ticks": ""
             }
            },
            "type": "scatter3d"
           }
          ],
          "scattercarpet": [
           {
            "marker": {
             "colorbar": {
              "outlinewidth": 0,
              "ticks": ""
             }
            },
            "type": "scattercarpet"
           }
          ],
          "scattergeo": [
           {
            "marker": {
             "colorbar": {
              "outlinewidth": 0,
              "ticks": ""
             }
            },
            "type": "scattergeo"
           }
          ],
          "scattergl": [
           {
            "marker": {
             "colorbar": {
              "outlinewidth": 0,
              "ticks": ""
             }
            },
            "type": "scattergl"
           }
          ],
          "scattermapbox": [
           {
            "marker": {
             "colorbar": {
              "outlinewidth": 0,
              "ticks": ""
             }
            },
            "type": "scattermapbox"
           }
          ],
          "scatterpolar": [
           {
            "marker": {
             "colorbar": {
              "outlinewidth": 0,
              "ticks": ""
             }
            },
            "type": "scatterpolar"
           }
          ],
          "scatterpolargl": [
           {
            "marker": {
             "colorbar": {
              "outlinewidth": 0,
              "ticks": ""
             }
            },
            "type": "scatterpolargl"
           }
          ],
          "scatterternary": [
           {
            "marker": {
             "colorbar": {
              "outlinewidth": 0,
              "ticks": ""
             }
            },
            "type": "scatterternary"
           }
          ],
          "surface": [
           {
            "colorbar": {
             "outlinewidth": 0,
             "ticks": ""
            },
            "colorscale": [
             [
              0,
              "#0d0887"
             ],
             [
              0.1111111111111111,
              "#46039f"
             ],
             [
              0.2222222222222222,
              "#7201a8"
             ],
             [
              0.3333333333333333,
              "#9c179e"
             ],
             [
              0.4444444444444444,
              "#bd3786"
             ],
             [
              0.5555555555555556,
              "#d8576b"
             ],
             [
              0.6666666666666666,
              "#ed7953"
             ],
             [
              0.7777777777777778,
              "#fb9f3a"
             ],
             [
              0.8888888888888888,
              "#fdca26"
             ],
             [
              1,
              "#f0f921"
             ]
            ],
            "type": "surface"
           }
          ],
          "table": [
           {
            "cells": {
             "fill": {
              "color": "#EBF0F8"
             },
             "line": {
              "color": "white"
             }
            },
            "header": {
             "fill": {
              "color": "#C8D4E3"
             },
             "line": {
              "color": "white"
             }
            },
            "type": "table"
           }
          ]
         },
         "layout": {
          "annotationdefaults": {
           "arrowcolor": "#2a3f5f",
           "arrowhead": 0,
           "arrowwidth": 1
          },
          "autotypenumbers": "strict",
          "coloraxis": {
           "colorbar": {
            "outlinewidth": 0,
            "ticks": ""
           }
          },
          "colorscale": {
           "diverging": [
            [
             0,
             "#8e0152"
            ],
            [
             0.1,
             "#c51b7d"
            ],
            [
             0.2,
             "#de77ae"
            ],
            [
             0.3,
             "#f1b6da"
            ],
            [
             0.4,
             "#fde0ef"
            ],
            [
             0.5,
             "#f7f7f7"
            ],
            [
             0.6,
             "#e6f5d0"
            ],
            [
             0.7,
             "#b8e186"
            ],
            [
             0.8,
             "#7fbc41"
            ],
            [
             0.9,
             "#4d9221"
            ],
            [
             1,
             "#276419"
            ]
           ],
           "sequential": [
            [
             0,
             "#0d0887"
            ],
            [
             0.1111111111111111,
             "#46039f"
            ],
            [
             0.2222222222222222,
             "#7201a8"
            ],
            [
             0.3333333333333333,
             "#9c179e"
            ],
            [
             0.4444444444444444,
             "#bd3786"
            ],
            [
             0.5555555555555556,
             "#d8576b"
            ],
            [
             0.6666666666666666,
             "#ed7953"
            ],
            [
             0.7777777777777778,
             "#fb9f3a"
            ],
            [
             0.8888888888888888,
             "#fdca26"
            ],
            [
             1,
             "#f0f921"
            ]
           ],
           "sequentialminus": [
            [
             0,
             "#0d0887"
            ],
            [
             0.1111111111111111,
             "#46039f"
            ],
            [
             0.2222222222222222,
             "#7201a8"
            ],
            [
             0.3333333333333333,
             "#9c179e"
            ],
            [
             0.4444444444444444,
             "#bd3786"
            ],
            [
             0.5555555555555556,
             "#d8576b"
            ],
            [
             0.6666666666666666,
             "#ed7953"
            ],
            [
             0.7777777777777778,
             "#fb9f3a"
            ],
            [
             0.8888888888888888,
             "#fdca26"
            ],
            [
             1,
             "#f0f921"
            ]
           ]
          },
          "colorway": [
           "#636efa",
           "#EF553B",
           "#00cc96",
           "#ab63fa",
           "#FFA15A",
           "#19d3f3",
           "#FF6692",
           "#B6E880",
           "#FF97FF",
           "#FECB52"
          ],
          "font": {
           "color": "#2a3f5f"
          },
          "geo": {
           "bgcolor": "white",
           "lakecolor": "white",
           "landcolor": "#E5ECF6",
           "showlakes": true,
           "showland": true,
           "subunitcolor": "white"
          },
          "hoverlabel": {
           "align": "left"
          },
          "hovermode": "closest",
          "mapbox": {
           "style": "light"
          },
          "paper_bgcolor": "white",
          "plot_bgcolor": "#E5ECF6",
          "polar": {
           "angularaxis": {
            "gridcolor": "white",
            "linecolor": "white",
            "ticks": ""
           },
           "bgcolor": "#E5ECF6",
           "radialaxis": {
            "gridcolor": "white",
            "linecolor": "white",
            "ticks": ""
           }
          },
          "scene": {
           "xaxis": {
            "backgroundcolor": "#E5ECF6",
            "gridcolor": "white",
            "gridwidth": 2,
            "linecolor": "white",
            "showbackground": true,
            "ticks": "",
            "zerolinecolor": "white"
           },
           "yaxis": {
            "backgroundcolor": "#E5ECF6",
            "gridcolor": "white",
            "gridwidth": 2,
            "linecolor": "white",
            "showbackground": true,
            "ticks": "",
            "zerolinecolor": "white"
           },
           "zaxis": {
            "backgroundcolor": "#E5ECF6",
            "gridcolor": "white",
            "gridwidth": 2,
            "linecolor": "white",
            "showbackground": true,
            "ticks": "",
            "zerolinecolor": "white"
           }
          },
          "shapedefaults": {
           "line": {
            "color": "#2a3f5f"
           }
          },
          "ternary": {
           "aaxis": {
            "gridcolor": "white",
            "linecolor": "white",
            "ticks": ""
           },
           "baxis": {
            "gridcolor": "white",
            "linecolor": "white",
            "ticks": ""
           },
           "bgcolor": "#E5ECF6",
           "caxis": {
            "gridcolor": "white",
            "linecolor": "white",
            "ticks": ""
           }
          },
          "title": {
           "x": 0.05
          },
          "xaxis": {
           "automargin": true,
           "gridcolor": "white",
           "linecolor": "white",
           "ticks": "",
           "title": {
            "standoff": 15
           },
           "zerolinecolor": "white",
           "zerolinewidth": 2
          },
          "yaxis": {
           "automargin": true,
           "gridcolor": "white",
           "linecolor": "white",
           "ticks": "",
           "title": {
            "standoff": 15
           },
           "zerolinecolor": "white",
           "zerolinewidth": 2
          }
         }
        },
        "title": {
         "text": "Air Passengers"
        },
        "xaxis": {
         "anchor": "y",
         "domain": [
          0,
          1
         ],
         "title": {
          "text": "Month"
         }
        },
        "yaxis": {
         "anchor": "x",
         "domain": [
          0,
          1
         ],
         "title": {
          "text": "#Passengers"
         }
        }
       }
      }
     },
     "metadata": {},
     "output_type": "display_data"
    }
   ],
   "source": [
    "import plotly.express as px\n",
    "\n",
    "fig = px.line(data, x='Month', y='#Passengers', title='Air Passengers')\n",
    "fig.show() "
   ]
  },
  {
   "attachments": {},
   "cell_type": "markdown",
   "metadata": {},
   "source": [
    "## Time Series Forecasting with Prophet "
   ]
  },
  {
   "cell_type": "code",
   "execution_count": 8,
   "metadata": {},
   "outputs": [
    {
     "data": {
      "text/html": [
       "<div>\n",
       "<style scoped>\n",
       "    .dataframe tbody tr th:only-of-type {\n",
       "        vertical-align: middle;\n",
       "    }\n",
       "\n",
       "    .dataframe tbody tr th {\n",
       "        vertical-align: top;\n",
       "    }\n",
       "\n",
       "    .dataframe thead th {\n",
       "        text-align: right;\n",
       "    }\n",
       "</style>\n",
       "<table border=\"1\" class=\"dataframe\">\n",
       "  <thead>\n",
       "    <tr style=\"text-align: right;\">\n",
       "      <th></th>\n",
       "      <th>ds</th>\n",
       "      <th>y</th>\n",
       "    </tr>\n",
       "  </thead>\n",
       "  <tbody>\n",
       "    <tr>\n",
       "      <th>0</th>\n",
       "      <td>1949-01-01</td>\n",
       "      <td>112</td>\n",
       "    </tr>\n",
       "    <tr>\n",
       "      <th>1</th>\n",
       "      <td>1949-02-01</td>\n",
       "      <td>118</td>\n",
       "    </tr>\n",
       "    <tr>\n",
       "      <th>2</th>\n",
       "      <td>1949-03-01</td>\n",
       "      <td>132</td>\n",
       "    </tr>\n",
       "    <tr>\n",
       "      <th>3</th>\n",
       "      <td>1949-04-01</td>\n",
       "      <td>129</td>\n",
       "    </tr>\n",
       "    <tr>\n",
       "      <th>4</th>\n",
       "      <td>1949-05-01</td>\n",
       "      <td>121</td>\n",
       "    </tr>\n",
       "  </tbody>\n",
       "</table>\n",
       "</div>"
      ],
      "text/plain": [
       "          ds    y\n",
       "0 1949-01-01  112\n",
       "1 1949-02-01  118\n",
       "2 1949-03-01  132\n",
       "3 1949-04-01  129\n",
       "4 1949-05-01  121"
      ]
     },
     "execution_count": 8,
     "metadata": {},
     "output_type": "execute_result"
    }
   ],
   "source": [
    "data.rename(columns={'Month': 'ds', '#Passengers': 'y'}, inplace=True)\n",
    "\n",
    "data.head()"
   ]
  },
  {
   "cell_type": "code",
   "execution_count": 9,
   "metadata": {},
   "outputs": [
    {
     "data": {
      "text/plain": [
       "array([1949, 1950, 1951, 1952, 1953, 1954, 1955, 1956, 1957, 1958, 1959,\n",
       "       1960], dtype=int32)"
      ]
     },
     "execution_count": 9,
     "metadata": {},
     "output_type": "execute_result"
    }
   ],
   "source": [
    "data['ds'].dt.year.unique()"
   ]
  },
  {
   "cell_type": "code",
   "execution_count": 10,
   "metadata": {},
   "outputs": [
    {
     "name": "stdout",
     "output_type": "stream",
     "text": [
      "Train data shape: (120, 2)\n",
      "Validation data shape: (24, 2)\n"
     ]
    }
   ],
   "source": [
    "valid_data = data[data['ds'].dt.year.isin([1959, 1960])]\n",
    "train_data = data[~(data['ds'].dt.year.isin([1959, 1960]))]\n",
    "\n",
    "print(f'Train data shape: {train_data.shape}')\n",
    "print(f'Validation data shape: {valid_data.shape}')"
   ]
  },
  {
   "cell_type": "code",
   "execution_count": 11,
   "metadata": {},
   "outputs": [
    {
     "name": "stderr",
     "output_type": "stream",
     "text": [
      "00:36:38 - cmdstanpy - INFO - Chain [1] start processing\n",
      "00:36:38 - cmdstanpy - INFO - Chain [1] done processing\n"
     ]
    },
    {
     "data": {
      "text/plain": [
       "<prophet.forecaster.Prophet at 0x7f27457dbbd0>"
      ]
     },
     "execution_count": 11,
     "metadata": {},
     "output_type": "execute_result"
    }
   ],
   "source": [
    "model = Prophet()\n",
    "model.add_country_holidays(country_name='US')   \n",
    "model.fit(train_data)"
   ]
  },
  {
   "cell_type": "code",
   "execution_count": 12,
   "metadata": {},
   "outputs": [
    {
     "data": {
      "text/html": [
       "<div>\n",
       "<style scoped>\n",
       "    .dataframe tbody tr th:only-of-type {\n",
       "        vertical-align: middle;\n",
       "    }\n",
       "\n",
       "    .dataframe tbody tr th {\n",
       "        vertical-align: top;\n",
       "    }\n",
       "\n",
       "    .dataframe thead th {\n",
       "        text-align: right;\n",
       "    }\n",
       "</style>\n",
       "<table border=\"1\" class=\"dataframe\">\n",
       "  <thead>\n",
       "    <tr style=\"text-align: right;\">\n",
       "      <th></th>\n",
       "      <th>ds</th>\n",
       "      <th>yhat</th>\n",
       "      <th>yhat_lower</th>\n",
       "      <th>yhat_upper</th>\n",
       "    </tr>\n",
       "  </thead>\n",
       "  <tbody>\n",
       "    <tr>\n",
       "      <th>19</th>\n",
       "      <td>1960-08-01</td>\n",
       "      <td>522.406441</td>\n",
       "      <td>499.371035</td>\n",
       "      <td>546.717164</td>\n",
       "    </tr>\n",
       "    <tr>\n",
       "      <th>20</th>\n",
       "      <td>1960-09-01</td>\n",
       "      <td>485.162684</td>\n",
       "      <td>460.738022</td>\n",
       "      <td>508.818506</td>\n",
       "    </tr>\n",
       "    <tr>\n",
       "      <th>21</th>\n",
       "      <td>1960-10-01</td>\n",
       "      <td>450.437346</td>\n",
       "      <td>426.227913</td>\n",
       "      <td>474.774175</td>\n",
       "    </tr>\n",
       "    <tr>\n",
       "      <th>22</th>\n",
       "      <td>1960-11-01</td>\n",
       "      <td>422.286830</td>\n",
       "      <td>397.568041</td>\n",
       "      <td>446.440819</td>\n",
       "    </tr>\n",
       "    <tr>\n",
       "      <th>23</th>\n",
       "      <td>1960-12-01</td>\n",
       "      <td>448.586507</td>\n",
       "      <td>424.086315</td>\n",
       "      <td>471.321523</td>\n",
       "    </tr>\n",
       "  </tbody>\n",
       "</table>\n",
       "</div>"
      ],
      "text/plain": [
       "           ds        yhat  yhat_lower  yhat_upper\n",
       "19 1960-08-01  522.406441  499.371035  546.717164\n",
       "20 1960-09-01  485.162684  460.738022  508.818506\n",
       "21 1960-10-01  450.437346  426.227913  474.774175\n",
       "22 1960-11-01  422.286830  397.568041  446.440819\n",
       "23 1960-12-01  448.586507  424.086315  471.321523"
      ]
     },
     "execution_count": 12,
     "metadata": {},
     "output_type": "execute_result"
    }
   ],
   "source": [
    "forecast = model.predict(valid_data)\n",
    "forecast[['ds', 'yhat', 'yhat_lower', 'yhat_upper']].tail()"
   ]
  },
  {
   "cell_type": "code",
   "execution_count": 13,
   "metadata": {},
   "outputs": [
    {
     "data": {
      "text/plain": [
       "(24, 64)"
      ]
     },
     "execution_count": 13,
     "metadata": {},
     "output_type": "execute_result"
    }
   ],
   "source": [
    "forecast.shape"
   ]
  },
  {
   "cell_type": "code",
   "execution_count": 14,
   "metadata": {},
   "outputs": [
    {
     "data": {
      "text/plain": [
       "0                  New Year's Day\n",
       "1           Washington's Birthday\n",
       "2                    Memorial Day\n",
       "3                Independence Day\n",
       "4                       Labor Day\n",
       "5                    Columbus Day\n",
       "6                   Armistice Day\n",
       "7                    Thanksgiving\n",
       "8                   Christmas Day\n",
       "9     Independence Day (Observed)\n",
       "10      New Year's Day (Observed)\n",
       "11                   Veterans Day\n",
       "12       Christmas Day (Observed)\n",
       "13        Veterans Day (Observed)\n",
       "14       Armistice Day (Observed)\n",
       "dtype: object"
      ]
     },
     "execution_count": 14,
     "metadata": {},
     "output_type": "execute_result"
    }
   ],
   "source": [
    "model.train_holiday_names"
   ]
  },
  {
   "cell_type": "code",
   "execution_count": 15,
   "metadata": {},
   "outputs": [
    {
     "data": {
      "text/plain": [
       "30.995675815316186"
      ]
     },
     "execution_count": 15,
     "metadata": {},
     "output_type": "execute_result"
    }
   ],
   "source": [
    "mean_absolute_error(valid_data['y'], forecast['yhat'])"
   ]
  },
  {
   "cell_type": "code",
   "execution_count": 16,
   "metadata": {},
   "outputs": [
    {
     "data": {
      "application/vnd.plotly.v1+json": {
       "config": {
        "plotlyServerURL": "https://plot.ly"
       },
       "data": [
        {
         "marker": {
          "color": "black",
          "size": 4
         },
         "mode": "markers",
         "name": "Actual",
         "type": "scatter",
         "x": [
          "1949-01-01T00:00:00",
          "1949-02-01T00:00:00",
          "1949-03-01T00:00:00",
          "1949-04-01T00:00:00",
          "1949-05-01T00:00:00",
          "1949-06-01T00:00:00",
          "1949-07-01T00:00:00",
          "1949-08-01T00:00:00",
          "1949-09-01T00:00:00",
          "1949-10-01T00:00:00",
          "1949-11-01T00:00:00",
          "1949-12-01T00:00:00",
          "1950-01-01T00:00:00",
          "1950-02-01T00:00:00",
          "1950-03-01T00:00:00",
          "1950-04-01T00:00:00",
          "1950-05-01T00:00:00",
          "1950-06-01T00:00:00",
          "1950-07-01T00:00:00",
          "1950-08-01T00:00:00",
          "1950-09-01T00:00:00",
          "1950-10-01T00:00:00",
          "1950-11-01T00:00:00",
          "1950-12-01T00:00:00",
          "1951-01-01T00:00:00",
          "1951-02-01T00:00:00",
          "1951-03-01T00:00:00",
          "1951-04-01T00:00:00",
          "1951-05-01T00:00:00",
          "1951-06-01T00:00:00",
          "1951-07-01T00:00:00",
          "1951-08-01T00:00:00",
          "1951-09-01T00:00:00",
          "1951-10-01T00:00:00",
          "1951-11-01T00:00:00",
          "1951-12-01T00:00:00",
          "1952-01-01T00:00:00",
          "1952-02-01T00:00:00",
          "1952-03-01T00:00:00",
          "1952-04-01T00:00:00",
          "1952-05-01T00:00:00",
          "1952-06-01T00:00:00",
          "1952-07-01T00:00:00",
          "1952-08-01T00:00:00",
          "1952-09-01T00:00:00",
          "1952-10-01T00:00:00",
          "1952-11-01T00:00:00",
          "1952-12-01T00:00:00",
          "1953-01-01T00:00:00",
          "1953-02-01T00:00:00",
          "1953-03-01T00:00:00",
          "1953-04-01T00:00:00",
          "1953-05-01T00:00:00",
          "1953-06-01T00:00:00",
          "1953-07-01T00:00:00",
          "1953-08-01T00:00:00",
          "1953-09-01T00:00:00",
          "1953-10-01T00:00:00",
          "1953-11-01T00:00:00",
          "1953-12-01T00:00:00",
          "1954-01-01T00:00:00",
          "1954-02-01T00:00:00",
          "1954-03-01T00:00:00",
          "1954-04-01T00:00:00",
          "1954-05-01T00:00:00",
          "1954-06-01T00:00:00",
          "1954-07-01T00:00:00",
          "1954-08-01T00:00:00",
          "1954-09-01T00:00:00",
          "1954-10-01T00:00:00",
          "1954-11-01T00:00:00",
          "1954-12-01T00:00:00",
          "1955-01-01T00:00:00",
          "1955-02-01T00:00:00",
          "1955-03-01T00:00:00",
          "1955-04-01T00:00:00",
          "1955-05-01T00:00:00",
          "1955-06-01T00:00:00",
          "1955-07-01T00:00:00",
          "1955-08-01T00:00:00",
          "1955-09-01T00:00:00",
          "1955-10-01T00:00:00",
          "1955-11-01T00:00:00",
          "1955-12-01T00:00:00",
          "1956-01-01T00:00:00",
          "1956-02-01T00:00:00",
          "1956-03-01T00:00:00",
          "1956-04-01T00:00:00",
          "1956-05-01T00:00:00",
          "1956-06-01T00:00:00",
          "1956-07-01T00:00:00",
          "1956-08-01T00:00:00",
          "1956-09-01T00:00:00",
          "1956-10-01T00:00:00",
          "1956-11-01T00:00:00",
          "1956-12-01T00:00:00",
          "1957-01-01T00:00:00",
          "1957-02-01T00:00:00",
          "1957-03-01T00:00:00",
          "1957-04-01T00:00:00",
          "1957-05-01T00:00:00",
          "1957-06-01T00:00:00",
          "1957-07-01T00:00:00",
          "1957-08-01T00:00:00",
          "1957-09-01T00:00:00",
          "1957-10-01T00:00:00",
          "1957-11-01T00:00:00",
          "1957-12-01T00:00:00",
          "1958-01-01T00:00:00",
          "1958-02-01T00:00:00",
          "1958-03-01T00:00:00",
          "1958-04-01T00:00:00",
          "1958-05-01T00:00:00",
          "1958-06-01T00:00:00",
          "1958-07-01T00:00:00",
          "1958-08-01T00:00:00",
          "1958-09-01T00:00:00",
          "1958-10-01T00:00:00",
          "1958-11-01T00:00:00",
          "1958-12-01T00:00:00"
         ],
         "y": [
          112,
          118,
          132,
          129,
          121,
          135,
          148,
          148,
          136,
          119,
          104,
          118,
          115,
          126,
          141,
          135,
          125,
          149,
          170,
          170,
          158,
          133,
          114,
          140,
          145,
          150,
          178,
          163,
          172,
          178,
          199,
          199,
          184,
          162,
          146,
          166,
          171,
          180,
          193,
          181,
          183,
          218,
          230,
          242,
          209,
          191,
          172,
          194,
          196,
          196,
          236,
          235,
          229,
          243,
          264,
          272,
          237,
          211,
          180,
          201,
          204,
          188,
          235,
          227,
          234,
          264,
          302,
          293,
          259,
          229,
          203,
          229,
          242,
          233,
          267,
          269,
          270,
          315,
          364,
          347,
          312,
          274,
          237,
          278,
          284,
          277,
          317,
          313,
          318,
          374,
          413,
          405,
          355,
          306,
          271,
          306,
          315,
          301,
          356,
          348,
          355,
          422,
          465,
          467,
          404,
          347,
          305,
          336,
          340,
          318,
          362,
          348,
          363,
          435,
          491,
          505,
          404,
          359,
          310,
          337
         ]
        },
        {
         "hoverinfo": "skip",
         "line": {
          "width": 0
         },
         "mode": "lines",
         "type": "scatter",
         "x": [
          "1959-01-01T00:00:00",
          "1959-02-01T00:00:00",
          "1959-03-01T00:00:00",
          "1959-04-01T00:00:00",
          "1959-05-01T00:00:00",
          "1959-06-01T00:00:00",
          "1959-07-01T00:00:00",
          "1959-08-01T00:00:00",
          "1959-09-01T00:00:00",
          "1959-10-01T00:00:00",
          "1959-11-01T00:00:00",
          "1959-12-01T00:00:00",
          "1960-01-01T00:00:00",
          "1960-02-01T00:00:00",
          "1960-03-01T00:00:00",
          "1960-04-01T00:00:00",
          "1960-05-01T00:00:00",
          "1960-06-01T00:00:00",
          "1960-07-01T00:00:00",
          "1960-08-01T00:00:00",
          "1960-09-01T00:00:00",
          "1960-10-01T00:00:00",
          "1960-11-01T00:00:00",
          "1960-12-01T00:00:00"
         ],
         "y": [
          368.340126638247,
          364.4157453631026,
          396.48191605451547,
          389.0627516095735,
          395.05242736597705,
          429.58505751034664,
          464.05359624932936,
          459.72570801523005,
          426.1832799742856,
          392.7946600732389,
          363.5768644164483,
          388.83041355243455,
          402.4011002196772,
          400.36028844452886,
          434.48765509663457,
          426.83703338082285,
          427.7941770948649,
          466.59342296902366,
          493.574774069917,
          499.37103528300213,
          460.73802242167045,
          426.2279133704976,
          397.56804117279484,
          424.08631501689376
         ]
        },
        {
         "fill": "tonexty",
         "fillcolor": "rgba(0, 114, 178, 0.2)",
         "line": {
          "color": "#0072B2",
          "width": 2
         },
         "mode": "lines",
         "name": "Predicted",
         "type": "scatter",
         "x": [
          "1959-01-01T00:00:00",
          "1959-02-01T00:00:00",
          "1959-03-01T00:00:00",
          "1959-04-01T00:00:00",
          "1959-05-01T00:00:00",
          "1959-06-01T00:00:00",
          "1959-07-01T00:00:00",
          "1959-08-01T00:00:00",
          "1959-09-01T00:00:00",
          "1959-10-01T00:00:00",
          "1959-11-01T00:00:00",
          "1959-12-01T00:00:00",
          "1960-01-01T00:00:00",
          "1960-02-01T00:00:00",
          "1960-03-01T00:00:00",
          "1960-04-01T00:00:00",
          "1960-05-01T00:00:00",
          "1960-06-01T00:00:00",
          "1960-07-01T00:00:00",
          "1960-08-01T00:00:00",
          "1960-09-01T00:00:00",
          "1960-10-01T00:00:00",
          "1960-11-01T00:00:00",
          "1960-12-01T00:00:00"
         ],
         "y": [
          390.7240382707904,
          388.16682412112823,
          419.3007588563943,
          413.35758249674706,
          418.0418495488546,
          452.94093123543723,
          487.58711813787784,
          485.3326985298403,
          449.30109288924024,
          415.60007912919275,
          386.75474197585453,
          413.7941448176846,
          425.9620778072344,
          424.34271150936615,
          457.92856892233334,
          450.99693353131255,
          451.6138636129095,
          490.1692473973554,
          518.918438555817,
          522.4064412966002,
          485.1626840593063,
          450.4373463963815,
          422.2868299639186,
          448.58650688787674
         ]
        },
        {
         "fill": "tonexty",
         "fillcolor": "rgba(0, 114, 178, 0.2)",
         "hoverinfo": "skip",
         "line": {
          "width": 0
         },
         "mode": "lines",
         "type": "scatter",
         "x": [
          "1959-01-01T00:00:00",
          "1959-02-01T00:00:00",
          "1959-03-01T00:00:00",
          "1959-04-01T00:00:00",
          "1959-05-01T00:00:00",
          "1959-06-01T00:00:00",
          "1959-07-01T00:00:00",
          "1959-08-01T00:00:00",
          "1959-09-01T00:00:00",
          "1959-10-01T00:00:00",
          "1959-11-01T00:00:00",
          "1959-12-01T00:00:00",
          "1960-01-01T00:00:00",
          "1960-02-01T00:00:00",
          "1960-03-01T00:00:00",
          "1960-04-01T00:00:00",
          "1960-05-01T00:00:00",
          "1960-06-01T00:00:00",
          "1960-07-01T00:00:00",
          "1960-08-01T00:00:00",
          "1960-09-01T00:00:00",
          "1960-10-01T00:00:00",
          "1960-11-01T00:00:00",
          "1960-12-01T00:00:00"
         ],
         "y": [
          415.04299151866627,
          411.516882506605,
          442.6239925014061,
          436.4447747825299,
          441.1228112153493,
          477.0403396986635,
          511.2516245395937,
          509.42947117168814,
          474.854934946012,
          439.0321480925234,
          411.2366614265282,
          437.76717331119,
          449.5572365257189,
          448.65417207413134,
          481.9187731715647,
          475.7082093227239,
          476.07237914132753,
          513.8772404929806,
          542.1997197289993,
          546.7171643116563,
          508.8185055514632,
          474.7741754009708,
          446.440818642851,
          471.32152304684814
         ]
        }
       ],
       "layout": {
        "height": 600,
        "showlegend": false,
        "template": {
         "data": {
          "bar": [
           {
            "error_x": {
             "color": "#2a3f5f"
            },
            "error_y": {
             "color": "#2a3f5f"
            },
            "marker": {
             "line": {
              "color": "#E5ECF6",
              "width": 0.5
             },
             "pattern": {
              "fillmode": "overlay",
              "size": 10,
              "solidity": 0.2
             }
            },
            "type": "bar"
           }
          ],
          "barpolar": [
           {
            "marker": {
             "line": {
              "color": "#E5ECF6",
              "width": 0.5
             },
             "pattern": {
              "fillmode": "overlay",
              "size": 10,
              "solidity": 0.2
             }
            },
            "type": "barpolar"
           }
          ],
          "carpet": [
           {
            "aaxis": {
             "endlinecolor": "#2a3f5f",
             "gridcolor": "white",
             "linecolor": "white",
             "minorgridcolor": "white",
             "startlinecolor": "#2a3f5f"
            },
            "baxis": {
             "endlinecolor": "#2a3f5f",
             "gridcolor": "white",
             "linecolor": "white",
             "minorgridcolor": "white",
             "startlinecolor": "#2a3f5f"
            },
            "type": "carpet"
           }
          ],
          "choropleth": [
           {
            "colorbar": {
             "outlinewidth": 0,
             "ticks": ""
            },
            "type": "choropleth"
           }
          ],
          "contour": [
           {
            "colorbar": {
             "outlinewidth": 0,
             "ticks": ""
            },
            "colorscale": [
             [
              0,
              "#0d0887"
             ],
             [
              0.1111111111111111,
              "#46039f"
             ],
             [
              0.2222222222222222,
              "#7201a8"
             ],
             [
              0.3333333333333333,
              "#9c179e"
             ],
             [
              0.4444444444444444,
              "#bd3786"
             ],
             [
              0.5555555555555556,
              "#d8576b"
             ],
             [
              0.6666666666666666,
              "#ed7953"
             ],
             [
              0.7777777777777778,
              "#fb9f3a"
             ],
             [
              0.8888888888888888,
              "#fdca26"
             ],
             [
              1,
              "#f0f921"
             ]
            ],
            "type": "contour"
           }
          ],
          "contourcarpet": [
           {
            "colorbar": {
             "outlinewidth": 0,
             "ticks": ""
            },
            "type": "contourcarpet"
           }
          ],
          "heatmap": [
           {
            "colorbar": {
             "outlinewidth": 0,
             "ticks": ""
            },
            "colorscale": [
             [
              0,
              "#0d0887"
             ],
             [
              0.1111111111111111,
              "#46039f"
             ],
             [
              0.2222222222222222,
              "#7201a8"
             ],
             [
              0.3333333333333333,
              "#9c179e"
             ],
             [
              0.4444444444444444,
              "#bd3786"
             ],
             [
              0.5555555555555556,
              "#d8576b"
             ],
             [
              0.6666666666666666,
              "#ed7953"
             ],
             [
              0.7777777777777778,
              "#fb9f3a"
             ],
             [
              0.8888888888888888,
              "#fdca26"
             ],
             [
              1,
              "#f0f921"
             ]
            ],
            "type": "heatmap"
           }
          ],
          "heatmapgl": [
           {
            "colorbar": {
             "outlinewidth": 0,
             "ticks": ""
            },
            "colorscale": [
             [
              0,
              "#0d0887"
             ],
             [
              0.1111111111111111,
              "#46039f"
             ],
             [
              0.2222222222222222,
              "#7201a8"
             ],
             [
              0.3333333333333333,
              "#9c179e"
             ],
             [
              0.4444444444444444,
              "#bd3786"
             ],
             [
              0.5555555555555556,
              "#d8576b"
             ],
             [
              0.6666666666666666,
              "#ed7953"
             ],
             [
              0.7777777777777778,
              "#fb9f3a"
             ],
             [
              0.8888888888888888,
              "#fdca26"
             ],
             [
              1,
              "#f0f921"
             ]
            ],
            "type": "heatmapgl"
           }
          ],
          "histogram": [
           {
            "marker": {
             "pattern": {
              "fillmode": "overlay",
              "size": 10,
              "solidity": 0.2
             }
            },
            "type": "histogram"
           }
          ],
          "histogram2d": [
           {
            "colorbar": {
             "outlinewidth": 0,
             "ticks": ""
            },
            "colorscale": [
             [
              0,
              "#0d0887"
             ],
             [
              0.1111111111111111,
              "#46039f"
             ],
             [
              0.2222222222222222,
              "#7201a8"
             ],
             [
              0.3333333333333333,
              "#9c179e"
             ],
             [
              0.4444444444444444,
              "#bd3786"
             ],
             [
              0.5555555555555556,
              "#d8576b"
             ],
             [
              0.6666666666666666,
              "#ed7953"
             ],
             [
              0.7777777777777778,
              "#fb9f3a"
             ],
             [
              0.8888888888888888,
              "#fdca26"
             ],
             [
              1,
              "#f0f921"
             ]
            ],
            "type": "histogram2d"
           }
          ],
          "histogram2dcontour": [
           {
            "colorbar": {
             "outlinewidth": 0,
             "ticks": ""
            },
            "colorscale": [
             [
              0,
              "#0d0887"
             ],
             [
              0.1111111111111111,
              "#46039f"
             ],
             [
              0.2222222222222222,
              "#7201a8"
             ],
             [
              0.3333333333333333,
              "#9c179e"
             ],
             [
              0.4444444444444444,
              "#bd3786"
             ],
             [
              0.5555555555555556,
              "#d8576b"
             ],
             [
              0.6666666666666666,
              "#ed7953"
             ],
             [
              0.7777777777777778,
              "#fb9f3a"
             ],
             [
              0.8888888888888888,
              "#fdca26"
             ],
             [
              1,
              "#f0f921"
             ]
            ],
            "type": "histogram2dcontour"
           }
          ],
          "mesh3d": [
           {
            "colorbar": {
             "outlinewidth": 0,
             "ticks": ""
            },
            "type": "mesh3d"
           }
          ],
          "parcoords": [
           {
            "line": {
             "colorbar": {
              "outlinewidth": 0,
              "ticks": ""
             }
            },
            "type": "parcoords"
           }
          ],
          "pie": [
           {
            "automargin": true,
            "type": "pie"
           }
          ],
          "scatter": [
           {
            "fillpattern": {
             "fillmode": "overlay",
             "size": 10,
             "solidity": 0.2
            },
            "type": "scatter"
           }
          ],
          "scatter3d": [
           {
            "line": {
             "colorbar": {
              "outlinewidth": 0,
              "ticks": ""
             }
            },
            "marker": {
             "colorbar": {
              "outlinewidth": 0,
              "ticks": ""
             }
            },
            "type": "scatter3d"
           }
          ],
          "scattercarpet": [
           {
            "marker": {
             "colorbar": {
              "outlinewidth": 0,
              "ticks": ""
             }
            },
            "type": "scattercarpet"
           }
          ],
          "scattergeo": [
           {
            "marker": {
             "colorbar": {
              "outlinewidth": 0,
              "ticks": ""
             }
            },
            "type": "scattergeo"
           }
          ],
          "scattergl": [
           {
            "marker": {
             "colorbar": {
              "outlinewidth": 0,
              "ticks": ""
             }
            },
            "type": "scattergl"
           }
          ],
          "scattermapbox": [
           {
            "marker": {
             "colorbar": {
              "outlinewidth": 0,
              "ticks": ""
             }
            },
            "type": "scattermapbox"
           }
          ],
          "scatterpolar": [
           {
            "marker": {
             "colorbar": {
              "outlinewidth": 0,
              "ticks": ""
             }
            },
            "type": "scatterpolar"
           }
          ],
          "scatterpolargl": [
           {
            "marker": {
             "colorbar": {
              "outlinewidth": 0,
              "ticks": ""
             }
            },
            "type": "scatterpolargl"
           }
          ],
          "scatterternary": [
           {
            "marker": {
             "colorbar": {
              "outlinewidth": 0,
              "ticks": ""
             }
            },
            "type": "scatterternary"
           }
          ],
          "surface": [
           {
            "colorbar": {
             "outlinewidth": 0,
             "ticks": ""
            },
            "colorscale": [
             [
              0,
              "#0d0887"
             ],
             [
              0.1111111111111111,
              "#46039f"
             ],
             [
              0.2222222222222222,
              "#7201a8"
             ],
             [
              0.3333333333333333,
              "#9c179e"
             ],
             [
              0.4444444444444444,
              "#bd3786"
             ],
             [
              0.5555555555555556,
              "#d8576b"
             ],
             [
              0.6666666666666666,
              "#ed7953"
             ],
             [
              0.7777777777777778,
              "#fb9f3a"
             ],
             [
              0.8888888888888888,
              "#fdca26"
             ],
             [
              1,
              "#f0f921"
             ]
            ],
            "type": "surface"
           }
          ],
          "table": [
           {
            "cells": {
             "fill": {
              "color": "#EBF0F8"
             },
             "line": {
              "color": "white"
             }
            },
            "header": {
             "fill": {
              "color": "#C8D4E3"
             },
             "line": {
              "color": "white"
             }
            },
            "type": "table"
           }
          ]
         },
         "layout": {
          "annotationdefaults": {
           "arrowcolor": "#2a3f5f",
           "arrowhead": 0,
           "arrowwidth": 1
          },
          "autotypenumbers": "strict",
          "coloraxis": {
           "colorbar": {
            "outlinewidth": 0,
            "ticks": ""
           }
          },
          "colorscale": {
           "diverging": [
            [
             0,
             "#8e0152"
            ],
            [
             0.1,
             "#c51b7d"
            ],
            [
             0.2,
             "#de77ae"
            ],
            [
             0.3,
             "#f1b6da"
            ],
            [
             0.4,
             "#fde0ef"
            ],
            [
             0.5,
             "#f7f7f7"
            ],
            [
             0.6,
             "#e6f5d0"
            ],
            [
             0.7,
             "#b8e186"
            ],
            [
             0.8,
             "#7fbc41"
            ],
            [
             0.9,
             "#4d9221"
            ],
            [
             1,
             "#276419"
            ]
           ],
           "sequential": [
            [
             0,
             "#0d0887"
            ],
            [
             0.1111111111111111,
             "#46039f"
            ],
            [
             0.2222222222222222,
             "#7201a8"
            ],
            [
             0.3333333333333333,
             "#9c179e"
            ],
            [
             0.4444444444444444,
             "#bd3786"
            ],
            [
             0.5555555555555556,
             "#d8576b"
            ],
            [
             0.6666666666666666,
             "#ed7953"
            ],
            [
             0.7777777777777778,
             "#fb9f3a"
            ],
            [
             0.8888888888888888,
             "#fdca26"
            ],
            [
             1,
             "#f0f921"
            ]
           ],
           "sequentialminus": [
            [
             0,
             "#0d0887"
            ],
            [
             0.1111111111111111,
             "#46039f"
            ],
            [
             0.2222222222222222,
             "#7201a8"
            ],
            [
             0.3333333333333333,
             "#9c179e"
            ],
            [
             0.4444444444444444,
             "#bd3786"
            ],
            [
             0.5555555555555556,
             "#d8576b"
            ],
            [
             0.6666666666666666,
             "#ed7953"
            ],
            [
             0.7777777777777778,
             "#fb9f3a"
            ],
            [
             0.8888888888888888,
             "#fdca26"
            ],
            [
             1,
             "#f0f921"
            ]
           ]
          },
          "colorway": [
           "#636efa",
           "#EF553B",
           "#00cc96",
           "#ab63fa",
           "#FFA15A",
           "#19d3f3",
           "#FF6692",
           "#B6E880",
           "#FF97FF",
           "#FECB52"
          ],
          "font": {
           "color": "#2a3f5f"
          },
          "geo": {
           "bgcolor": "white",
           "lakecolor": "white",
           "landcolor": "#E5ECF6",
           "showlakes": true,
           "showland": true,
           "subunitcolor": "white"
          },
          "hoverlabel": {
           "align": "left"
          },
          "hovermode": "closest",
          "mapbox": {
           "style": "light"
          },
          "paper_bgcolor": "white",
          "plot_bgcolor": "#E5ECF6",
          "polar": {
           "angularaxis": {
            "gridcolor": "white",
            "linecolor": "white",
            "ticks": ""
           },
           "bgcolor": "#E5ECF6",
           "radialaxis": {
            "gridcolor": "white",
            "linecolor": "white",
            "ticks": ""
           }
          },
          "scene": {
           "xaxis": {
            "backgroundcolor": "#E5ECF6",
            "gridcolor": "white",
            "gridwidth": 2,
            "linecolor": "white",
            "showbackground": true,
            "ticks": "",
            "zerolinecolor": "white"
           },
           "yaxis": {
            "backgroundcolor": "#E5ECF6",
            "gridcolor": "white",
            "gridwidth": 2,
            "linecolor": "white",
            "showbackground": true,
            "ticks": "",
            "zerolinecolor": "white"
           },
           "zaxis": {
            "backgroundcolor": "#E5ECF6",
            "gridcolor": "white",
            "gridwidth": 2,
            "linecolor": "white",
            "showbackground": true,
            "ticks": "",
            "zerolinecolor": "white"
           }
          },
          "shapedefaults": {
           "line": {
            "color": "#2a3f5f"
           }
          },
          "ternary": {
           "aaxis": {
            "gridcolor": "white",
            "linecolor": "white",
            "ticks": ""
           },
           "baxis": {
            "gridcolor": "white",
            "linecolor": "white",
            "ticks": ""
           },
           "bgcolor": "#E5ECF6",
           "caxis": {
            "gridcolor": "white",
            "linecolor": "white",
            "ticks": ""
           }
          },
          "title": {
           "x": 0.05
          },
          "xaxis": {
           "automargin": true,
           "gridcolor": "white",
           "linecolor": "white",
           "ticks": "",
           "title": {
            "standoff": 15
           },
           "zerolinecolor": "white",
           "zerolinewidth": 2
          },
          "yaxis": {
           "automargin": true,
           "gridcolor": "white",
           "linecolor": "white",
           "ticks": "",
           "title": {
            "standoff": 15
           },
           "zerolinecolor": "white",
           "zerolinewidth": 2
          }
         }
        },
        "width": 900,
        "xaxis": {
         "rangeselector": {
          "buttons": [
           {
            "count": 7,
            "label": "1w",
            "step": "day",
            "stepmode": "backward"
           },
           {
            "count": 1,
            "label": "1m",
            "step": "month",
            "stepmode": "backward"
           },
           {
            "count": 6,
            "label": "6m",
            "step": "month",
            "stepmode": "backward"
           },
           {
            "count": 1,
            "label": "1y",
            "step": "year",
            "stepmode": "backward"
           },
           {
            "step": "all"
           }
          ]
         },
         "rangeslider": {
          "visible": true
         },
         "title": {
          "text": "ds"
         },
         "type": "date"
        },
        "yaxis": {
         "title": {
          "text": "y"
         }
        }
       }
      }
     },
     "metadata": {},
     "output_type": "display_data"
    }
   ],
   "source": [
    "plot_plotly(model, forecast)"
   ]
  },
  {
   "cell_type": "code",
   "execution_count": 17,
   "metadata": {},
   "outputs": [
    {
     "data": {
      "image/png": "[encoded data removed]",
      "text/plain": [
       "<Figure size 900x900 with 3 Axes>"
      ]
     },
     "execution_count": 17,
     "metadata": {},
     "output_type": "execute_result"
    },
    {
     "data": {
      "image/png": "[encoded data removed]",
      "text/plain": [
       "<Figure size 900x900 with 3 Axes>"
      ]
     },
     "metadata": {},
     "output_type": "display_data"
    }
   ],
   "source": [
    "model.plot_components(forecast)"
   ]
  },
  {
   "cell_type": "code",
   "execution_count": 18,
   "metadata": {},
   "outputs": [
    {
     "data": {
      "image/png": "[encoded data removed]",
      "text/plain": [
       "<Figure size 1000x600 with 1 Axes>"
      ]
     },
     "metadata": {},
     "output_type": "display_data"
    }
   ],
   "source": [
    "fig = plot_forecast_component(model, forecast, 'Thanksgiving')"
   ]
  },
  {
   "cell_type": "code",
   "execution_count": 19,
   "metadata": {},
   "outputs": [
    {
     "data": {
      "image/png": "[encoded data removed]",
      "text/plain": [
       "<Figure size 1000x600 with 1 Axes>"
      ]
     },
     "metadata": {},
     "output_type": "display_data"
    }
   ],
   "source": [
    "fig = plot_forecast_component(model, forecast, 'Christmas Day')"
   ]
  },
  {
   "cell_type": "code",
   "execution_count": 20,
   "metadata": {},
   "outputs": [
    {
     "data": {
      "image/png": "[encoded data removed]",
      "text/plain": [
       "<Figure size 1000x600 with 1 Axes>"
      ]
     },
     "metadata": {},
     "output_type": "display_data"
    }
   ],
   "source": [
    "fig = plot_forecast_component(model, forecast, 'Independence Day')"
   ]
  },
  {
   "cell_type": "code",
   "execution_count": 21,
   "metadata": {},
   "outputs": [
    {
     "data": {
      "image/png": "[encoded data removed]",
      "text/plain": [
       "<Figure size 1000x600 with 1 Axes>"
      ]
     },
     "metadata": {},
     "output_type": "display_data"
    }
   ],
   "source": [
    "# Change point detection\n",
    "fig = model.plot(forecast)\n",
    "a = add_changepoints_to_plot(fig.gca(), model, forecast)"
   ]
  },
  {
   "cell_type": "code",
   "execution_count": 22,
   "metadata": {},
   "outputs": [],
   "source": [
    "# model.changepoints"
   ]
  },
  {
   "cell_type": "code",
   "execution_count": null,
   "metadata": {},
   "outputs": [],
   "source": []
  },
  {
   "cell_type": "code",
   "execution_count": 23,
   "metadata": {},
   "outputs": [
    {
     "data": {
      "application/vnd.plotly.v1+json": {
       "config": {
        "plotlyServerURL": "https://plot.ly"
       },
       "data": [
        {
         "marker": {
          "color": "blue",
          "size": 10
         },
         "name": "Train",
         "textfont": {
          "color": "black",
          "family": "Times New Roman",
          "size": 18
         },
         "type": "scatter",
         "x": [
          "1949-01-01T00:00:00",
          "1949-02-01T00:00:00",
          "1949-03-01T00:00:00",
          "1949-04-01T00:00:00",
          "1949-05-01T00:00:00",
          "1949-06-01T00:00:00",
          "1949-07-01T00:00:00",
          "1949-08-01T00:00:00",
          "1949-09-01T00:00:00",
          "1949-10-01T00:00:00",
          "1949-11-01T00:00:00",
          "1949-12-01T00:00:00",
          "1950-01-01T00:00:00",
          "1950-02-01T00:00:00",
          "1950-03-01T00:00:00",
          "1950-04-01T00:00:00",
          "1950-05-01T00:00:00",
          "1950-06-01T00:00:00",
          "1950-07-01T00:00:00",
          "1950-08-01T00:00:00",
          "1950-09-01T00:00:00",
          "1950-10-01T00:00:00",
          "1950-11-01T00:00:00",
          "1950-12-01T00:00:00",
          "1951-01-01T00:00:00",
          "1951-02-01T00:00:00",
          "1951-03-01T00:00:00",
          "1951-04-01T00:00:00",
          "1951-05-01T00:00:00",
          "1951-06-01T00:00:00",
          "1951-07-01T00:00:00",
          "1951-08-01T00:00:00",
          "1951-09-01T00:00:00",
          "1951-10-01T00:00:00",
          "1951-11-01T00:00:00",
          "1951-12-01T00:00:00",
          "1952-01-01T00:00:00",
          "1952-02-01T00:00:00",
          "1952-03-01T00:00:00",
          "1952-04-01T00:00:00",
          "1952-05-01T00:00:00",
          "1952-06-01T00:00:00",
          "1952-07-01T00:00:00",
          "1952-08-01T00:00:00",
          "1952-09-01T00:00:00",
          "1952-10-01T00:00:00",
          "1952-11-01T00:00:00",
          "1952-12-01T00:00:00",
          "1953-01-01T00:00:00",
          "1953-02-01T00:00:00",
          "1953-03-01T00:00:00",
          "1953-04-01T00:00:00",
          "1953-05-01T00:00:00",
          "1953-06-01T00:00:00",
          "1953-07-01T00:00:00",
          "1953-08-01T00:00:00",
          "1953-09-01T00:00:00",
          "1953-10-01T00:00:00",
          "1953-11-01T00:00:00",
          "1953-12-01T00:00:00",
          "1954-01-01T00:00:00",
          "1954-02-01T00:00:00",
          "1954-03-01T00:00:00",
          "1954-04-01T00:00:00",
          "1954-05-01T00:00:00",
          "1954-06-01T00:00:00",
          "1954-07-01T00:00:00",
          "1954-08-01T00:00:00",
          "1954-09-01T00:00:00",
          "1954-10-01T00:00:00",
          "1954-11-01T00:00:00",
          "1954-12-01T00:00:00",
          "1955-01-01T00:00:00",
          "1955-02-01T00:00:00",
          "1955-03-01T00:00:00",
          "1955-04-01T00:00:00",
          "1955-05-01T00:00:00",
          "1955-06-01T00:00:00",
          "1955-07-01T00:00:00",
          "1955-08-01T00:00:00",
          "1955-09-01T00:00:00",
          "1955-10-01T00:00:00",
          "1955-11-01T00:00:00",
          "1955-12-01T00:00:00",
          "1956-01-01T00:00:00",
          "1956-02-01T00:00:00",
          "1956-03-01T00:00:00",
          "1956-04-01T00:00:00",
          "1956-05-01T00:00:00",
          "1956-06-01T00:00:00",
          "1956-07-01T00:00:00",
          "1956-08-01T00:00:00",
          "1956-09-01T00:00:00",
          "1956-10-01T00:00:00",
          "1956-11-01T00:00:00",
          "1956-12-01T00:00:00",
          "1957-01-01T00:00:00",
          "1957-02-01T00:00:00",
          "1957-03-01T00:00:00",
          "1957-04-01T00:00:00",
          "1957-05-01T00:00:00",
          "1957-06-01T00:00:00",
          "1957-07-01T00:00:00",
          "1957-08-01T00:00:00",
          "1957-09-01T00:00:00",
          "1957-10-01T00:00:00",
          "1957-11-01T00:00:00",
          "1957-12-01T00:00:00",
          "1958-01-01T00:00:00",
          "1958-02-01T00:00:00",
          "1958-03-01T00:00:00",
          "1958-04-01T00:00:00",
          "1958-05-01T00:00:00",
          "1958-06-01T00:00:00",
          "1958-07-01T00:00:00",
          "1958-08-01T00:00:00",
          "1958-09-01T00:00:00",
          "1958-10-01T00:00:00",
          "1958-11-01T00:00:00",
          "1958-12-01T00:00:00"
         ],
         "y": [
          112,
          118,
          132,
          129,
          121,
          135,
          148,
          148,
          136,
          119,
          104,
          118,
          115,
          126,
          141,
          135,
          125,
          149,
          170,
          170,
          158,
          133,
          114,
          140,
          145,
          150,
          178,
          163,
          172,
          178,
          199,
          199,
          184,
          162,
          146,
          166,
          171,
          180,
          193,
          181,
          183,
          218,
          230,
          242,
          209,
          191,
          172,
          194,
          196,
          196,
          236,
          235,
          229,
          243,
          264,
          272,
          237,
          211,
          180,
          201,
          204,
          188,
          235,
          227,
          234,
          264,
          302,
          293,
          259,
          229,
          203,
          229,
          242,
          233,
          267,
          269,
          270,
          315,
          364,
          347,
          312,
          274,
          237,
          278,
          284,
          277,
          317,
          313,
          318,
          374,
          413,
          405,
          355,
          306,
          271,
          306,
          315,
          301,
          356,
          348,
          355,
          422,
          465,
          467,
          404,
          347,
          305,
          336,
          340,
          318,
          362,
          348,
          363,
          435,
          491,
          505,
          404,
          359,
          310,
          337
         ]
        },
        {
         "marker": {
          "color": "red",
          "size": 10
         },
         "name": "Valid",
         "type": "scatter",
         "x": [
          "1959-01-01T00:00:00",
          "1959-02-01T00:00:00",
          "1959-03-01T00:00:00",
          "1959-04-01T00:00:00",
          "1959-05-01T00:00:00",
          "1959-06-01T00:00:00",
          "1959-07-01T00:00:00",
          "1959-08-01T00:00:00",
          "1959-09-01T00:00:00",
          "1959-10-01T00:00:00",
          "1959-11-01T00:00:00",
          "1959-12-01T00:00:00",
          "1960-01-01T00:00:00",
          "1960-02-01T00:00:00",
          "1960-03-01T00:00:00",
          "1960-04-01T00:00:00",
          "1960-05-01T00:00:00",
          "1960-06-01T00:00:00",
          "1960-07-01T00:00:00",
          "1960-08-01T00:00:00",
          "1960-09-01T00:00:00",
          "1960-10-01T00:00:00",
          "1960-11-01T00:00:00",
          "1960-12-01T00:00:00"
         ],
         "y": [
          360,
          342,
          406,
          396,
          420,
          472,
          548,
          559,
          463,
          407,
          362,
          405,
          417,
          391,
          419,
          461,
          472,
          535,
          622,
          606,
          508,
          461,
          390,
          432
         ]
        },
        {
         "marker": {
          "color": "green",
          "size": 10
         },
         "name": "Predict",
         "type": "scatter",
         "x": [
          "1959-01-01T00:00:00",
          "1959-02-01T00:00:00",
          "1959-03-01T00:00:00",
          "1959-04-01T00:00:00",
          "1959-05-01T00:00:00",
          "1959-06-01T00:00:00",
          "1959-07-01T00:00:00",
          "1959-08-01T00:00:00",
          "1959-09-01T00:00:00",
          "1959-10-01T00:00:00",
          "1959-11-01T00:00:00",
          "1959-12-01T00:00:00",
          "1960-01-01T00:00:00",
          "1960-02-01T00:00:00",
          "1960-03-01T00:00:00",
          "1960-04-01T00:00:00",
          "1960-05-01T00:00:00",
          "1960-06-01T00:00:00",
          "1960-07-01T00:00:00",
          "1960-08-01T00:00:00",
          "1960-09-01T00:00:00",
          "1960-10-01T00:00:00",
          "1960-11-01T00:00:00",
          "1960-12-01T00:00:00"
         ],
         "y": [
          390.7240382707904,
          388.16682412112823,
          419.3007588563943,
          413.35758249674706,
          418.0418495488546,
          452.94093123543723,
          487.58711813787784,
          485.3326985298403,
          449.30109288924024,
          415.60007912919275,
          386.75474197585453,
          413.7941448176846,
          425.9620778072344,
          424.34271150936615,
          457.92856892233334,
          450.99693353131255,
          451.6138636129095,
          490.1692473973554,
          518.918438555817,
          522.4064412966002,
          485.1626840593063,
          450.4373463963815,
          422.2868299639186,
          448.58650688787674
         ]
        }
       ],
       "layout": {
        "legend": {
         "orientation": "h",
         "x": 1,
         "xanchor": "right",
         "y": 1.02,
         "yanchor": "bottom"
        },
        "template": {
         "data": {
          "bar": [
           {
            "error_x": {
             "color": "#2a3f5f"
            },
            "error_y": {
             "color": "#2a3f5f"
            },
            "marker": {
             "line": {
              "color": "#E5ECF6",
              "width": 0.5
             },
             "pattern": {
              "fillmode": "overlay",
              "size": 10,
              "solidity": 0.2
             }
            },
            "type": "bar"
           }
          ],
          "barpolar": [
           {
            "marker": {
             "line": {
              "color": "#E5ECF6",
              "width": 0.5
             },
             "pattern": {
              "fillmode": "overlay",
              "size": 10,
              "solidity": 0.2
             }
            },
            "type": "barpolar"
           }
          ],
          "carpet": [
           {
            "aaxis": {
             "endlinecolor": "#2a3f5f",
             "gridcolor": "white",
             "linecolor": "white",
             "minorgridcolor": "white",
             "startlinecolor": "#2a3f5f"
            },
            "baxis": {
             "endlinecolor": "#2a3f5f",
             "gridcolor": "white",
             "linecolor": "white",
             "minorgridcolor": "white",
             "startlinecolor": "#2a3f5f"
            },
            "type": "carpet"
           }
          ],
          "choropleth": [
           {
            "colorbar": {
             "outlinewidth": 0,
             "ticks": ""
            },
            "type": "choropleth"
           }
          ],
          "contour": [
           {
            "colorbar": {
             "outlinewidth": 0,
             "ticks": ""
            },
            "colorscale": [
             [
              0,
              "#0d0887"
             ],
             [
              0.1111111111111111,
              "#46039f"
             ],
             [
              0.2222222222222222,
              "#7201a8"
             ],
             [
              0.3333333333333333,
              "#9c179e"
             ],
             [
              0.4444444444444444,
              "#bd3786"
             ],
             [
              0.5555555555555556,
              "#d8576b"
             ],
             [
              0.6666666666666666,
              "#ed7953"
             ],
             [
              0.7777777777777778,
              "#fb9f3a"
             ],
             [
              0.8888888888888888,
              "#fdca26"
             ],
             [
              1,
              "#f0f921"
             ]
            ],
            "type": "contour"
           }
          ],
          "contourcarpet": [
           {
            "colorbar": {
             "outlinewidth": 0,
             "ticks": ""
            },
            "type": "contourcarpet"
           }
          ],
          "heatmap": [
           {
            "colorbar": {
             "outlinewidth": 0,
             "ticks": ""
            },
            "colorscale": [
             [
              0,
              "#0d0887"
             ],
             [
              0.1111111111111111,
              "#46039f"
             ],
             [
              0.2222222222222222,
              "#7201a8"
             ],
             [
              0.3333333333333333,
              "#9c179e"
             ],
             [
              0.4444444444444444,
              "#bd3786"
             ],
             [
              0.5555555555555556,
              "#d8576b"
             ],
             [
              0.6666666666666666,
              "#ed7953"
             ],
             [
              0.7777777777777778,
              "#fb9f3a"
             ],
             [
              0.8888888888888888,
              "#fdca26"
             ],
             [
              1,
              "#f0f921"
             ]
            ],
            "type": "heatmap"
           }
          ],
          "heatmapgl": [
           {
            "colorbar": {
             "outlinewidth": 0,
             "ticks": ""
            },
            "colorscale": [
             [
              0,
              "#0d0887"
             ],
             [
              0.1111111111111111,
              "#46039f"
             ],
             [
              0.2222222222222222,
              "#7201a8"
             ],
             [
              0.3333333333333333,
              "#9c179e"
             ],
             [
              0.4444444444444444,
              "#bd3786"
             ],
             [
              0.5555555555555556,
              "#d8576b"
             ],
             [
              0.6666666666666666,
              "#ed7953"
             ],
             [
              0.7777777777777778,
              "#fb9f3a"
             ],
             [
              0.8888888888888888,
              "#fdca26"
             ],
             [
              1,
              "#f0f921"
             ]
            ],
            "type": "heatmapgl"
           }
          ],
          "histogram": [
           {
            "marker": {
             "pattern": {
              "fillmode": "overlay",
              "size": 10,
              "solidity": 0.2
             }
            },
            "type": "histogram"
           }
          ],
          "histogram2d": [
           {
            "colorbar": {
             "outlinewidth": 0,
             "ticks": ""
            },
            "colorscale": [
             [
              0,
              "#0d0887"
             ],
             [
              0.1111111111111111,
              "#46039f"
             ],
             [
              0.2222222222222222,
              "#7201a8"
             ],
             [
              0.3333333333333333,
              "#9c179e"
             ],
             [
              0.4444444444444444,
              "#bd3786"
             ],
             [
              0.5555555555555556,
              "#d8576b"
             ],
             [
              0.6666666666666666,
              "#ed7953"
             ],
             [
              0.7777777777777778,
              "#fb9f3a"
             ],
             [
              0.8888888888888888,
              "#fdca26"
             ],
             [
              1,
              "#f0f921"
             ]
            ],
            "type": "histogram2d"
           }
          ],
          "histogram2dcontour": [
           {
            "colorbar": {
             "outlinewidth": 0,
             "ticks": ""
            },
            "colorscale": [
             [
              0,
              "#0d0887"
             ],
             [
              0.1111111111111111,
              "#46039f"
             ],
             [
              0.2222222222222222,
              "#7201a8"
             ],
             [
              0.3333333333333333,
              "#9c179e"
             ],
             [
              0.4444444444444444,
              "#bd3786"
             ],
             [
              0.5555555555555556,
              "#d8576b"
             ],
             [
              0.6666666666666666,
              "#ed7953"
             ],
             [
              0.7777777777777778,
              "#fb9f3a"
             ],
             [
              0.8888888888888888,
              "#fdca26"
             ],
             [
              1,
              "#f0f921"
             ]
            ],
            "type": "histogram2dcontour"
           }
          ],
          "mesh3d": [
           {
            "colorbar": {
             "outlinewidth": 0,
             "ticks": ""
            },
            "type": "mesh3d"
           }
          ],
          "parcoords": [
           {
            "line": {
             "colorbar": {
              "outlinewidth": 0,
              "ticks": ""
             }
            },
            "type": "parcoords"
           }
          ],
          "pie": [
           {
            "automargin": true,
            "type": "pie"
           }
          ],
          "scatter": [
           {
            "fillpattern": {
             "fillmode": "overlay",
             "size": 10,
             "solidity": 0.2
            },
            "type": "scatter"
           }
          ],
          "scatter3d": [
           {
            "line": {
             "colorbar": {
              "outlinewidth": 0,
              "ticks": ""
             }
            },
            "marker": {
             "colorbar": {
              "outlinewidth": 0,
              "ticks": ""
             }
            },
            "type": "scatter3d"
           }
          ],
          "scattercarpet": [
           {
            "marker": {
             "colorbar": {
              "outlinewidth": 0,
              "ticks": ""
             }
            },
            "type": "scattercarpet"
           }
          ],
          "scattergeo": [
           {
            "marker": {
             "colorbar": {
              "outlinewidth": 0,
              "ticks": ""
             }
            },
            "type": "scattergeo"
           }
          ],
          "scattergl": [
           {
            "marker": {
             "colorbar": {
              "outlinewidth": 0,
              "ticks": ""
             }
            },
            "type": "scattergl"
           }
          ],
          "scattermapbox": [
           {
            "marker": {
             "colorbar": {
              "outlinewidth": 0,
              "ticks": ""
             }
            },
            "type": "scattermapbox"
           }
          ],
          "scatterpolar": [
           {
            "marker": {
             "colorbar": {
              "outlinewidth": 0,
              "ticks": ""
             }
            },
            "type": "scatterpolar"
           }
          ],
          "scatterpolargl": [
           {
            "marker": {
             "colorbar": {
              "outlinewidth": 0,
              "ticks": ""
             }
            },
            "type": "scatterpolargl"
           }
          ],
          "scatterternary": [
           {
            "marker": {
             "colorbar": {
              "outlinewidth": 0,
              "ticks": ""
             }
            },
            "type": "scatterternary"
           }
          ],
          "surface": [
           {
            "colorbar": {
             "outlinewidth": 0,
             "ticks": ""
            },
            "colorscale": [
             [
              0,
              "#0d0887"
             ],
             [
              0.1111111111111111,
              "#46039f"
             ],
             [
              0.2222222222222222,
              "#7201a8"
             ],
             [
              0.3333333333333333,
              "#9c179e"
             ],
             [
              0.4444444444444444,
              "#bd3786"
             ],
             [
              0.5555555555555556,
              "#d8576b"
             ],
             [
              0.6666666666666666,
              "#ed7953"
             ],
             [
              0.7777777777777778,
              "#fb9f3a"
             ],
             [
              0.8888888888888888,
              "#fdca26"
             ],
             [
              1,
              "#f0f921"
             ]
            ],
            "type": "surface"
           }
          ],
          "table": [
           {
            "cells": {
             "fill": {
              "color": "#EBF0F8"
             },
             "line": {
              "color": "white"
             }
            },
            "header": {
             "fill": {
              "color": "#C8D4E3"
             },
             "line": {
              "color": "white"
             }
            },
            "type": "table"
           }
          ]
         },
         "layout": {
          "annotationdefaults": {
           "arrowcolor": "#2a3f5f",
           "arrowhead": 0,
           "arrowwidth": 1
          },
          "autotypenumbers": "strict",
          "coloraxis": {
           "colorbar": {
            "outlinewidth": 0,
            "ticks": ""
           }
          },
          "colorscale": {
           "diverging": [
            [
             0,
             "#8e0152"
            ],
            [
             0.1,
             "#c51b7d"
            ],
            [
             0.2,
             "#de77ae"
            ],
            [
             0.3,
             "#f1b6da"
            ],
            [
             0.4,
             "#fde0ef"
            ],
            [
             0.5,
             "#f7f7f7"
            ],
            [
             0.6,
             "#e6f5d0"
            ],
            [
             0.7,
             "#b8e186"
            ],
            [
             0.8,
             "#7fbc41"
            ],
            [
             0.9,
             "#4d9221"
            ],
            [
             1,
             "#276419"
            ]
           ],
           "sequential": [
            [
             0,
             "#0d0887"
            ],
            [
             0.1111111111111111,
             "#46039f"
            ],
            [
             0.2222222222222222,
             "#7201a8"
            ],
            [
             0.3333333333333333,
             "#9c179e"
            ],
            [
             0.4444444444444444,
             "#bd3786"
            ],
            [
             0.5555555555555556,
             "#d8576b"
            ],
            [
             0.6666666666666666,
             "#ed7953"
            ],
            [
             0.7777777777777778,
             "#fb9f3a"
            ],
            [
             0.8888888888888888,
             "#fdca26"
            ],
            [
             1,
             "#f0f921"
            ]
           ],
           "sequentialminus": [
            [
             0,
             "#0d0887"
            ],
            [
             0.1111111111111111,
             "#46039f"
            ],
            [
             0.2222222222222222,
             "#7201a8"
            ],
            [
             0.3333333333333333,
             "#9c179e"
            ],
            [
             0.4444444444444444,
             "#bd3786"
            ],
            [
             0.5555555555555556,
             "#d8576b"
            ],
            [
             0.6666666666666666,
             "#ed7953"
            ],
            [
             0.7777777777777778,
             "#fb9f3a"
            ],
            [
             0.8888888888888888,
             "#fdca26"
            ],
            [
             1,
             "#f0f921"
            ]
           ]
          },
          "colorway": [
           "#636efa",
           "#EF553B",
           "#00cc96",
           "#ab63fa",
           "#FFA15A",
           "#19d3f3",
           "#FF6692",
           "#B6E880",
           "#FF97FF",
           "#FECB52"
          ],
          "font": {
           "color": "#2a3f5f"
          },
          "geo": {
           "bgcolor": "white",
           "lakecolor": "white",
           "landcolor": "#E5ECF6",
           "showlakes": true,
           "showland": true,
           "subunitcolor": "white"
          },
          "hoverlabel": {
           "align": "left"
          },
          "hovermode": "closest",
          "mapbox": {
           "style": "light"
          },
          "paper_bgcolor": "white",
          "plot_bgcolor": "#E5ECF6",
          "polar": {
           "angularaxis": {
            "gridcolor": "white",
            "linecolor": "white",
            "ticks": ""
           },
           "bgcolor": "#E5ECF6",
           "radialaxis": {
            "gridcolor": "white",
            "linecolor": "white",
            "ticks": ""
           }
          },
          "scene": {
           "xaxis": {
            "backgroundcolor": "#E5ECF6",
            "gridcolor": "white",
            "gridwidth": 2,
            "linecolor": "white",
            "showbackground": true,
            "ticks": "",
            "zerolinecolor": "white"
           },
           "yaxis": {
            "backgroundcolor": "#E5ECF6",
            "gridcolor": "white",
            "gridwidth": 2,
            "linecolor": "white",
            "showbackground": true,
            "ticks": "",
            "zerolinecolor": "white"
           },
           "zaxis": {
            "backgroundcolor": "#E5ECF6",
            "gridcolor": "white",
            "gridwidth": 2,
            "linecolor": "white",
            "showbackground": true,
            "ticks": "",
            "zerolinecolor": "white"
           }
          },
          "shapedefaults": {
           "line": {
            "color": "#2a3f5f"
           }
          },
          "ternary": {
           "aaxis": {
            "gridcolor": "white",
            "linecolor": "white",
            "ticks": ""
           },
           "baxis": {
            "gridcolor": "white",
            "linecolor": "white",
            "ticks": ""
           },
           "bgcolor": "#E5ECF6",
           "caxis": {
            "gridcolor": "white",
            "linecolor": "white",
            "ticks": ""
           }
          },
          "title": {
           "x": 0.05
          },
          "xaxis": {
           "automargin": true,
           "gridcolor": "white",
           "linecolor": "white",
           "ticks": "",
           "title": {
            "standoff": 15
           },
           "zerolinecolor": "white",
           "zerolinewidth": 2
          },
          "yaxis": {
           "automargin": true,
           "gridcolor": "white",
           "linecolor": "white",
           "ticks": "",
           "title": {
            "standoff": 15
           },
           "zerolinecolor": "white",
           "zerolinewidth": 2
          }
         }
        },
        "title": {
         "font": {
          "size": 15
         },
         "text": "Prophet Model Plot",
         "x": 0.5,
         "xanchor": "center",
         "y": 0.98,
         "yanchor": "top"
        },
        "xaxis": {
         "anchor": "y",
         "domain": [
          0,
          1
         ],
         "rangeselector": {
          "buttons": [
           {
            "count": 1,
            "label": "1m",
            "step": "month",
            "stepmode": "backward"
           },
           {
            "count": 6,
            "label": "6m",
            "step": "month",
            "stepmode": "backward"
           },
           {
            "count": 1,
            "label": "YTD",
            "step": "year",
            "stepmode": "todate"
           },
           {
            "count": 1,
            "label": "1y",
            "step": "year",
            "stepmode": "backward"
           },
           {
            "step": "all"
           }
          ]
         },
         "title": {
          "text": "Date"
         }
        },
        "yaxis": {
         "anchor": "x",
         "domain": [
          0,
          1
         ],
         "title": {
          "text": "Demand"
         }
        }
       }
      }
     },
     "metadata": {},
     "output_type": "display_data"
    }
   ],
   "source": [
    "forecast_plot(\n",
    "    train_data,\n",
    "    valid_data,\n",
    "    'ds',\n",
    "    forecast[\"yhat\"],\n",
    "    [\"Train\", \"Valid\", \"Predict\"],\n",
    "    \"Prophet\",\n",
    "    \"Date\",\n",
    "    \"Demand\",\n",
    ")"
   ]
  },
  {
   "attachments": {},
   "cell_type": "markdown",
   "metadata": {},
   "source": [
    "### Cross Validation"
   ]
  },
  {
   "attachments": {},
   "cell_type": "markdown",
   "metadata": {},
   "source": [
    "$$ N = 1 + \\lfloor \\frac{T - I}{P} \\rfloor  $$\n",
    "$$ NP = 1 + (N-1)   $$\n",
    "\n",
    "where \n",
    "- $N$ - number of periods\n",
    "- $NP$ - number of forecasts\n",
    "- $T$ - total time\n",
    "- $I$ - initial\n",
    "- $P$ - prediction interval (period)"
   ]
  },
  {
   "cell_type": "code",
   "execution_count": 24,
   "metadata": {},
   "outputs": [
    {
     "data": {
      "application/vnd.jupyter.widget-view+json": {
       "model_id": "c1de4e241b8d40a38f6d4bf829d910e6",
       "version_major": 2,
       "version_minor": 0
      },
      "text/plain": [
       "  0%|          | 0/15 [00:00<?, ?it/s]"
      ]
     },
     "metadata": {},
     "output_type": "display_data"
    },
    {
     "name": "stderr",
     "output_type": "stream",
     "text": [
      "00:36:46 - cmdstanpy - INFO - Chain [1] start processing\n",
      "00:37:00 - cmdstanpy - INFO - Chain [1] done processing\n",
      "00:37:00 - cmdstanpy - INFO - Chain [1] start processing\n",
      "00:37:00 - cmdstanpy - INFO - Chain [1] done processing\n",
      "00:37:01 - cmdstanpy - INFO - Chain [1] start processing\n",
      "00:37:01 - cmdstanpy - INFO - Chain [1] done processing\n",
      "00:37:01 - cmdstanpy - INFO - Chain [1] start processing\n",
      "00:37:02 - cmdstanpy - INFO - Chain [1] done processing\n",
      "00:37:02 - cmdstanpy - INFO - Chain [1] start processing\n",
      "00:37:02 - cmdstanpy - INFO - Chain [1] done processing\n",
      "00:37:03 - cmdstanpy - INFO - Chain [1] start processing\n",
      "00:37:03 - cmdstanpy - INFO - Chain [1] done processing\n",
      "00:37:03 - cmdstanpy - INFO - Chain [1] start processing\n",
      "00:37:04 - cmdstanpy - INFO - Chain [1] done processing\n",
      "00:37:04 - cmdstanpy - INFO - Chain [1] start processing\n",
      "00:37:04 - cmdstanpy - INFO - Chain [1] done processing\n",
      "00:37:05 - cmdstanpy - INFO - Chain [1] start processing\n",
      "00:37:05 - cmdstanpy - INFO - Chain [1] done processing\n",
      "00:37:05 - cmdstanpy - INFO - Chain [1] start processing\n",
      "00:37:06 - cmdstanpy - INFO - Chain [1] done processing\n",
      "00:37:06 - cmdstanpy - INFO - Chain [1] start processing\n",
      "00:37:07 - cmdstanpy - INFO - Chain [1] done processing\n",
      "00:37:07 - cmdstanpy - INFO - Chain [1] start processing\n",
      "00:37:07 - cmdstanpy - INFO - Chain [1] done processing\n",
      "00:37:08 - cmdstanpy - INFO - Chain [1] start processing\n",
      "00:37:08 - cmdstanpy - INFO - Chain [1] done processing\n",
      "00:37:08 - cmdstanpy - INFO - Chain [1] start processing\n",
      "00:37:08 - cmdstanpy - INFO - Chain [1] done processing\n",
      "00:37:08 - cmdstanpy - INFO - Chain [1] start processing\n",
      "00:37:08 - cmdstanpy - INFO - Chain [1] done processing\n"
     ]
    }
   ],
   "source": [
    "from prophet.diagnostics import cross_validation\n",
    "\n",
    "df_cv = cross_validation(\n",
    "    model, initial=\"730 days\", period=\"180 days\", horizon=\"365 days\"\n",
    ")\n"
   ]
  },
  {
   "cell_type": "code",
   "execution_count": 25,
   "metadata": {},
   "outputs": [
    {
     "data": {
      "text/html": [
       "<div>\n",
       "<style scoped>\n",
       "    .dataframe tbody tr th:only-of-type {\n",
       "        vertical-align: middle;\n",
       "    }\n",
       "\n",
       "    .dataframe tbody tr th {\n",
       "        vertical-align: top;\n",
       "    }\n",
       "\n",
       "    .dataframe thead th {\n",
       "        text-align: right;\n",
       "    }\n",
       "</style>\n",
       "<table border=\"1\" class=\"dataframe\">\n",
       "  <thead>\n",
       "    <tr style=\"text-align: right;\">\n",
       "      <th></th>\n",
       "      <th>ds</th>\n",
       "      <th>yhat</th>\n",
       "      <th>yhat_lower</th>\n",
       "      <th>yhat_upper</th>\n",
       "      <th>y</th>\n",
       "      <th>cutoff</th>\n",
       "    </tr>\n",
       "  </thead>\n",
       "  <tbody>\n",
       "    <tr>\n",
       "      <th>0</th>\n",
       "      <td>1951-02-01</td>\n",
       "      <td>158.145279</td>\n",
       "      <td>158.010473</td>\n",
       "      <td>158.277460</td>\n",
       "      <td>150</td>\n",
       "      <td>1951-01-07</td>\n",
       "    </tr>\n",
       "    <tr>\n",
       "      <th>1</th>\n",
       "      <td>1951-03-01</td>\n",
       "      <td>169.995016</td>\n",
       "      <td>169.563142</td>\n",
       "      <td>170.420115</td>\n",
       "      <td>178</td>\n",
       "      <td>1951-01-07</td>\n",
       "    </tr>\n",
       "    <tr>\n",
       "      <th>2</th>\n",
       "      <td>1951-04-01</td>\n",
       "      <td>156.896897</td>\n",
       "      <td>156.010846</td>\n",
       "      <td>157.725916</td>\n",
       "      <td>163</td>\n",
       "      <td>1951-01-07</td>\n",
       "    </tr>\n",
       "    <tr>\n",
       "      <th>3</th>\n",
       "      <td>1951-05-01</td>\n",
       "      <td>141.702767</td>\n",
       "      <td>140.289095</td>\n",
       "      <td>143.062707</td>\n",
       "      <td>172</td>\n",
       "      <td>1951-01-07</td>\n",
       "    </tr>\n",
       "    <tr>\n",
       "      <th>4</th>\n",
       "      <td>1951-06-01</td>\n",
       "      <td>174.026826</td>\n",
       "      <td>172.046636</td>\n",
       "      <td>175.856076</td>\n",
       "      <td>178</td>\n",
       "      <td>1951-01-07</td>\n",
       "    </tr>\n",
       "  </tbody>\n",
       "</table>\n",
       "</div>"
      ],
      "text/plain": [
       "          ds        yhat  yhat_lower  yhat_upper    y     cutoff\n",
       "0 1951-02-01  158.145279  158.010473  158.277460  150 1951-01-07\n",
       "1 1951-03-01  169.995016  169.563142  170.420115  178 1951-01-07\n",
       "2 1951-04-01  156.896897  156.010846  157.725916  163 1951-01-07\n",
       "3 1951-05-01  141.702767  140.289095  143.062707  172 1951-01-07\n",
       "4 1951-06-01  174.026826  172.046636  175.856076  178 1951-01-07"
      ]
     },
     "execution_count": 25,
     "metadata": {},
     "output_type": "execute_result"
    }
   ],
   "source": [
    "df_cv.head()\n"
   ]
  },
  {
   "cell_type": "code",
   "execution_count": 26,
   "metadata": {},
   "outputs": [
    {
     "data": {
      "text/plain": [
       "(180, 6)"
      ]
     },
     "execution_count": 26,
     "metadata": {},
     "output_type": "execute_result"
    }
   ],
   "source": [
    "df_cv.shape"
   ]
  },
  {
   "cell_type": "code",
   "execution_count": 27,
   "metadata": {},
   "outputs": [
    {
     "data": {
      "text/html": [
       "<div>\n",
       "<style scoped>\n",
       "    .dataframe tbody tr th:only-of-type {\n",
       "        vertical-align: middle;\n",
       "    }\n",
       "\n",
       "    .dataframe tbody tr th {\n",
       "        vertical-align: top;\n",
       "    }\n",
       "\n",
       "    .dataframe thead th {\n",
       "        text-align: right;\n",
       "    }\n",
       "</style>\n",
       "<table border=\"1\" class=\"dataframe\">\n",
       "  <thead>\n",
       "    <tr style=\"text-align: right;\">\n",
       "      <th></th>\n",
       "      <th>ds</th>\n",
       "      <th>yhat</th>\n",
       "      <th>yhat_lower</th>\n",
       "      <th>yhat_upper</th>\n",
       "      <th>y</th>\n",
       "    </tr>\n",
       "    <tr>\n",
       "      <th>cutoff</th>\n",
       "      <th></th>\n",
       "      <th></th>\n",
       "      <th></th>\n",
       "      <th></th>\n",
       "      <th></th>\n",
       "    </tr>\n",
       "  </thead>\n",
       "  <tbody>\n",
       "    <tr>\n",
       "      <th>1951-01-07</th>\n",
       "      <td>12</td>\n",
       "      <td>12</td>\n",
       "      <td>12</td>\n",
       "      <td>12</td>\n",
       "      <td>12</td>\n",
       "    </tr>\n",
       "    <tr>\n",
       "      <th>1951-07-06</th>\n",
       "      <td>12</td>\n",
       "      <td>12</td>\n",
       "      <td>12</td>\n",
       "      <td>12</td>\n",
       "      <td>12</td>\n",
       "    </tr>\n",
       "    <tr>\n",
       "      <th>1952-01-02</th>\n",
       "      <td>12</td>\n",
       "      <td>12</td>\n",
       "      <td>12</td>\n",
       "      <td>12</td>\n",
       "      <td>12</td>\n",
       "    </tr>\n",
       "    <tr>\n",
       "      <th>1952-06-30</th>\n",
       "      <td>12</td>\n",
       "      <td>12</td>\n",
       "      <td>12</td>\n",
       "      <td>12</td>\n",
       "      <td>12</td>\n",
       "    </tr>\n",
       "    <tr>\n",
       "      <th>1952-12-27</th>\n",
       "      <td>12</td>\n",
       "      <td>12</td>\n",
       "      <td>12</td>\n",
       "      <td>12</td>\n",
       "      <td>12</td>\n",
       "    </tr>\n",
       "    <tr>\n",
       "      <th>1953-06-25</th>\n",
       "      <td>12</td>\n",
       "      <td>12</td>\n",
       "      <td>12</td>\n",
       "      <td>12</td>\n",
       "      <td>12</td>\n",
       "    </tr>\n",
       "    <tr>\n",
       "      <th>1953-12-22</th>\n",
       "      <td>12</td>\n",
       "      <td>12</td>\n",
       "      <td>12</td>\n",
       "      <td>12</td>\n",
       "      <td>12</td>\n",
       "    </tr>\n",
       "    <tr>\n",
       "      <th>1954-06-20</th>\n",
       "      <td>12</td>\n",
       "      <td>12</td>\n",
       "      <td>12</td>\n",
       "      <td>12</td>\n",
       "      <td>12</td>\n",
       "    </tr>\n",
       "    <tr>\n",
       "      <th>1954-12-17</th>\n",
       "      <td>12</td>\n",
       "      <td>12</td>\n",
       "      <td>12</td>\n",
       "      <td>12</td>\n",
       "      <td>12</td>\n",
       "    </tr>\n",
       "    <tr>\n",
       "      <th>1955-06-15</th>\n",
       "      <td>12</td>\n",
       "      <td>12</td>\n",
       "      <td>12</td>\n",
       "      <td>12</td>\n",
       "      <td>12</td>\n",
       "    </tr>\n",
       "    <tr>\n",
       "      <th>1955-12-12</th>\n",
       "      <td>12</td>\n",
       "      <td>12</td>\n",
       "      <td>12</td>\n",
       "      <td>12</td>\n",
       "      <td>12</td>\n",
       "    </tr>\n",
       "    <tr>\n",
       "      <th>1956-06-09</th>\n",
       "      <td>12</td>\n",
       "      <td>12</td>\n",
       "      <td>12</td>\n",
       "      <td>12</td>\n",
       "      <td>12</td>\n",
       "    </tr>\n",
       "    <tr>\n",
       "      <th>1956-12-06</th>\n",
       "      <td>12</td>\n",
       "      <td>12</td>\n",
       "      <td>12</td>\n",
       "      <td>12</td>\n",
       "      <td>12</td>\n",
       "    </tr>\n",
       "    <tr>\n",
       "      <th>1957-06-04</th>\n",
       "      <td>12</td>\n",
       "      <td>12</td>\n",
       "      <td>12</td>\n",
       "      <td>12</td>\n",
       "      <td>12</td>\n",
       "    </tr>\n",
       "    <tr>\n",
       "      <th>1957-12-01</th>\n",
       "      <td>12</td>\n",
       "      <td>12</td>\n",
       "      <td>12</td>\n",
       "      <td>12</td>\n",
       "      <td>12</td>\n",
       "    </tr>\n",
       "  </tbody>\n",
       "</table>\n",
       "</div>"
      ],
      "text/plain": [
       "            ds  yhat  yhat_lower  yhat_upper   y\n",
       "cutoff                                          \n",
       "1951-01-07  12    12          12          12  12\n",
       "1951-07-06  12    12          12          12  12\n",
       "1952-01-02  12    12          12          12  12\n",
       "1952-06-30  12    12          12          12  12\n",
       "1952-12-27  12    12          12          12  12\n",
       "1953-06-25  12    12          12          12  12\n",
       "1953-12-22  12    12          12          12  12\n",
       "1954-06-20  12    12          12          12  12\n",
       "1954-12-17  12    12          12          12  12\n",
       "1955-06-15  12    12          12          12  12\n",
       "1955-12-12  12    12          12          12  12\n",
       "1956-06-09  12    12          12          12  12\n",
       "1956-12-06  12    12          12          12  12\n",
       "1957-06-04  12    12          12          12  12\n",
       "1957-12-01  12    12          12          12  12"
      ]
     },
     "execution_count": 27,
     "metadata": {},
     "output_type": "execute_result"
    }
   ],
   "source": [
    "df_cv.groupby('cutoff').count()"
   ]
  },
  {
   "cell_type": "code",
   "execution_count": 28,
   "metadata": {},
   "outputs": [
    {
     "data": {
      "text/html": [
       "<div>\n",
       "<style scoped>\n",
       "    .dataframe tbody tr th:only-of-type {\n",
       "        vertical-align: middle;\n",
       "    }\n",
       "\n",
       "    .dataframe tbody tr th {\n",
       "        vertical-align: top;\n",
       "    }\n",
       "\n",
       "    .dataframe thead th {\n",
       "        text-align: right;\n",
       "    }\n",
       "</style>\n",
       "<table border=\"1\" class=\"dataframe\">\n",
       "  <thead>\n",
       "    <tr style=\"text-align: right;\">\n",
       "      <th></th>\n",
       "      <th>horizon</th>\n",
       "      <th>mse</th>\n",
       "      <th>rmse</th>\n",
       "      <th>mae</th>\n",
       "      <th>mape</th>\n",
       "      <th>mdape</th>\n",
       "      <th>smape</th>\n",
       "      <th>coverage</th>\n",
       "    </tr>\n",
       "  </thead>\n",
       "  <tbody>\n",
       "    <tr>\n",
       "      <th>0</th>\n",
       "      <td>37 days</td>\n",
       "      <td>812.834316</td>\n",
       "      <td>28.510249</td>\n",
       "      <td>20.944857</td>\n",
       "      <td>0.068909</td>\n",
       "      <td>0.059894</td>\n",
       "      <td>0.070451</td>\n",
       "      <td>0.166667</td>\n",
       "    </tr>\n",
       "    <tr>\n",
       "      <th>1</th>\n",
       "      <td>41 days</td>\n",
       "      <td>922.657518</td>\n",
       "      <td>30.375278</td>\n",
       "      <td>23.013931</td>\n",
       "      <td>0.080342</td>\n",
       "      <td>0.072543</td>\n",
       "      <td>0.080419</td>\n",
       "      <td>0.166667</td>\n",
       "    </tr>\n",
       "    <tr>\n",
       "      <th>2</th>\n",
       "      <td>42 days</td>\n",
       "      <td>962.691613</td>\n",
       "      <td>31.027272</td>\n",
       "      <td>24.153982</td>\n",
       "      <td>0.083548</td>\n",
       "      <td>0.083682</td>\n",
       "      <td>0.083926</td>\n",
       "      <td>0.166667</td>\n",
       "    </tr>\n",
       "    <tr>\n",
       "      <th>3</th>\n",
       "      <td>46 days</td>\n",
       "      <td>964.549067</td>\n",
       "      <td>31.057190</td>\n",
       "      <td>24.272543</td>\n",
       "      <td>0.084246</td>\n",
       "      <td>0.083682</td>\n",
       "      <td>0.084566</td>\n",
       "      <td>0.222222</td>\n",
       "    </tr>\n",
       "    <tr>\n",
       "      <th>4</th>\n",
       "      <td>47 days</td>\n",
       "      <td>1053.877795</td>\n",
       "      <td>32.463484</td>\n",
       "      <td>25.559439</td>\n",
       "      <td>0.085359</td>\n",
       "      <td>0.083682</td>\n",
       "      <td>0.086547</td>\n",
       "      <td>0.222222</td>\n",
       "    </tr>\n",
       "  </tbody>\n",
       "</table>\n",
       "</div>"
      ],
      "text/plain": [
       "  horizon          mse       rmse        mae      mape     mdape     smape  \\\n",
       "0 37 days   812.834316  28.510249  20.944857  0.068909  0.059894  0.070451   \n",
       "1 41 days   922.657518  30.375278  23.013931  0.080342  0.072543  0.080419   \n",
       "2 42 days   962.691613  31.027272  24.153982  0.083548  0.083682  0.083926   \n",
       "3 46 days   964.549067  31.057190  24.272543  0.084246  0.083682  0.084566   \n",
       "4 47 days  1053.877795  32.463484  25.559439  0.085359  0.083682  0.086547   \n",
       "\n",
       "   coverage  \n",
       "0  0.166667  \n",
       "1  0.166667  \n",
       "2  0.166667  \n",
       "3  0.222222  \n",
       "4  0.222222  "
      ]
     },
     "execution_count": 28,
     "metadata": {},
     "output_type": "execute_result"
    }
   ],
   "source": [
    "from prophet.diagnostics import performance_metrics\n",
    "df_p = performance_metrics(df_cv)\n",
    "df_p.head()"
   ]
  },
  {
   "cell_type": "code",
   "execution_count": 29,
   "metadata": {},
   "outputs": [
    {
     "data": {
      "text/plain": [
       "20.94485745175749"
      ]
     },
     "execution_count": 29,
     "metadata": {},
     "output_type": "execute_result"
    }
   ],
   "source": [
    "df_p['mae'].values[0]"
   ]
  },
  {
   "cell_type": "code",
   "execution_count": 30,
   "metadata": {},
   "outputs": [
    {
     "data": {
      "text/plain": [
       "(147, 8)"
      ]
     },
     "execution_count": 30,
     "metadata": {},
     "output_type": "execute_result"
    }
   ],
   "source": [
    "df_p.shape"
   ]
  },
  {
   "cell_type": "code",
   "execution_count": 31,
   "metadata": {},
   "outputs": [
    {
     "data": {
      "image/png": "[encoded data removed]",
      "text/plain": [
       "<Figure size 1000x600 with 1 Axes>"
      ]
     },
     "metadata": {},
     "output_type": "display_data"
    }
   ],
   "source": [
    "from prophet.plot import plot_cross_validation_metric\n",
    "fig = plot_cross_validation_metric(df_cv, metric='mae')\n"
   ]
  },
  {
   "attachments": {},
   "cell_type": "markdown",
   "metadata": {},
   "source": [
    "### Hyper Parameter Tuning"
   ]
  },
  {
   "cell_type": "code",
   "execution_count": 32,
   "metadata": {},
   "outputs": [],
   "source": [
    "from itertools import product"
   ]
  },
  {
   "cell_type": "code",
   "execution_count": 33,
   "metadata": {},
   "outputs": [
    {
     "name": "stdout",
     "output_type": "stream",
     "text": [
      "Help on class product in module itertools:\n",
      "\n",
      "class product(builtins.object)\n",
      " |  product(*iterables, repeat=1) --> product object\n",
      " |  \n",
      " |  Cartesian product of input iterables.  Equivalent to nested for-loops.\n",
      " |  \n",
      " |  For example, product(A, B) returns the same as:  ((x,y) for x in A for y in B).\n",
      " |  The leftmost iterators are in the outermost for-loop, so the output tuples\n",
      " |  cycle in a manner similar to an odometer (with the rightmost element changing\n",
      " |  on every iteration).\n",
      " |  \n",
      " |  To compute the product of an iterable with itself, specify the number\n",
      " |  of repetitions with the optional repeat keyword argument. For example,\n",
      " |  product(A, repeat=4) means the same as product(A, A, A, A).\n",
      " |  \n",
      " |  product('ab', range(3)) --> ('a',0) ('a',1) ('a',2) ('b',0) ('b',1) ('b',2)\n",
      " |  product((0,1), (0,1), (0,1)) --> (0,0,0) (0,0,1) (0,1,0) (0,1,1) (1,0,0) ...\n",
      " |  \n",
      " |  Methods defined here:\n",
      " |  \n",
      " |  __getattribute__(self, name, /)\n",
      " |      Return getattr(self, name).\n",
      " |  \n",
      " |  __iter__(self, /)\n",
      " |      Implement iter(self).\n",
      " |  \n",
      " |  __next__(self, /)\n",
      " |      Implement next(self).\n",
      " |  \n",
      " |  __reduce__(...)\n",
      " |      Return state information for pickling.\n",
      " |  \n",
      " |  __setstate__(...)\n",
      " |      Set state information for unpickling.\n",
      " |  \n",
      " |  __sizeof__(...)\n",
      " |      Returns size in memory, in bytes.\n",
      " |  \n",
      " |  ----------------------------------------------------------------------\n",
      " |  Static methods defined here:\n",
      " |  \n",
      " |  __new__(*args, **kwargs) from builtins.type\n",
      " |      Create and return a new object.  See help(type) for accurate signature.\n",
      "\n"
     ]
    }
   ],
   "source": [
    "help(product)"
   ]
  },
  {
   "cell_type": "code",
   "execution_count": 34,
   "metadata": {},
   "outputs": [
    {
     "data": {
      "text/plain": [
       "[(0, 1), (0, 2), (1, 1), (1, 2)]"
      ]
     },
     "execution_count": 34,
     "metadata": {},
     "output_type": "execute_result"
    }
   ],
   "source": [
    "list(product([0,1], [1,2]))"
   ]
  },
  {
   "cell_type": "code",
   "execution_count": 35,
   "metadata": {},
   "outputs": [
    {
     "data": {
      "text/plain": [
       "{1: 3, 2: 4}"
      ]
     },
     "execution_count": 35,
     "metadata": {},
     "output_type": "execute_result"
    }
   ],
   "source": [
    "dict(zip([1,2], [3,4]))"
   ]
  },
  {
   "cell_type": "code",
   "execution_count": 36,
   "metadata": {},
   "outputs": [
    {
     "name": "stdout",
     "output_type": "stream",
     "text": [
      "[(0.001, 0.01), (0.001, 0.1), (0.001, 1.0), (0.001, 10.0), (0.01, 0.01), (0.01, 0.1), (0.01, 1.0), (0.01, 10.0), (0.1, 0.01), (0.1, 0.1), (0.1, 1.0), (0.1, 10.0), (0.5, 0.01), (0.5, 0.1), (0.5, 1.0), (0.5, 10.0)]\n"
     ]
    }
   ],
   "source": [
    "param_grid = {\n",
    "    \"changepoint_prior_scale\": [0.001, 0.01, 0.1, 0.5],\n",
    "    \"seasonality_prior_scale\": [0.01, 0.1, 1.0, 10.0],\n",
    "    # \"seasonality_mode\": ['additive', 'multiplicative']\n",
    "}\n",
    "\n",
    "# print(param_grid.values())\n",
    "# print(*param_grid.values())\n",
    "\n",
    "# { 'changepoint_prior_scale': 0.001, 'seasonality_prior_scale': 0.01}\n",
    "\n",
    "print(list(product(*param_grid.values())))\n",
    "\n",
    "all_params = [\n",
    "    dict(zip(param_grid.keys(), value)) for value in product(*param_grid.values())\n",
    "]\n",
    "\n",
    "# for value in product(*param_grid.values()):\n",
    "#     all_params.append(dict(zip(param_grid.keys(), value)))\n",
    "\n",
    "# all_params\n"
   ]
  },
  {
   "cell_type": "code",
   "execution_count": 37,
   "metadata": {},
   "outputs": [
    {
     "data": {
      "text/html": [
       "<div>\n",
       "<style scoped>\n",
       "    .dataframe tbody tr th:only-of-type {\n",
       "        vertical-align: middle;\n",
       "    }\n",
       "\n",
       "    .dataframe tbody tr th {\n",
       "        vertical-align: top;\n",
       "    }\n",
       "\n",
       "    .dataframe thead th {\n",
       "        text-align: right;\n",
       "    }\n",
       "</style>\n",
       "<table border=\"1\" class=\"dataframe\">\n",
       "  <thead>\n",
       "    <tr style=\"text-align: right;\">\n",
       "      <th></th>\n",
       "      <th>ds</th>\n",
       "      <th>y</th>\n",
       "    </tr>\n",
       "  </thead>\n",
       "  <tbody>\n",
       "    <tr>\n",
       "      <th>0</th>\n",
       "      <td>1949-01-01</td>\n",
       "      <td>112</td>\n",
       "    </tr>\n",
       "    <tr>\n",
       "      <th>1</th>\n",
       "      <td>1949-02-01</td>\n",
       "      <td>118</td>\n",
       "    </tr>\n",
       "    <tr>\n",
       "      <th>2</th>\n",
       "      <td>1949-03-01</td>\n",
       "      <td>132</td>\n",
       "    </tr>\n",
       "    <tr>\n",
       "      <th>3</th>\n",
       "      <td>1949-04-01</td>\n",
       "      <td>129</td>\n",
       "    </tr>\n",
       "    <tr>\n",
       "      <th>4</th>\n",
       "      <td>1949-05-01</td>\n",
       "      <td>121</td>\n",
       "    </tr>\n",
       "  </tbody>\n",
       "</table>\n",
       "</div>"
      ],
      "text/plain": [
       "          ds    y\n",
       "0 1949-01-01  112\n",
       "1 1949-02-01  118\n",
       "2 1949-03-01  132\n",
       "3 1949-04-01  129\n",
       "4 1949-05-01  121"
      ]
     },
     "execution_count": 37,
     "metadata": {},
     "output_type": "execute_result"
    }
   ],
   "source": [
    "train_data.head()"
   ]
  },
  {
   "cell_type": "code",
   "execution_count": 38,
   "metadata": {},
   "outputs": [
    {
     "name": "stderr",
     "output_type": "stream",
     "text": [
      "00:37:14 - cmdstanpy - INFO - Chain [1] start processing\n",
      "00:37:14 - cmdstanpy - INFO - Chain [1] done processing\n",
      "00:37:14 - cmdstanpy - ERROR - Chain [1] error: error during processing Operation not permitted\n",
      "Optimization terminated abnormally. Falling back to Newton.\n",
      "00:37:14 - cmdstanpy - INFO - Chain [1] start processing\n"
     ]
    },
    {
     "name": "stderr",
     "output_type": "stream",
     "text": [
      "00:37:14 - cmdstanpy - INFO - Chain [1] done processing\n",
      "00:37:14 - cmdstanpy - INFO - Chain [1] start processing\n",
      "00:37:14 - cmdstanpy - INFO - Chain [1] start processing\n",
      "00:37:14 - cmdstanpy - INFO - Chain [1] start processing\n",
      "00:37:14 - cmdstanpy - INFO - Chain [1] start processing\n",
      "00:37:14 - cmdstanpy - INFO - Chain [1] start processing\n",
      "00:37:14 - cmdstanpy - INFO - Chain [1] start processing\n",
      "00:37:14 - cmdstanpy - INFO - Chain [1] start processing\n",
      "00:37:14 - cmdstanpy - INFO - Chain [1] start processing\n",
      "00:37:14 - cmdstanpy - INFO - Chain [1] start processing\n",
      "00:37:15 - cmdstanpy - INFO - Chain [1] start processing\n",
      "00:37:15 - cmdstanpy - INFO - Chain [1] done processing\n",
      "00:37:15 - cmdstanpy - INFO - Chain [1] start processing\n",
      "00:37:15 - cmdstanpy - INFO - Chain [1] start processing\n",
      "00:37:15 - cmdstanpy - INFO - Chain [1] done processing\n",
      "00:37:15 - cmdstanpy - INFO - Chain [1] done processing\n",
      "00:37:15 - cmdstanpy - INFO - Chain [1] done processing\n",
      "00:37:15 - cmdstanpy - INFO - Chain [1] start processing\n",
      "00:37:15 - cmdstanpy - INFO - Chain [1] done processing\n",
      "00:37:15 - cmdstanpy - INFO - Chain [1] start processing\n",
      "00:37:15 - cmdstanpy - INFO - Chain [1] start processing\n",
      "00:37:15 - cmdstanpy - INFO - Chain [1] done processing\n",
      "00:37:15 - cmdstanpy - INFO - Chain [1] start processing\n",
      "00:37:15 - cmdstanpy - INFO - Chain [1] start processing\n",
      "00:37:15 - cmdstanpy - INFO - Chain [1] done processing\n",
      "00:37:15 - cmdstanpy - INFO - Chain [1] done processing\n",
      "00:37:15 - cmdstanpy - INFO - Chain [1] done processing\n",
      "00:37:15 - cmdstanpy - INFO - Chain [1] start processing\n",
      "00:37:15 - cmdstanpy - INFO - Chain [1] start processing\n",
      "00:37:15 - cmdstanpy - INFO - Chain [1] done processing\n",
      "00:37:15 - cmdstanpy - INFO - Chain [1] done processing\n",
      "00:37:15 - cmdstanpy - INFO - Chain [1] done processing\n",
      "00:37:15 - cmdstanpy - INFO - Chain [1] done processing\n",
      "00:37:15 - cmdstanpy - INFO - Chain [1] start processing\n",
      "00:37:15 - cmdstanpy - INFO - Chain [1] start processing\n",
      "00:37:16 - cmdstanpy - INFO - Chain [1] start processing\n",
      "00:37:16 - cmdstanpy - INFO - Chain [1] start processing\n",
      "00:37:16 - cmdstanpy - INFO - Chain [1] start processing\n",
      "00:37:16 - cmdstanpy - INFO - Chain [1] start processing\n",
      "00:37:16 - cmdstanpy - INFO - Chain [1] done processing\n",
      "00:37:16 - cmdstanpy - INFO - Chain [1] done processing\n",
      "00:37:16 - cmdstanpy - INFO - Chain [1] done processing\n",
      "00:37:16 - cmdstanpy - INFO - Chain [1] done processing\n",
      "00:37:16 - cmdstanpy - INFO - Chain [1] done processing\n",
      "00:37:16 - cmdstanpy - INFO - Chain [1] start processing\n",
      "00:37:16 - cmdstanpy - INFO - Chain [1] done processing\n",
      "00:37:16 - cmdstanpy - INFO - Chain [1] start processing\n",
      "00:37:16 - cmdstanpy - INFO - Chain [1] done processing\n",
      "00:37:16 - cmdstanpy - INFO - Chain [1] start processing\n",
      "00:37:16 - cmdstanpy - INFO - Chain [1] start processing\n",
      "00:37:16 - cmdstanpy - INFO - Chain [1] start processing\n",
      "00:37:16 - cmdstanpy - INFO - Chain [1] start processing\n",
      "00:37:16 - cmdstanpy - INFO - Chain [1] start processing\n",
      "00:37:16 - cmdstanpy - INFO - Chain [1] done processing\n",
      "00:37:17 - cmdstanpy - INFO - Chain [1] done processing\n",
      "00:37:17 - cmdstanpy - INFO - Chain [1] start processing\n",
      "00:37:17 - cmdstanpy - INFO - Chain [1] done processing\n",
      "00:37:17 - cmdstanpy - INFO - Chain [1] done processing\n",
      "00:37:17 - cmdstanpy - INFO - Chain [1] done processing\n",
      "00:37:17 - cmdstanpy - INFO - Chain [1] done processing\n",
      "00:37:17 - cmdstanpy - INFO - Chain [1] done processing\n",
      "00:37:17 - cmdstanpy - INFO - Chain [1] start processing\n",
      "00:37:17 - cmdstanpy - INFO - Chain [1] start processing\n",
      "00:37:17 - cmdstanpy - INFO - Chain [1] done processing\n",
      "00:37:17 - cmdstanpy - INFO - Chain [1] start processing\n",
      "00:37:17 - cmdstanpy - INFO - Chain [1] start processing\n",
      "00:37:17 - cmdstanpy - INFO - Chain [1] done processing\n",
      "00:37:17 - cmdstanpy - ERROR - Chain [1] error: error during processing Operation not permitted\n",
      "00:37:17 - cmdstanpy - INFO - Chain [1] done processing\n",
      "Optimization terminated abnormally. Falling back to Newton.\n",
      "00:37:17 - cmdstanpy - ERROR - Chain [1] error: error during processing Operation not permitted\n",
      "Optimization terminated abnormally. Falling back to Newton.\n",
      "00:37:17 - cmdstanpy - INFO - Chain [1] start processing\n",
      "00:37:17 - cmdstanpy - INFO - Chain [1] done processing\n",
      "00:37:17 - cmdstanpy - INFO - Chain [1] start processing\n",
      "00:37:17 - cmdstanpy - INFO - Chain [1] done processing\n",
      "00:37:17 - cmdstanpy - INFO - Chain [1] start processing\n",
      "00:37:17 - cmdstanpy - ERROR - Chain [1] error: error during processing Operation not permitted\n",
      "Optimization terminated abnormally. Falling back to Newton.\n",
      "00:37:17 - cmdstanpy - INFO - Chain [1] done processing\n",
      "00:37:17 - cmdstanpy - INFO - Chain [1] done processing\n",
      "00:37:17 - cmdstanpy - ERROR - Chain [1] error: error during processing Operation not permitted\n",
      "00:37:17 - cmdstanpy - INFO - Chain [1] start processing\n",
      "00:37:17 - cmdstanpy - INFO - Chain [1] start processing\n",
      "Optimization terminated abnormally. Falling back to Newton.\n",
      "00:37:17 - cmdstanpy - INFO - Chain [1] start processing\n",
      "00:37:17 - cmdstanpy - INFO - Chain [1] done processing\n",
      "00:37:17 - cmdstanpy - INFO - Chain [1] start processing\n",
      "00:37:17 - cmdstanpy - ERROR - Chain [1] error: error during processing Operation not permitted\n",
      "Optimization terminated abnormally. Falling back to Newton.\n",
      "00:37:17 - cmdstanpy - INFO - Chain [1] done processing\n",
      "00:37:17 - cmdstanpy - INFO - Chain [1] done processing\n",
      "00:37:17 - cmdstanpy - INFO - Chain [1] start processing\n",
      "00:37:17 - cmdstanpy - ERROR - Chain [1] error: error during processing Operation not permitted\n",
      "Optimization terminated abnormally. Falling back to Newton.\n",
      "00:37:17 - cmdstanpy - INFO - Chain [1] start processing\n",
      "00:37:18 - cmdstanpy - INFO - Chain [1] start processing\n",
      "00:37:18 - cmdstanpy - INFO - Chain [1] done processing\n",
      "00:37:18 - cmdstanpy - ERROR - Chain [1] error: error during processing Operation not permitted\n",
      "Optimization terminated abnormally. Falling back to Newton.\n",
      "00:37:18 - cmdstanpy - INFO - Chain [1] start processing\n",
      "00:37:18 - cmdstanpy - INFO - Chain [1] done processing\n",
      "00:37:18 - cmdstanpy - INFO - Chain [1] done processing\n",
      "00:37:18 - cmdstanpy - INFO - Chain [1] done processing\n",
      "00:37:18 - cmdstanpy - INFO - Chain [1] done processing\n",
      "00:37:18 - cmdstanpy - INFO - Chain [1] done processing\n",
      "00:37:18 - cmdstanpy - INFO - Chain [1] done processing\n",
      "00:37:18 - cmdstanpy - INFO - Chain [1] done processing\n",
      "00:37:18 - cmdstanpy - INFO - Chain [1] done processing\n",
      "00:37:18 - cmdstanpy - INFO - Chain [1] done processing\n",
      "00:37:19 - cmdstanpy - INFO - Chain [1] done processing\n",
      "00:37:19 - cmdstanpy - INFO - Chain [1] start processing\n",
      "00:37:19 - cmdstanpy - INFO - Chain [1] done processing\n",
      "00:37:19 - cmdstanpy - ERROR - Chain [1] error: error during processing Operation not permitted\n",
      "Optimization terminated abnormally. Falling back to Newton.\n",
      "00:37:19 - cmdstanpy - INFO - Chain [1] start processing\n",
      "00:37:19 - cmdstanpy - INFO - Chain [1] done processing\n",
      "00:37:20 - cmdstanpy - INFO - Chain [1] start processing\n",
      "00:37:20 - cmdstanpy - INFO - Chain [1] start processing\n",
      "00:37:20 - cmdstanpy - INFO - Chain [1] start processing\n",
      "00:37:20 - cmdstanpy - INFO - Chain [1] start processing\n",
      "00:37:20 - cmdstanpy - INFO - Chain [1] start processing\n",
      "00:37:20 - cmdstanpy - INFO - Chain [1] start processing\n",
      "00:37:20 - cmdstanpy - INFO - Chain [1] start processing\n",
      "00:37:20 - cmdstanpy - INFO - Chain [1] start processing\n",
      "00:37:20 - cmdstanpy - INFO - Chain [1] start processing\n",
      "00:37:20 - cmdstanpy - INFO - Chain [1] start processing\n",
      "00:37:20 - cmdstanpy - INFO - Chain [1] start processing\n",
      "00:37:20 - cmdstanpy - INFO - Chain [1] start processing\n",
      "00:37:20 - cmdstanpy - INFO - Chain [1] done processing\n",
      "00:37:20 - cmdstanpy - INFO - Chain [1] done processing\n",
      "00:37:20 - cmdstanpy - INFO - Chain [1] done processing\n",
      "00:37:20 - cmdstanpy - INFO - Chain [1] done processing\n",
      "00:37:20 - cmdstanpy - INFO - Chain [1] done processing\n",
      "00:37:20 - cmdstanpy - INFO - Chain [1] done processing\n",
      "00:37:20 - cmdstanpy - INFO - Chain [1] done processing\n",
      "00:37:20 - cmdstanpy - INFO - Chain [1] done processing\n",
      "00:37:20 - cmdstanpy - INFO - Chain [1] start processing\n",
      "00:37:20 - cmdstanpy - INFO - Chain [1] done processing\n",
      "00:37:20 - cmdstanpy - INFO - Chain [1] done processing\n",
      "00:37:20 - cmdstanpy - INFO - Chain [1] start processing\n",
      "00:37:20 - cmdstanpy - INFO - Chain [1] start processing\n",
      "00:37:20 - cmdstanpy - INFO - Chain [1] start processing\n",
      "00:37:20 - cmdstanpy - INFO - Chain [1] start processing\n",
      "00:37:20 - cmdstanpy - INFO - Chain [1] start processing\n",
      "00:37:20 - cmdstanpy - INFO - Chain [1] start processing\n",
      "00:37:20 - cmdstanpy - INFO - Chain [1] start processing\n",
      "00:37:20 - cmdstanpy - INFO - Chain [1] done processing\n",
      "00:37:20 - cmdstanpy - INFO - Chain [1] start processing\n",
      "00:37:20 - cmdstanpy - INFO - Chain [1] start processing\n",
      "00:37:21 - cmdstanpy - INFO - Chain [1] done processing\n",
      "00:37:21 - cmdstanpy - INFO - Chain [1] done processing\n",
      "00:37:21 - cmdstanpy - INFO - Chain [1] done processing\n",
      "00:37:21 - cmdstanpy - INFO - Chain [1] start processing\n",
      "00:37:21 - cmdstanpy - INFO - Chain [1] done processing\n",
      "00:37:21 - cmdstanpy - INFO - Chain [1] start processing\n",
      "00:37:21 - cmdstanpy - INFO - Chain [1] done processing\n",
      "00:37:21 - cmdstanpy - INFO - Chain [1] done processing\n",
      "00:37:21 - cmdstanpy - INFO - Chain [1] start processing\n",
      "00:37:21 - cmdstanpy - INFO - Chain [1] done processing\n",
      "00:37:21 - cmdstanpy - INFO - Chain [1] done processing\n",
      "00:37:21 - cmdstanpy - INFO - Chain [1] done processing\n",
      "00:37:21 - cmdstanpy - INFO - Chain [1] start processing\n",
      "00:37:21 - cmdstanpy - INFO - Chain [1] start processing\n",
      "00:37:21 - cmdstanpy - INFO - Chain [1] done processing\n",
      "00:37:21 - cmdstanpy - INFO - Chain [1] done processing\n",
      "00:37:21 - cmdstanpy - INFO - Chain [1] start processing\n",
      "00:37:21 - cmdstanpy - INFO - Chain [1] start processing\n",
      "00:37:21 - cmdstanpy - INFO - Chain [1] start processing\n",
      "00:37:21 - cmdstanpy - INFO - Chain [1] done processing\n",
      "00:37:21 - cmdstanpy - INFO - Chain [1] done processing\n",
      "00:37:21 - cmdstanpy - INFO - Chain [1] start processing\n",
      "00:37:21 - cmdstanpy - INFO - Chain [1] start processing\n",
      "00:37:21 - cmdstanpy - INFO - Chain [1] start processing\n",
      "00:37:21 - cmdstanpy - INFO - Chain [1] done processing\n",
      "00:37:21 - cmdstanpy - INFO - Chain [1] done processing\n",
      "00:37:21 - cmdstanpy - INFO - Chain [1] start processing\n",
      "00:37:21 - cmdstanpy - INFO - Chain [1] start processing\n",
      "00:37:21 - cmdstanpy - INFO - Chain [1] start processing\n",
      "00:37:21 - cmdstanpy - INFO - Chain [1] done processing\n",
      "00:37:21 - cmdstanpy - ERROR - Chain [1] error: error during processing Operation not permitted\n",
      "Optimization terminated abnormally. Falling back to Newton.\n",
      "00:37:21 - cmdstanpy - INFO - Chain [1] done processing\n",
      "00:37:21 - cmdstanpy - ERROR - Chain [1] error: error during processing Operation not permitted\n",
      "00:37:21 - cmdstanpy - INFO - Chain [1] start processing\n",
      "Optimization terminated abnormally. Falling back to Newton.\n",
      "00:37:21 - cmdstanpy - INFO - Chain [1] start processing\n",
      "00:37:21 - cmdstanpy - INFO - Chain [1] start processing\n",
      "00:37:21 - cmdstanpy - INFO - Chain [1] done processing\n",
      "00:37:21 - cmdstanpy - INFO - Chain [1] start processing\n",
      "00:37:21 - cmdstanpy - ERROR - Chain [1] error: error during processing Operation not permitted\n",
      "Optimization terminated abnormally. Falling back to Newton.\n",
      "00:37:22 - cmdstanpy - INFO - Chain [1] done processing\n",
      "00:37:22 - cmdstanpy - ERROR - Chain [1] error: error during processing Operation not permitted\n",
      "Optimization terminated abnormally. Falling back to Newton.\n",
      "00:37:22 - cmdstanpy - INFO - Chain [1] start processing\n",
      "00:37:22 - cmdstanpy - INFO - Chain [1] start processing\n",
      "00:37:22 - cmdstanpy - INFO - Chain [1] done processing\n",
      "00:37:22 - cmdstanpy - INFO - Chain [1] done processing\n",
      "00:37:22 - cmdstanpy - INFO - Chain [1] done processing\n",
      "00:37:22 - cmdstanpy - INFO - Chain [1] done processing\n",
      "00:37:22 - cmdstanpy - INFO - Chain [1] done processing\n",
      "00:37:22 - cmdstanpy - INFO - Chain [1] start processing\n",
      "00:37:22 - cmdstanpy - INFO - Chain [1] done processing\n",
      "00:37:22 - cmdstanpy - INFO - Chain [1] done processing\n",
      "00:37:22 - cmdstanpy - INFO - Chain [1] done processing\n",
      "00:37:22 - cmdstanpy - INFO - Chain [1] done processing\n",
      "00:37:22 - cmdstanpy - ERROR - Chain [1] error: error during processing Operation not permitted\n",
      "Optimization terminated abnormally. Falling back to Newton.\n",
      "00:37:22 - cmdstanpy - INFO - Chain [1] start processing\n",
      "00:37:22 - cmdstanpy - INFO - Chain [1] start processing\n",
      "00:37:22 - cmdstanpy - INFO - Chain [1] done processing\n",
      "00:37:22 - cmdstanpy - ERROR - Chain [1] error: error during processing Operation not permitted\n",
      "Optimization terminated abnormally. Falling back to Newton.\n",
      "00:37:22 - cmdstanpy - INFO - Chain [1] done processing\n",
      "00:37:22 - cmdstanpy - INFO - Chain [1] start processing\n",
      "00:37:22 - cmdstanpy - INFO - Chain [1] done processing\n",
      "00:37:22 - cmdstanpy - ERROR - Chain [1] error: error during processing Operation not permitted\n",
      "Optimization terminated abnormally. Falling back to Newton.\n",
      "00:37:22 - cmdstanpy - INFO - Chain [1] start processing\n",
      "00:37:22 - cmdstanpy - INFO - Chain [1] done processing\n",
      "00:37:22 - cmdstanpy - INFO - Chain [1] start processing\n",
      "00:37:22 - cmdstanpy - INFO - Chain [1] done processing\n",
      "00:37:22 - cmdstanpy - INFO - Chain [1] done processing\n",
      "00:37:22 - cmdstanpy - INFO - Chain [1] done processing\n",
      "00:37:23 - cmdstanpy - INFO - Chain [1] done processing\n",
      "00:37:23 - cmdstanpy - INFO - Chain [1] done processing\n",
      "00:37:23 - cmdstanpy - INFO - Chain [1] start processing\n",
      "00:37:23 - cmdstanpy - INFO - Chain [1] done processing\n",
      "00:37:23 - cmdstanpy - ERROR - Chain [1] error: error during processing Operation not permitted\n",
      "Optimization terminated abnormally. Falling back to Newton.\n",
      "00:37:23 - cmdstanpy - INFO - Chain [1] start processing\n",
      "00:37:23 - cmdstanpy - INFO - Chain [1] done processing\n",
      "00:37:24 - cmdstanpy - INFO - Chain [1] start processing\n",
      "00:37:24 - cmdstanpy - INFO - Chain [1] start processing\n",
      "00:37:24 - cmdstanpy - INFO - Chain [1] start processing\n",
      "00:37:24 - cmdstanpy - INFO - Chain [1] start processing\n",
      "00:37:24 - cmdstanpy - INFO - Chain [1] start processing\n",
      "00:37:24 - cmdstanpy - INFO - Chain [1] start processing\n",
      "00:37:24 - cmdstanpy - INFO - Chain [1] start processing\n",
      "00:37:24 - cmdstanpy - INFO - Chain [1] start processing\n",
      "00:37:24 - cmdstanpy - INFO - Chain [1] start processing\n",
      "00:37:24 - cmdstanpy - INFO - Chain [1] start processing\n",
      "00:37:24 - cmdstanpy - INFO - Chain [1] start processing\n",
      "00:37:24 - cmdstanpy - INFO - Chain [1] start processing\n",
      "00:37:24 - cmdstanpy - INFO - Chain [1] done processing\n",
      "00:37:24 - cmdstanpy - INFO - Chain [1] done processing\n",
      "00:37:24 - cmdstanpy - INFO - Chain [1] done processing\n",
      "00:37:24 - cmdstanpy - INFO - Chain [1] done processing\n",
      "00:37:24 - cmdstanpy - INFO - Chain [1] done processing\n",
      "00:37:24 - cmdstanpy - INFO - Chain [1] done processing\n",
      "00:37:24 - cmdstanpy - INFO - Chain [1] done processing\n",
      "00:37:24 - cmdstanpy - INFO - Chain [1] done processing\n",
      "00:37:24 - cmdstanpy - INFO - Chain [1] start processing\n",
      "00:37:24 - cmdstanpy - INFO - Chain [1] done processing\n",
      "00:37:24 - cmdstanpy - INFO - Chain [1] done processing\n",
      "00:37:24 - cmdstanpy - INFO - Chain [1] done processing\n",
      "00:37:24 - cmdstanpy - INFO - Chain [1] start processing\n",
      "00:37:24 - cmdstanpy - INFO - Chain [1] start processing\n",
      "00:37:24 - cmdstanpy - INFO - Chain [1] start processing\n",
      "00:37:24 - cmdstanpy - INFO - Chain [1] start processing\n",
      "00:37:24 - cmdstanpy - INFO - Chain [1] done processing\n",
      "00:37:25 - cmdstanpy - INFO - Chain [1] start processing\n",
      "00:37:25 - cmdstanpy - INFO - Chain [1] start processing\n",
      "00:37:25 - cmdstanpy - INFO - Chain [1] start processing\n",
      "00:37:25 - cmdstanpy - INFO - Chain [1] start processing\n",
      "00:37:25 - cmdstanpy - INFO - Chain [1] start processing\n",
      "00:37:25 - cmdstanpy - INFO - Chain [1] start processing\n",
      "00:37:25 - cmdstanpy - INFO - Chain [1] start processing\n",
      "00:37:25 - cmdstanpy - INFO - Chain [1] done processing\n",
      "00:37:25 - cmdstanpy - INFO - Chain [1] done processing\n",
      "00:37:25 - cmdstanpy - INFO - Chain [1] done processing\n",
      "00:37:25 - cmdstanpy - INFO - Chain [1] done processing\n",
      "00:37:25 - cmdstanpy - INFO - Chain [1] done processing\n",
      "00:37:25 - cmdstanpy - INFO - Chain [1] done processing\n",
      "00:37:25 - cmdstanpy - INFO - Chain [1] start processing\n",
      "00:37:25 - cmdstanpy - INFO - Chain [1] start processing\n",
      "00:37:25 - cmdstanpy - INFO - Chain [1] done processing\n",
      "00:37:25 - cmdstanpy - INFO - Chain [1] start processing\n",
      "00:37:25 - cmdstanpy - INFO - Chain [1] done processing\n",
      "00:37:25 - cmdstanpy - INFO - Chain [1] start processing\n",
      "00:37:25 - cmdstanpy - INFO - Chain [1] start processing\n",
      "00:37:25 - cmdstanpy - INFO - Chain [1] start processing\n",
      "00:37:25 - cmdstanpy - INFO - Chain [1] done processing\n",
      "00:37:25 - cmdstanpy - INFO - Chain [1] done processing\n",
      "00:37:26 - cmdstanpy - INFO - Chain [1] start processing\n",
      "00:37:26 - cmdstanpy - INFO - Chain [1] done processing\n",
      "00:37:26 - cmdstanpy - INFO - Chain [1] start processing\n",
      "00:37:26 - cmdstanpy - INFO - Chain [1] done processing\n",
      "00:37:26 - cmdstanpy - INFO - Chain [1] start processing\n",
      "00:37:26 - cmdstanpy - INFO - Chain [1] start processing\n",
      "00:37:26 - cmdstanpy - INFO - Chain [1] done processing\n",
      "00:37:26 - cmdstanpy - INFO - Chain [1] start processing\n",
      "00:37:26 - cmdstanpy - INFO - Chain [1] done processing\n",
      "00:37:26 - cmdstanpy - INFO - Chain [1] done processing\n",
      "00:37:26 - cmdstanpy - ERROR - Chain [1] error: error during processing Operation not permitted\n",
      "00:37:26 - cmdstanpy - INFO - Chain [1] start processing\n",
      "00:37:26 - cmdstanpy - INFO - Chain [1] done processing\n",
      "00:37:26 - cmdstanpy - INFO - Chain [1] done processing\n",
      "Optimization terminated abnormally. Falling back to Newton.\n",
      "00:37:26 - cmdstanpy - INFO - Chain [1] done processing\n",
      "00:37:26 - cmdstanpy - ERROR - Chain [1] error: error during processing Operation not permitted\n",
      "00:37:26 - cmdstanpy - INFO - Chain [1] start processing\n",
      "Optimization terminated abnormally. Falling back to Newton.\n",
      "00:37:26 - cmdstanpy - INFO - Chain [1] start processing\n",
      "00:37:26 - cmdstanpy - INFO - Chain [1] start processing\n",
      "00:37:26 - cmdstanpy - INFO - Chain [1] start processing\n",
      "00:37:26 - cmdstanpy - INFO - Chain [1] done processing\n",
      "00:37:26 - cmdstanpy - INFO - Chain [1] done processing\n",
      "00:37:26 - cmdstanpy - INFO - Chain [1] done processing\n",
      "00:37:26 - cmdstanpy - INFO - Chain [1] start processing\n",
      "00:37:26 - cmdstanpy - ERROR - Chain [1] error: error during processing Operation not permitted\n",
      "Optimization terminated abnormally. Falling back to Newton.\n",
      "00:37:26 - cmdstanpy - INFO - Chain [1] done processing\n",
      "00:37:26 - cmdstanpy - ERROR - Chain [1] error: error during processing Operation not permitted\n",
      "00:37:26 - cmdstanpy - INFO - Chain [1] start processing\n",
      "00:37:26 - cmdstanpy - INFO - Chain [1] start processing\n",
      "00:37:26 - cmdstanpy - INFO - Chain [1] done processing\n",
      "00:37:26 - cmdstanpy - ERROR - Chain [1] error: error during processing Operation not permitted\n",
      "Optimization terminated abnormally. Falling back to Newton.\n",
      "Optimization terminated abnormally. Falling back to Newton.\n",
      "00:37:26 - cmdstanpy - INFO - Chain [1] start processing\n",
      "00:37:26 - cmdstanpy - INFO - Chain [1] start processing\n",
      "00:37:26 - cmdstanpy - INFO - Chain [1] done processing\n",
      "00:37:26 - cmdstanpy - INFO - Chain [1] start processing\n",
      "00:37:26 - cmdstanpy - INFO - Chain [1] done processing\n",
      "00:37:26 - cmdstanpy - ERROR - Chain [1] error: error during processing Operation not permitted\n",
      "Optimization terminated abnormally. Falling back to Newton.\n",
      "00:37:26 - cmdstanpy - INFO - Chain [1] done processing\n",
      "00:37:26 - cmdstanpy - INFO - Chain [1] start processing\n",
      "00:37:26 - cmdstanpy - ERROR - Chain [1] error: error during processing Operation not permitted\n",
      "Optimization terminated abnormally. Falling back to Newton.\n",
      "00:37:26 - cmdstanpy - INFO - Chain [1] done processing\n",
      "00:37:26 - cmdstanpy - INFO - Chain [1] start processing\n",
      "00:37:27 - cmdstanpy - INFO - Chain [1] done processing\n",
      "00:37:27 - cmdstanpy - INFO - Chain [1] done processing\n",
      "00:37:27 - cmdstanpy - INFO - Chain [1] done processing\n",
      "00:37:27 - cmdstanpy - INFO - Chain [1] done processing\n",
      "00:37:27 - cmdstanpy - INFO - Chain [1] done processing\n",
      "00:37:27 - cmdstanpy - INFO - Chain [1] done processing\n",
      "00:37:27 - cmdstanpy - INFO - Chain [1] done processing\n",
      "00:37:27 - cmdstanpy - INFO - Chain [1] done processing\n",
      "00:37:27 - cmdstanpy - INFO - Chain [1] done processing\n",
      "00:37:27 - cmdstanpy - INFO - Chain [1] start processing\n",
      "00:37:27 - cmdstanpy - INFO - Chain [1] done processing\n",
      "00:37:27 - cmdstanpy - ERROR - Chain [1] error: error during processing Operation not permitted\n",
      "Optimization terminated abnormally. Falling back to Newton.\n",
      "00:37:27 - cmdstanpy - INFO - Chain [1] start processing\n",
      "00:37:28 - cmdstanpy - INFO - Chain [1] done processing\n",
      "00:37:28 - cmdstanpy - INFO - Chain [1] start processing\n",
      "00:37:28 - cmdstanpy - INFO - Chain [1] start processing\n",
      "00:37:28 - cmdstanpy - INFO - Chain [1] start processing\n",
      "00:37:28 - cmdstanpy - INFO - Chain [1] start processing\n",
      "00:37:28 - cmdstanpy - INFO - Chain [1] start processing\n",
      "00:37:28 - cmdstanpy - INFO - Chain [1] start processing\n",
      "00:37:28 - cmdstanpy - INFO - Chain [1] start processing\n",
      "00:37:28 - cmdstanpy - INFO - Chain [1] start processing\n",
      "00:37:28 - cmdstanpy - INFO - Chain [1] start processing\n",
      "00:37:28 - cmdstanpy - INFO - Chain [1] start processing\n",
      "00:37:28 - cmdstanpy - INFO - Chain [1] start processing\n",
      "00:37:28 - cmdstanpy - INFO - Chain [1] start processing\n",
      "00:37:28 - cmdstanpy - INFO - Chain [1] done processing\n",
      "00:37:28 - cmdstanpy - INFO - Chain [1] done processing\n",
      "00:37:29 - cmdstanpy - INFO - Chain [1] done processing\n",
      "00:37:29 - cmdstanpy - INFO - Chain [1] done processing\n",
      "00:37:29 - cmdstanpy - INFO - Chain [1] done processing\n",
      "00:37:29 - cmdstanpy - INFO - Chain [1] done processing\n",
      "00:37:29 - cmdstanpy - INFO - Chain [1] start processing\n",
      "00:37:29 - cmdstanpy - INFO - Chain [1] start processing\n",
      "00:37:29 - cmdstanpy - INFO - Chain [1] start processing\n",
      "00:37:29 - cmdstanpy - INFO - Chain [1] done processing\n",
      "00:37:29 - cmdstanpy - INFO - Chain [1] done processing\n",
      "00:37:29 - cmdstanpy - INFO - Chain [1] done processing\n",
      "00:37:29 - cmdstanpy - INFO - Chain [1] start processing\n",
      "00:37:29 - cmdstanpy - INFO - Chain [1] start processing\n",
      "00:37:29 - cmdstanpy - INFO - Chain [1] done processing\n",
      "00:37:29 - cmdstanpy - INFO - Chain [1] done processing\n",
      "00:37:29 - cmdstanpy - INFO - Chain [1] done processing\n",
      "00:37:29 - cmdstanpy - INFO - Chain [1] done processing\n",
      "00:37:29 - cmdstanpy - INFO - Chain [1] start processing\n",
      "00:37:29 - cmdstanpy - INFO - Chain [1] start processing\n",
      "00:37:29 - cmdstanpy - INFO - Chain [1] start processing\n",
      "00:37:29 - cmdstanpy - INFO - Chain [1] start processing\n",
      "00:37:29 - cmdstanpy - INFO - Chain [1] start processing\n",
      "00:37:29 - cmdstanpy - INFO - Chain [1] start processing\n",
      "00:37:29 - cmdstanpy - INFO - Chain [1] start processing\n",
      "00:37:29 - cmdstanpy - INFO - Chain [1] done processing\n",
      "00:37:29 - cmdstanpy - INFO - Chain [1] start processing\n",
      "00:37:30 - cmdstanpy - INFO - Chain [1] start processing\n",
      "00:37:30 - cmdstanpy - INFO - Chain [1] done processing\n",
      "00:37:30 - cmdstanpy - INFO - Chain [1] done processing\n",
      "00:37:30 - cmdstanpy - INFO - Chain [1] done processing\n",
      "00:37:30 - cmdstanpy - INFO - Chain [1] done processing\n",
      "00:37:30 - cmdstanpy - INFO - Chain [1] done processing\n",
      "00:37:30 - cmdstanpy - INFO - Chain [1] start processing\n",
      "00:37:30 - cmdstanpy - INFO - Chain [1] start processing\n",
      "00:37:30 - cmdstanpy - INFO - Chain [1] start processing\n",
      "00:37:30 - cmdstanpy - INFO - Chain [1] done processing\n",
      "00:37:30 - cmdstanpy - INFO - Chain [1] done processing\n",
      "00:37:30 - cmdstanpy - INFO - Chain [1] done processing\n",
      "00:37:30 - cmdstanpy - INFO - Chain [1] done processing\n",
      "00:37:30 - cmdstanpy - INFO - Chain [1] start processing\n",
      "00:37:30 - cmdstanpy - INFO - Chain [1] start processing\n",
      "00:37:30 - cmdstanpy - INFO - Chain [1] start processing\n",
      "00:37:30 - cmdstanpy - INFO - Chain [1] start processing\n",
      "00:37:30 - cmdstanpy - INFO - Chain [1] start processing\n",
      "00:37:30 - cmdstanpy - INFO - Chain [1] start processing\n",
      "00:37:30 - cmdstanpy - INFO - Chain [1] done processing\n",
      "00:37:30 - cmdstanpy - INFO - Chain [1] done processing\n",
      "00:37:30 - cmdstanpy - ERROR - Chain [1] error: error during processing Operation not permitted\n",
      "Optimization terminated abnormally. Falling back to Newton.\n",
      "00:37:30 - cmdstanpy - INFO - Chain [1] done processing\n",
      "00:37:30 - cmdstanpy - INFO - Chain [1] start processing\n",
      "00:37:30 - cmdstanpy - INFO - Chain [1] done processing\n",
      "00:37:30 - cmdstanpy - INFO - Chain [1] done processing\n",
      "00:37:30 - cmdstanpy - INFO - Chain [1] start processing\n",
      "00:37:30 - cmdstanpy - INFO - Chain [1] done processing\n",
      "00:37:30 - cmdstanpy - ERROR - Chain [1] error: error during processing Operation not permitted\n",
      "00:37:30 - cmdstanpy - INFO - Chain [1] start processing\n",
      "Optimization terminated abnormally. Falling back to Newton.\n",
      "00:37:30 - cmdstanpy - INFO - Chain [1] start processing\n",
      "00:37:30 - cmdstanpy - INFO - Chain [1] done processing\n",
      "00:37:30 - cmdstanpy - INFO - Chain [1] start processing\n",
      "00:37:30 - cmdstanpy - INFO - Chain [1] done processing\n",
      "00:37:31 - cmdstanpy - ERROR - Chain [1] error: error during processing Operation not permitted\n",
      "Optimization terminated abnormally. Falling back to Newton.\n",
      "00:37:31 - cmdstanpy - INFO - Chain [1] start processing\n",
      "00:37:31 - cmdstanpy - INFO - Chain [1] done processing\n",
      "00:37:31 - cmdstanpy - INFO - Chain [1] done processing\n",
      "00:37:31 - cmdstanpy - ERROR - Chain [1] error: error during processing Operation not permitted\n",
      "Optimization terminated abnormally. Falling back to Newton.\n",
      "00:37:31 - cmdstanpy - INFO - Chain [1] done processing\n",
      "00:37:31 - cmdstanpy - INFO - Chain [1] start processing\n",
      "00:37:31 - cmdstanpy - INFO - Chain [1] done processing\n",
      "00:37:31 - cmdstanpy - INFO - Chain [1] start processing\n",
      "00:37:31 - cmdstanpy - INFO - Chain [1] start processing\n",
      "00:37:31 - cmdstanpy - INFO - Chain [1] done processing\n",
      "00:37:31 - cmdstanpy - INFO - Chain [1] done processing\n",
      "00:37:31 - cmdstanpy - ERROR - Chain [1] error: error during processing Operation not permitted\n",
      "00:37:31 - cmdstanpy - ERROR - Chain [1] error: error during processing Operation not permitted\n",
      "Optimization terminated abnormally. Falling back to Newton.\n",
      "Optimization terminated abnormally. Falling back to Newton.\n",
      "00:37:31 - cmdstanpy - INFO - Chain [1] start processing\n",
      "00:37:31 - cmdstanpy - INFO - Chain [1] start processing\n",
      "00:37:31 - cmdstanpy - INFO - Chain [1] start processing\n",
      "00:37:31 - cmdstanpy - INFO - Chain [1] done processing\n",
      "00:37:31 - cmdstanpy - INFO - Chain [1] done processing\n",
      "00:37:31 - cmdstanpy - ERROR - Chain [1] error: error during processing Operation not permitted\n",
      "Optimization terminated abnormally. Falling back to Newton.\n",
      "00:37:31 - cmdstanpy - INFO - Chain [1] start processing\n",
      "00:37:31 - cmdstanpy - INFO - Chain [1] done processing\n",
      "00:37:31 - cmdstanpy - INFO - Chain [1] done processing\n",
      "00:37:31 - cmdstanpy - INFO - Chain [1] done processing\n",
      "00:37:31 - cmdstanpy - INFO - Chain [1] done processing\n",
      "00:37:31 - cmdstanpy - INFO - Chain [1] done processing\n",
      "00:37:31 - cmdstanpy - INFO - Chain [1] done processing\n",
      "00:37:31 - cmdstanpy - INFO - Chain [1] done processing\n",
      "00:37:32 - cmdstanpy - INFO - Chain [1] done processing\n",
      "00:37:41 - cmdstanpy - INFO - Chain [1] done processing\n",
      "00:37:42 - cmdstanpy - INFO - Chain [1] start processing\n",
      "00:37:42 - cmdstanpy - INFO - Chain [1] done processing\n",
      "00:37:42 - cmdstanpy - INFO - Chain [1] start processing\n",
      "00:37:42 - cmdstanpy - INFO - Chain [1] start processing\n",
      "00:37:42 - cmdstanpy - INFO - Chain [1] start processing\n",
      "00:37:42 - cmdstanpy - INFO - Chain [1] start processing\n",
      "00:37:42 - cmdstanpy - INFO - Chain [1] start processing\n",
      "00:37:42 - cmdstanpy - INFO - Chain [1] start processing\n",
      "00:37:42 - cmdstanpy - INFO - Chain [1] start processing\n",
      "00:37:42 - cmdstanpy - INFO - Chain [1] start processing\n",
      "00:37:42 - cmdstanpy - INFO - Chain [1] start processing\n",
      "00:37:42 - cmdstanpy - INFO - Chain [1] start processing\n",
      "00:37:42 - cmdstanpy - INFO - Chain [1] start processing\n",
      "00:37:42 - cmdstanpy - INFO - Chain [1] start processing\n",
      "00:37:42 - cmdstanpy - INFO - Chain [1] done processing\n",
      "00:37:42 - cmdstanpy - INFO - Chain [1] done processing\n",
      "00:37:42 - cmdstanpy - INFO - Chain [1] done processing\n",
      "00:37:42 - cmdstanpy - INFO - Chain [1] done processing\n",
      "00:37:42 - cmdstanpy - INFO - Chain [1] done processing\n",
      "00:37:42 - cmdstanpy - INFO - Chain [1] done processing\n",
      "00:37:42 - cmdstanpy - INFO - Chain [1] done processing\n",
      "00:37:42 - cmdstanpy - INFO - Chain [1] start processing\n",
      "00:37:42 - cmdstanpy - INFO - Chain [1] done processing\n",
      "00:37:42 - cmdstanpy - INFO - Chain [1] done processing\n",
      "00:37:42 - cmdstanpy - INFO - Chain [1] done processing\n",
      "00:37:42 - cmdstanpy - INFO - Chain [1] done processing\n",
      "00:37:43 - cmdstanpy - INFO - Chain [1] start processing\n",
      "00:37:43 - cmdstanpy - INFO - Chain [1] start processing\n",
      "00:37:43 - cmdstanpy - INFO - Chain [1] start processing\n",
      "00:37:43 - cmdstanpy - INFO - Chain [1] start processing\n",
      "00:37:43 - cmdstanpy - INFO - Chain [1] done processing\n",
      "00:37:43 - cmdstanpy - INFO - Chain [1] start processing\n",
      "00:37:43 - cmdstanpy - INFO - Chain [1] start processing\n",
      "00:37:43 - cmdstanpy - INFO - Chain [1] start processing\n",
      "00:37:43 - cmdstanpy - INFO - Chain [1] start processing\n",
      "00:37:43 - cmdstanpy - INFO - Chain [1] start processing\n",
      "00:37:43 - cmdstanpy - INFO - Chain [1] start processing\n",
      "00:37:43 - cmdstanpy - INFO - Chain [1] done processing\n",
      "00:37:43 - cmdstanpy - INFO - Chain [1] start processing\n",
      "00:37:43 - cmdstanpy - INFO - Chain [1] done processing\n",
      "00:37:43 - cmdstanpy - INFO - Chain [1] done processing\n",
      "00:37:43 - cmdstanpy - INFO - Chain [1] done processing\n",
      "00:37:43 - cmdstanpy - INFO - Chain [1] done processing\n",
      "00:37:43 - cmdstanpy - INFO - Chain [1] done processing\n",
      "00:37:43 - cmdstanpy - INFO - Chain [1] done processing\n",
      "00:37:43 - cmdstanpy - INFO - Chain [1] done processing\n",
      "00:37:43 - cmdstanpy - INFO - Chain [1] start processing\n",
      "00:37:44 - cmdstanpy - INFO - Chain [1] start processing\n",
      "00:37:44 - cmdstanpy - INFO - Chain [1] start processing\n",
      "00:37:44 - cmdstanpy - INFO - Chain [1] done processing\n",
      "00:37:44 - cmdstanpy - INFO - Chain [1] start processing\n",
      "00:37:44 - cmdstanpy - INFO - Chain [1] done processing\n",
      "00:37:44 - cmdstanpy - INFO - Chain [1] start processing\n",
      "00:37:44 - cmdstanpy - INFO - Chain [1] start processing\n",
      "00:37:44 - cmdstanpy - INFO - Chain [1] start processing\n",
      "00:37:44 - cmdstanpy - INFO - Chain [1] done processing\n",
      "00:37:44 - cmdstanpy - INFO - Chain [1] done processing\n",
      "00:37:44 - cmdstanpy - INFO - Chain [1] done processing\n",
      "00:37:44 - cmdstanpy - INFO - Chain [1] start processing\n",
      "00:37:44 - cmdstanpy - INFO - Chain [1] start processing\n",
      "00:37:44 - cmdstanpy - INFO - Chain [1] start processing\n",
      "00:37:44 - cmdstanpy - INFO - Chain [1] done processing\n",
      "00:37:44 - cmdstanpy - INFO - Chain [1] start processing\n",
      "00:37:44 - cmdstanpy - INFO - Chain [1] done processing\n",
      "00:37:44 - cmdstanpy - INFO - Chain [1] start processing\n",
      "00:37:44 - cmdstanpy - INFO - Chain [1] start processing\n",
      "00:37:44 - cmdstanpy - INFO - Chain [1] done processing\n",
      "00:37:44 - cmdstanpy - INFO - Chain [1] done processing\n",
      "00:37:44 - cmdstanpy - INFO - Chain [1] done processing\n",
      "00:37:44 - cmdstanpy - INFO - Chain [1] done processing\n",
      "00:37:44 - cmdstanpy - INFO - Chain [1] start processing\n",
      "00:37:44 - cmdstanpy - INFO - Chain [1] start processing\n",
      "00:37:44 - cmdstanpy - INFO - Chain [1] done processing\n",
      "00:37:44 - cmdstanpy - INFO - Chain [1] start processing\n",
      "00:37:44 - cmdstanpy - INFO - Chain [1] done processing\n",
      "00:37:44 - cmdstanpy - INFO - Chain [1] done processing\n",
      "00:37:45 - cmdstanpy - INFO - Chain [1] done processing\n",
      "00:37:45 - cmdstanpy - INFO - Chain [1] done processing\n",
      "00:37:45 - cmdstanpy - INFO - Chain [1] done processing\n",
      "00:37:45 - cmdstanpy - INFO - Chain [1] start processing\n",
      "00:37:45 - cmdstanpy - INFO - Chain [1] done processing\n",
      "00:37:45 - cmdstanpy - INFO - Chain [1] done processing\n",
      "00:37:45 - cmdstanpy - INFO - Chain [1] done processing\n",
      "00:37:45 - cmdstanpy - INFO - Chain [1] done processing\n",
      "00:37:45 - cmdstanpy - INFO - Chain [1] start processing\n",
      "00:37:45 - cmdstanpy - INFO - Chain [1] done processing\n",
      "00:37:46 - cmdstanpy - INFO - Chain [1] start processing\n",
      "00:37:46 - cmdstanpy - INFO - Chain [1] start processing\n",
      "00:37:46 - cmdstanpy - INFO - Chain [1] start processing\n",
      "00:37:46 - cmdstanpy - INFO - Chain [1] start processing\n",
      "00:37:46 - cmdstanpy - INFO - Chain [1] start processing\n",
      "00:37:46 - cmdstanpy - INFO - Chain [1] start processing\n",
      "00:37:46 - cmdstanpy - INFO - Chain [1] start processing\n",
      "00:37:46 - cmdstanpy - INFO - Chain [1] start processing\n",
      "00:37:46 - cmdstanpy - INFO - Chain [1] start processing\n",
      "00:37:46 - cmdstanpy - INFO - Chain [1] start processing\n",
      "00:37:46 - cmdstanpy - INFO - Chain [1] start processing\n",
      "00:37:46 - cmdstanpy - INFO - Chain [1] start processing\n",
      "00:37:46 - cmdstanpy - INFO - Chain [1] done processing\n",
      "00:37:46 - cmdstanpy - INFO - Chain [1] done processing\n",
      "00:37:46 - cmdstanpy - INFO - Chain [1] done processing\n",
      "00:37:47 - cmdstanpy - INFO - Chain [1] done processing\n",
      "00:37:47 - cmdstanpy - INFO - Chain [1] done processing\n",
      "00:37:47 - cmdstanpy - INFO - Chain [1] done processing\n",
      "00:37:47 - cmdstanpy - INFO - Chain [1] done processing\n",
      "00:37:47 - cmdstanpy - INFO - Chain [1] done processing\n",
      "00:37:47 - cmdstanpy - INFO - Chain [1] start processing\n",
      "00:37:47 - cmdstanpy - INFO - Chain [1] start processing\n",
      "00:37:47 - cmdstanpy - INFO - Chain [1] start processing\n",
      "00:37:47 - cmdstanpy - INFO - Chain [1] done processing\n",
      "00:37:47 - cmdstanpy - INFO - Chain [1] start processing\n",
      "00:37:47 - cmdstanpy - INFO - Chain [1] done processing\n",
      "00:37:47 - cmdstanpy - INFO - Chain [1] done processing\n",
      "00:37:47 - cmdstanpy - INFO - Chain [1] start processing\n",
      "00:37:47 - cmdstanpy - INFO - Chain [1] start processing\n",
      "00:37:47 - cmdstanpy - INFO - Chain [1] start processing\n",
      "00:37:47 - cmdstanpy - INFO - Chain [1] start processing\n",
      "00:37:47 - cmdstanpy - INFO - Chain [1] start processing\n",
      "00:37:47 - cmdstanpy - INFO - Chain [1] done processing\n",
      "00:37:47 - cmdstanpy - INFO - Chain [1] start processing\n",
      "00:37:47 - cmdstanpy - INFO - Chain [1] start processing\n",
      "00:37:47 - cmdstanpy - INFO - Chain [1] done processing\n",
      "00:37:48 - cmdstanpy - INFO - Chain [1] done processing\n",
      "00:37:48 - cmdstanpy - INFO - Chain [1] done processing\n",
      "00:37:48 - cmdstanpy - INFO - Chain [1] done processing\n",
      "00:37:48 - cmdstanpy - INFO - Chain [1] done processing\n",
      "00:37:48 - cmdstanpy - INFO - Chain [1] start processing\n",
      "00:37:48 - cmdstanpy - INFO - Chain [1] done processing\n",
      "00:37:48 - cmdstanpy - INFO - Chain [1] done processing\n",
      "00:37:48 - cmdstanpy - INFO - Chain [1] done processing\n",
      "00:37:48 - cmdstanpy - INFO - Chain [1] done processing\n",
      "00:37:48 - cmdstanpy - INFO - Chain [1] start processing\n",
      "00:37:48 - cmdstanpy - INFO - Chain [1] start processing\n",
      "00:37:48 - cmdstanpy - INFO - Chain [1] start processing\n",
      "00:37:48 - cmdstanpy - INFO - Chain [1] start processing\n",
      "00:37:48 - cmdstanpy - INFO - Chain [1] done processing\n",
      "00:37:48 - cmdstanpy - INFO - Chain [1] start processing\n",
      "00:37:48 - cmdstanpy - INFO - Chain [1] start processing\n",
      "00:37:48 - cmdstanpy - INFO - Chain [1] done processing\n",
      "00:37:48 - cmdstanpy - INFO - Chain [1] start processing\n",
      "00:37:48 - cmdstanpy - INFO - Chain [1] start processing\n",
      "00:37:48 - cmdstanpy - INFO - Chain [1] start processing\n",
      "00:37:48 - cmdstanpy - INFO - Chain [1] start processing\n",
      "00:37:48 - cmdstanpy - INFO - Chain [1] start processing\n",
      "00:37:48 - cmdstanpy - INFO - Chain [1] done processing\n",
      "00:37:48 - cmdstanpy - INFO - Chain [1] done processing\n",
      "00:37:48 - cmdstanpy - INFO - Chain [1] done processing\n",
      "00:37:49 - cmdstanpy - INFO - Chain [1] done processing\n",
      "00:37:49 - cmdstanpy - INFO - Chain [1] start processing\n",
      "00:37:49 - cmdstanpy - INFO - Chain [1] start processing\n",
      "00:37:49 - cmdstanpy - INFO - Chain [1] done processing\n",
      "00:37:49 - cmdstanpy - INFO - Chain [1] done processing\n",
      "00:37:49 - cmdstanpy - INFO - Chain [1] done processing\n",
      "00:37:49 - cmdstanpy - INFO - Chain [1] start processing\n",
      "00:37:49 - cmdstanpy - INFO - Chain [1] start processing\n",
      "00:37:49 - cmdstanpy - INFO - Chain [1] done processing\n",
      "00:37:49 - cmdstanpy - INFO - Chain [1] start processing\n",
      "00:37:49 - cmdstanpy - INFO - Chain [1] done processing\n",
      "00:37:49 - cmdstanpy - INFO - Chain [1] start processing\n",
      "00:37:49 - cmdstanpy - INFO - Chain [1] done processing\n",
      "00:37:49 - cmdstanpy - INFO - Chain [1] done processing\n",
      "00:37:49 - cmdstanpy - INFO - Chain [1] done processing\n",
      "00:37:49 - cmdstanpy - INFO - Chain [1] done processing\n",
      "00:37:49 - cmdstanpy - INFO - Chain [1] done processing\n",
      "00:37:49 - cmdstanpy - INFO - Chain [1] done processing\n",
      "00:37:49 - cmdstanpy - INFO - Chain [1] done processing\n",
      "00:37:49 - cmdstanpy - INFO - Chain [1] done processing\n",
      "00:37:49 - cmdstanpy - INFO - Chain [1] done processing\n",
      "00:37:50 - cmdstanpy - INFO - Chain [1] start processing\n",
      "00:37:50 - cmdstanpy - INFO - Chain [1] done processing\n",
      "00:37:50 - cmdstanpy - INFO - Chain [1] start processing\n",
      "00:37:50 - cmdstanpy - INFO - Chain [1] start processing\n",
      "00:37:50 - cmdstanpy - INFO - Chain [1] start processing\n",
      "00:37:50 - cmdstanpy - INFO - Chain [1] start processing\n",
      "00:37:50 - cmdstanpy - INFO - Chain [1] start processing\n",
      "00:37:50 - cmdstanpy - INFO - Chain [1] start processing\n",
      "00:37:50 - cmdstanpy - INFO - Chain [1] start processing\n",
      "00:37:50 - cmdstanpy - INFO - Chain [1] start processing\n",
      "00:37:50 - cmdstanpy - INFO - Chain [1] start processing\n",
      "00:37:50 - cmdstanpy - INFO - Chain [1] start processing\n",
      "00:37:50 - cmdstanpy - INFO - Chain [1] start processing\n",
      "00:37:50 - cmdstanpy - INFO - Chain [1] start processing\n",
      "00:37:50 - cmdstanpy - INFO - Chain [1] done processing\n",
      "00:37:50 - cmdstanpy - INFO - Chain [1] done processing\n",
      "00:37:50 - cmdstanpy - INFO - Chain [1] done processing\n",
      "00:37:51 - cmdstanpy - INFO - Chain [1] done processing\n",
      "00:37:51 - cmdstanpy - INFO - Chain [1] done processing\n",
      "00:37:51 - cmdstanpy - INFO - Chain [1] done processing\n",
      "00:37:51 - cmdstanpy - INFO - Chain [1] done processing\n",
      "00:37:51 - cmdstanpy - INFO - Chain [1] start processing\n",
      "00:37:51 - cmdstanpy - INFO - Chain [1] done processing\n",
      "00:37:51 - cmdstanpy - INFO - Chain [1] done processing\n",
      "00:37:51 - cmdstanpy - INFO - Chain [1] start processing\n",
      "00:37:51 - cmdstanpy - INFO - Chain [1] done processing\n",
      "00:37:51 - cmdstanpy - INFO - Chain [1] start processing\n",
      "00:37:51 - cmdstanpy - INFO - Chain [1] start processing\n",
      "00:37:51 - cmdstanpy - INFO - Chain [1] start processing\n",
      "00:37:51 - cmdstanpy - INFO - Chain [1] start processing\n",
      "00:37:51 - cmdstanpy - INFO - Chain [1] start processing\n",
      "00:37:51 - cmdstanpy - INFO - Chain [1] start processing\n",
      "00:37:51 - cmdstanpy - INFO - Chain [1] start processing\n",
      "00:37:51 - cmdstanpy - INFO - Chain [1] done processing\n",
      "00:37:51 - cmdstanpy - INFO - Chain [1] start processing\n",
      "00:37:51 - cmdstanpy - INFO - Chain [1] done processing\n",
      "00:37:51 - cmdstanpy - INFO - Chain [1] done processing\n",
      "00:37:51 - cmdstanpy - INFO - Chain [1] done processing\n",
      "00:37:51 - cmdstanpy - INFO - Chain [1] start processing\n",
      "00:37:51 - cmdstanpy - INFO - Chain [1] done processing\n",
      "00:37:51 - cmdstanpy - INFO - Chain [1] done processing\n",
      "00:37:52 - cmdstanpy - INFO - Chain [1] done processing\n",
      "00:37:52 - cmdstanpy - INFO - Chain [1] start processing\n",
      "00:37:52 - cmdstanpy - INFO - Chain [1] done processing\n",
      "00:37:52 - cmdstanpy - INFO - Chain [1] start processing\n",
      "00:37:52 - cmdstanpy - INFO - Chain [1] done processing\n",
      "00:37:52 - cmdstanpy - INFO - Chain [1] start processing\n",
      "00:37:52 - cmdstanpy - INFO - Chain [1] start processing\n",
      "00:37:52 - cmdstanpy - INFO - Chain [1] done processing\n",
      "00:37:52 - cmdstanpy - INFO - Chain [1] start processing\n",
      "00:37:52 - cmdstanpy - INFO - Chain [1] start processing\n",
      "00:37:52 - cmdstanpy - INFO - Chain [1] start processing\n",
      "00:37:52 - cmdstanpy - INFO - Chain [1] done processing\n",
      "00:37:52 - cmdstanpy - INFO - Chain [1] start processing\n",
      "00:37:52 - cmdstanpy - INFO - Chain [1] start processing\n",
      "00:37:52 - cmdstanpy - INFO - Chain [1] done processing\n",
      "00:37:52 - cmdstanpy - INFO - Chain [1] done processing\n",
      "00:37:52 - cmdstanpy - INFO - Chain [1] done processing\n",
      "00:37:52 - cmdstanpy - INFO - Chain [1] done processing\n",
      "00:37:52 - cmdstanpy - INFO - Chain [1] start processing\n",
      "00:37:52 - cmdstanpy - INFO - Chain [1] start processing\n",
      "00:37:52 - cmdstanpy - INFO - Chain [1] start processing\n",
      "00:37:52 - cmdstanpy - INFO - Chain [1] done processing\n",
      "00:37:52 - cmdstanpy - INFO - Chain [1] start processing\n",
      "00:37:52 - cmdstanpy - INFO - Chain [1] start processing\n",
      "00:37:53 - cmdstanpy - INFO - Chain [1] done processing\n",
      "00:37:53 - cmdstanpy - INFO - Chain [1] done processing\n",
      "00:37:53 - cmdstanpy - INFO - Chain [1] done processing\n",
      "00:37:53 - cmdstanpy - INFO - Chain [1] done processing\n",
      "00:37:53 - cmdstanpy - INFO - Chain [1] start processing\n",
      "00:37:53 - cmdstanpy - INFO - Chain [1] done processing\n",
      "00:37:53 - cmdstanpy - INFO - Chain [1] start processing\n",
      "00:37:53 - cmdstanpy - INFO - Chain [1] done processing\n",
      "00:37:53 - cmdstanpy - INFO - Chain [1] done processing\n",
      "00:37:53 - cmdstanpy - INFO - Chain [1] done processing\n",
      "00:37:53 - cmdstanpy - INFO - Chain [1] start processing\n",
      "00:37:53 - cmdstanpy - INFO - Chain [1] start processing\n",
      "00:37:53 - cmdstanpy - INFO - Chain [1] done processing\n",
      "00:37:53 - cmdstanpy - INFO - Chain [1] done processing\n",
      "00:37:53 - cmdstanpy - INFO - Chain [1] done processing\n",
      "00:37:53 - cmdstanpy - INFO - Chain [1] done processing\n",
      "00:37:53 - cmdstanpy - INFO - Chain [1] done processing\n",
      "00:37:53 - cmdstanpy - INFO - Chain [1] done processing\n",
      "00:38:00 - cmdstanpy - INFO - Chain [1] done processing\n",
      "00:38:01 - cmdstanpy - INFO - Chain [1] start processing\n",
      "00:38:01 - cmdstanpy - INFO - Chain [1] done processing\n",
      "00:38:01 - cmdstanpy - INFO - Chain [1] start processing\n",
      "00:38:01 - cmdstanpy - INFO - Chain [1] start processing\n",
      "00:38:01 - cmdstanpy - INFO - Chain [1] start processing\n",
      "00:38:01 - cmdstanpy - INFO - Chain [1] start processing\n",
      "00:38:01 - cmdstanpy - INFO - Chain [1] start processing\n",
      "00:38:01 - cmdstanpy - INFO - Chain [1] start processing\n",
      "00:38:01 - cmdstanpy - INFO - Chain [1] start processing\n",
      "00:38:01 - cmdstanpy - INFO - Chain [1] start processing\n",
      "00:38:01 - cmdstanpy - INFO - Chain [1] start processing\n",
      "00:38:01 - cmdstanpy - INFO - Chain [1] start processing\n",
      "00:38:01 - cmdstanpy - INFO - Chain [1] start processing\n",
      "00:38:01 - cmdstanpy - INFO - Chain [1] start processing\n",
      "00:38:02 - cmdstanpy - INFO - Chain [1] done processing\n",
      "00:38:02 - cmdstanpy - INFO - Chain [1] done processing\n",
      "00:38:02 - cmdstanpy - INFO - Chain [1] done processing\n",
      "00:38:02 - cmdstanpy - INFO - Chain [1] done processing\n",
      "00:38:02 - cmdstanpy - INFO - Chain [1] done processing\n",
      "00:38:02 - cmdstanpy - INFO - Chain [1] done processing\n",
      "00:38:02 - cmdstanpy - INFO - Chain [1] start processing\n",
      "00:38:02 - cmdstanpy - INFO - Chain [1] done processing\n",
      "00:38:02 - cmdstanpy - INFO - Chain [1] start processing\n",
      "00:38:02 - cmdstanpy - INFO - Chain [1] start processing\n",
      "00:38:02 - cmdstanpy - INFO - Chain [1] start processing\n",
      "00:38:02 - cmdstanpy - INFO - Chain [1] done processing\n",
      "00:38:02 - cmdstanpy - INFO - Chain [1] done processing\n",
      "00:38:02 - cmdstanpy - INFO - Chain [1] start processing\n",
      "00:38:02 - cmdstanpy - INFO - Chain [1] start processing\n",
      "00:38:02 - cmdstanpy - INFO - Chain [1] start processing\n",
      "00:38:02 - cmdstanpy - INFO - Chain [1] start processing\n",
      "00:38:02 - cmdstanpy - INFO - Chain [1] done processing\n",
      "00:38:03 - cmdstanpy - INFO - Chain [1] start processing\n",
      "00:38:03 - cmdstanpy - INFO - Chain [1] done processing\n",
      "00:38:03 - cmdstanpy - INFO - Chain [1] done processing\n",
      "00:38:03 - cmdstanpy - INFO - Chain [1] start processing\n",
      "00:38:03 - cmdstanpy - INFO - Chain [1] done processing\n",
      "00:38:03 - cmdstanpy - INFO - Chain [1] done processing\n",
      "00:38:03 - cmdstanpy - INFO - Chain [1] done processing\n",
      "00:38:03 - cmdstanpy - INFO - Chain [1] start processing\n",
      "00:38:03 - cmdstanpy - INFO - Chain [1] done processing\n",
      "00:38:03 - cmdstanpy - INFO - Chain [1] start processing\n",
      "00:38:03 - cmdstanpy - INFO - Chain [1] start processing\n",
      "00:38:03 - cmdstanpy - INFO - Chain [1] start processing\n",
      "00:38:03 - cmdstanpy - INFO - Chain [1] start processing\n",
      "00:38:03 - cmdstanpy - INFO - Chain [1] done processing\n",
      "00:38:03 - cmdstanpy - INFO - Chain [1] done processing\n",
      "00:38:03 - cmdstanpy - INFO - Chain [1] start processing\n",
      "00:38:03 - cmdstanpy - INFO - Chain [1] done processing\n",
      "00:38:03 - cmdstanpy - INFO - Chain [1] done processing\n",
      "00:38:03 - cmdstanpy - INFO - Chain [1] start processing\n",
      "00:38:03 - cmdstanpy - INFO - Chain [1] done processing\n",
      "00:38:03 - cmdstanpy - INFO - Chain [1] start processing\n",
      "00:38:03 - cmdstanpy - INFO - Chain [1] done processing\n",
      "00:38:04 - cmdstanpy - INFO - Chain [1] start processing\n",
      "00:38:04 - cmdstanpy - INFO - Chain [1] start processing\n",
      "00:38:04 - cmdstanpy - INFO - Chain [1] start processing\n",
      "00:38:04 - cmdstanpy - INFO - Chain [1] start processing\n",
      "00:38:04 - cmdstanpy - INFO - Chain [1] done processing\n",
      "00:38:04 - cmdstanpy - INFO - Chain [1] done processing\n",
      "00:38:04 - cmdstanpy - INFO - Chain [1] done processing\n",
      "00:38:04 - cmdstanpy - INFO - Chain [1] done processing\n",
      "00:38:04 - cmdstanpy - INFO - Chain [1] done processing\n",
      "00:38:04 - cmdstanpy - INFO - Chain [1] start processing\n",
      "00:38:04 - cmdstanpy - INFO - Chain [1] start processing\n",
      "00:38:04 - cmdstanpy - INFO - Chain [1] done processing\n",
      "00:38:04 - cmdstanpy - INFO - Chain [1] done processing\n",
      "00:38:04 - cmdstanpy - INFO - Chain [1] start processing\n",
      "00:38:04 - cmdstanpy - INFO - Chain [1] done processing\n",
      "00:38:04 - cmdstanpy - INFO - Chain [1] start processing\n",
      "00:38:04 - cmdstanpy - INFO - Chain [1] start processing\n",
      "00:38:04 - cmdstanpy - INFO - Chain [1] done processing\n",
      "00:38:04 - cmdstanpy - INFO - Chain [1] done processing\n",
      "00:38:04 - cmdstanpy - INFO - Chain [1] done processing\n",
      "00:38:04 - cmdstanpy - INFO - Chain [1] done processing\n",
      "00:38:04 - cmdstanpy - INFO - Chain [1] start processing\n",
      "00:38:04 - cmdstanpy - INFO - Chain [1] start processing\n",
      "00:38:04 - cmdstanpy - INFO - Chain [1] done processing\n",
      "00:38:04 - cmdstanpy - INFO - Chain [1] done processing\n",
      "00:38:04 - cmdstanpy - INFO - Chain [1] done processing\n",
      "00:38:05 - cmdstanpy - INFO - Chain [1] done processing\n",
      "00:38:05 - cmdstanpy - INFO - Chain [1] done processing\n",
      "00:38:05 - cmdstanpy - INFO - Chain [1] done processing\n",
      "00:38:11 - cmdstanpy - INFO - Chain [1] done processing\n",
      "00:38:12 - cmdstanpy - INFO - Chain [1] start processing\n",
      "00:38:12 - cmdstanpy - INFO - Chain [1] done processing\n",
      "00:38:12 - cmdstanpy - INFO - Chain [1] start processing\n",
      "00:38:12 - cmdstanpy - INFO - Chain [1] start processing\n",
      "00:38:12 - cmdstanpy - INFO - Chain [1] start processing\n",
      "00:38:12 - cmdstanpy - INFO - Chain [1] start processing\n",
      "00:38:12 - cmdstanpy - INFO - Chain [1] start processing\n",
      "00:38:12 - cmdstanpy - INFO - Chain [1] start processing\n",
      "00:38:12 - cmdstanpy - INFO - Chain [1] start processing\n",
      "00:38:12 - cmdstanpy - INFO - Chain [1] start processing\n",
      "00:38:12 - cmdstanpy - INFO - Chain [1] start processing\n",
      "00:38:12 - cmdstanpy - INFO - Chain [1] start processing\n",
      "00:38:12 - cmdstanpy - INFO - Chain [1] start processing\n",
      "00:38:12 - cmdstanpy - INFO - Chain [1] start processing\n",
      "00:38:12 - cmdstanpy - INFO - Chain [1] done processing\n",
      "00:38:12 - cmdstanpy - INFO - Chain [1] done processing\n",
      "00:38:12 - cmdstanpy - INFO - Chain [1] done processing\n",
      "00:38:12 - cmdstanpy - INFO - Chain [1] done processing\n",
      "00:38:12 - cmdstanpy - INFO - Chain [1] start processing\n",
      "00:38:12 - cmdstanpy - INFO - Chain [1] done processing\n",
      "00:38:13 - cmdstanpy - INFO - Chain [1] done processing\n",
      "00:38:13 - cmdstanpy - INFO - Chain [1] done processing\n",
      "00:38:13 - cmdstanpy - INFO - Chain [1] start processing\n",
      "00:38:13 - cmdstanpy - INFO - Chain [1] start processing\n",
      "00:38:13 - cmdstanpy - INFO - Chain [1] start processing\n",
      "00:38:13 - cmdstanpy - INFO - Chain [1] done processing\n",
      "00:38:13 - cmdstanpy - INFO - Chain [1] done processing\n",
      "00:38:13 - cmdstanpy - INFO - Chain [1] done processing\n",
      "00:38:13 - cmdstanpy - INFO - Chain [1] done processing\n",
      "00:38:13 - cmdstanpy - INFO - Chain [1] start processing\n",
      "00:38:13 - cmdstanpy - INFO - Chain [1] done processing\n",
      "00:38:13 - cmdstanpy - INFO - Chain [1] start processing\n",
      "00:38:13 - cmdstanpy - INFO - Chain [1] start processing\n",
      "00:38:13 - cmdstanpy - INFO - Chain [1] start processing\n",
      "00:38:13 - cmdstanpy - INFO - Chain [1] start processing\n",
      "00:38:13 - cmdstanpy - INFO - Chain [1] start processing\n",
      "00:38:13 - cmdstanpy - INFO - Chain [1] start processing\n",
      "00:38:13 - cmdstanpy - INFO - Chain [1] start processing\n",
      "00:38:13 - cmdstanpy - INFO - Chain [1] done processing\n",
      "00:38:13 - cmdstanpy - INFO - Chain [1] done processing\n",
      "00:38:13 - cmdstanpy - INFO - Chain [1] done processing\n",
      "00:38:13 - cmdstanpy - INFO - Chain [1] done processing\n",
      "00:38:14 - cmdstanpy - INFO - Chain [1] start processing\n",
      "00:38:14 - cmdstanpy - INFO - Chain [1] done processing\n",
      "00:38:14 - cmdstanpy - INFO - Chain [1] done processing\n",
      "00:38:14 - cmdstanpy - INFO - Chain [1] done processing\n",
      "00:38:14 - cmdstanpy - INFO - Chain [1] start processing\n",
      "00:38:14 - cmdstanpy - INFO - Chain [1] start processing\n",
      "00:38:14 - cmdstanpy - INFO - Chain [1] start processing\n",
      "00:38:14 - cmdstanpy - INFO - Chain [1] done processing\n",
      "00:38:14 - cmdstanpy - INFO - Chain [1] start processing\n",
      "00:38:14 - cmdstanpy - INFO - Chain [1] start processing\n",
      "00:38:14 - cmdstanpy - INFO - Chain [1] done processing\n",
      "00:38:14 - cmdstanpy - INFO - Chain [1] done processing\n",
      "00:38:14 - cmdstanpy - INFO - Chain [1] done processing\n",
      "00:38:14 - cmdstanpy - INFO - Chain [1] start processing\n",
      "00:38:14 - cmdstanpy - INFO - Chain [1] start processing\n",
      "00:38:14 - cmdstanpy - INFO - Chain [1] start processing\n",
      "00:38:14 - cmdstanpy - INFO - Chain [1] done processing\n",
      "00:38:14 - cmdstanpy - INFO - Chain [1] start processing\n",
      "00:38:14 - cmdstanpy - INFO - Chain [1] start processing\n",
      "00:38:14 - cmdstanpy - INFO - Chain [1] done processing\n",
      "00:38:14 - cmdstanpy - INFO - Chain [1] start processing\n",
      "00:38:14 - cmdstanpy - INFO - Chain [1] done processing\n",
      "00:38:15 - cmdstanpy - INFO - Chain [1] start processing\n",
      "00:38:15 - cmdstanpy - INFO - Chain [1] done processing\n",
      "00:38:15 - cmdstanpy - INFO - Chain [1] done processing\n",
      "00:38:15 - cmdstanpy - INFO - Chain [1] done processing\n",
      "00:38:15 - cmdstanpy - INFO - Chain [1] done processing\n",
      "00:38:15 - cmdstanpy - INFO - Chain [1] start processing\n",
      "00:38:15 - cmdstanpy - INFO - Chain [1] done processing\n",
      "00:38:15 - cmdstanpy - INFO - Chain [1] start processing\n",
      "00:38:15 - cmdstanpy - INFO - Chain [1] done processing\n",
      "00:38:15 - cmdstanpy - INFO - Chain [1] start processing\n",
      "00:38:15 - cmdstanpy - INFO - Chain [1] done processing\n",
      "00:38:15 - cmdstanpy - INFO - Chain [1] done processing\n",
      "00:38:15 - cmdstanpy - INFO - Chain [1] start processing\n",
      "00:38:15 - cmdstanpy - INFO - Chain [1] done processing\n",
      "00:38:15 - cmdstanpy - INFO - Chain [1] done processing\n",
      "00:38:15 - cmdstanpy - INFO - Chain [1] done processing\n",
      "00:38:15 - cmdstanpy - INFO - Chain [1] done processing\n",
      "00:38:15 - cmdstanpy - INFO - Chain [1] done processing\n",
      "00:38:15 - cmdstanpy - INFO - Chain [1] done processing\n",
      "00:38:15 - cmdstanpy - INFO - Chain [1] done processing\n",
      "00:38:16 - cmdstanpy - INFO - Chain [1] start processing\n",
      "00:38:16 - cmdstanpy - INFO - Chain [1] done processing\n",
      "00:38:16 - cmdstanpy - INFO - Chain [1] start processing\n",
      "00:38:16 - cmdstanpy - INFO - Chain [1] start processing\n",
      "00:38:16 - cmdstanpy - INFO - Chain [1] start processing\n",
      "00:38:16 - cmdstanpy - INFO - Chain [1] start processing\n",
      "00:38:16 - cmdstanpy - INFO - Chain [1] start processing\n",
      "00:38:16 - cmdstanpy - INFO - Chain [1] start processing\n",
      "00:38:16 - cmdstanpy - INFO - Chain [1] start processing\n",
      "00:38:16 - cmdstanpy - INFO - Chain [1] start processing\n",
      "00:38:17 - cmdstanpy - INFO - Chain [1] start processing\n",
      "00:38:17 - cmdstanpy - INFO - Chain [1] start processing\n",
      "00:38:17 - cmdstanpy - INFO - Chain [1] start processing\n",
      "00:38:17 - cmdstanpy - INFO - Chain [1] start processing\n",
      "00:38:17 - cmdstanpy - INFO - Chain [1] done processing\n",
      "00:38:17 - cmdstanpy - INFO - Chain [1] done processing\n",
      "00:38:17 - cmdstanpy - INFO - Chain [1] done processing\n",
      "00:38:17 - cmdstanpy - INFO - Chain [1] done processing\n",
      "00:38:17 - cmdstanpy - INFO - Chain [1] start processing\n",
      "00:38:17 - cmdstanpy - INFO - Chain [1] start processing\n",
      "00:38:17 - cmdstanpy - INFO - Chain [1] start processing\n",
      "00:38:17 - cmdstanpy - INFO - Chain [1] done processing\n",
      "00:38:17 - cmdstanpy - INFO - Chain [1] done processing\n",
      "00:38:17 - cmdstanpy - INFO - Chain [1] start processing\n",
      "00:38:17 - cmdstanpy - INFO - Chain [1] start processing\n",
      "00:38:18 - cmdstanpy - INFO - Chain [1] start processing\n",
      "00:38:18 - cmdstanpy - INFO - Chain [1] done processing\n",
      "00:38:18 - cmdstanpy - INFO - Chain [1] done processing\n",
      "00:38:18 - cmdstanpy - INFO - Chain [1] done processing\n",
      "00:38:18 - cmdstanpy - INFO - Chain [1] start processing\n",
      "00:38:18 - cmdstanpy - INFO - Chain [1] done processing\n",
      "00:38:18 - cmdstanpy - INFO - Chain [1] start processing\n",
      "00:38:18 - cmdstanpy - INFO - Chain [1] done processing\n",
      "00:38:18 - cmdstanpy - INFO - Chain [1] start processing\n",
      "00:38:18 - cmdstanpy - INFO - Chain [1] start processing\n",
      "00:38:18 - cmdstanpy - INFO - Chain [1] start processing\n",
      "00:38:18 - cmdstanpy - INFO - Chain [1] done processing\n",
      "00:38:19 - cmdstanpy - INFO - Chain [1] done processing\n",
      "00:38:19 - cmdstanpy - INFO - Chain [1] done processing\n",
      "00:38:19 - cmdstanpy - INFO - Chain [1] start processing\n",
      "00:38:19 - cmdstanpy - INFO - Chain [1] start processing\n",
      "00:38:19 - cmdstanpy - INFO - Chain [1] start processing\n",
      "00:38:19 - cmdstanpy - INFO - Chain [1] done processing\n",
      "00:38:19 - cmdstanpy - INFO - Chain [1] done processing\n",
      "00:38:19 - cmdstanpy - INFO - Chain [1] done processing\n",
      "00:38:20 - cmdstanpy - INFO - Chain [1] start processing\n",
      "00:38:20 - cmdstanpy - INFO - Chain [1] done processing\n",
      "00:38:20 - cmdstanpy - INFO - Chain [1] start processing\n",
      "00:38:20 - cmdstanpy - INFO - Chain [1] start processing\n",
      "00:38:20 - cmdstanpy - INFO - Chain [1] done processing\n",
      "00:38:20 - cmdstanpy - INFO - Chain [1] start processing\n",
      "00:38:20 - cmdstanpy - INFO - Chain [1] done processing\n",
      "00:38:20 - cmdstanpy - INFO - Chain [1] start processing\n",
      "00:38:20 - cmdstanpy - INFO - Chain [1] done processing\n",
      "00:38:20 - cmdstanpy - INFO - Chain [1] done processing\n",
      "00:38:21 - cmdstanpy - INFO - Chain [1] start processing\n",
      "00:38:21 - cmdstanpy - INFO - Chain [1] start processing\n",
      "00:38:21 - cmdstanpy - INFO - Chain [1] start processing\n",
      "00:38:21 - cmdstanpy - INFO - Chain [1] done processing\n",
      "00:38:21 - cmdstanpy - INFO - Chain [1] start processing\n",
      "00:38:21 - cmdstanpy - INFO - Chain [1] done processing\n",
      "00:38:21 - cmdstanpy - INFO - Chain [1] done processing\n",
      "00:38:21 - cmdstanpy - INFO - Chain [1] done processing\n",
      "00:38:21 - cmdstanpy - INFO - Chain [1] start processing\n",
      "00:38:21 - cmdstanpy - INFO - Chain [1] done processing\n",
      "00:38:22 - cmdstanpy - INFO - Chain [1] done processing\n",
      "00:38:22 - cmdstanpy - INFO - Chain [1] start processing\n",
      "00:38:22 - cmdstanpy - INFO - Chain [1] start processing\n",
      "00:38:22 - cmdstanpy - INFO - Chain [1] done processing\n",
      "00:38:22 - cmdstanpy - INFO - Chain [1] start processing\n",
      "00:38:22 - cmdstanpy - INFO - Chain [1] start processing\n",
      "00:38:22 - cmdstanpy - INFO - Chain [1] done processing\n",
      "00:38:22 - cmdstanpy - INFO - Chain [1] done processing\n",
      "00:38:22 - cmdstanpy - INFO - Chain [1] done processing\n",
      "00:38:22 - cmdstanpy - INFO - Chain [1] done processing\n",
      "00:38:22 - cmdstanpy - INFO - Chain [1] start processing\n",
      "00:38:22 - cmdstanpy - INFO - Chain [1] done processing\n",
      "00:38:22 - cmdstanpy - INFO - Chain [1] done processing\n",
      "00:38:22 - cmdstanpy - INFO - Chain [1] done processing\n",
      "00:38:23 - cmdstanpy - INFO - Chain [1] done processing\n",
      "00:38:31 - cmdstanpy - INFO - Chain [1] done processing\n",
      "00:38:34 - cmdstanpy - INFO - Chain [1] done processing\n",
      "00:38:36 - cmdstanpy - INFO - Chain [1] done processing\n",
      "00:38:36 - cmdstanpy - INFO - Chain [1] done processing\n",
      "00:38:36 - cmdstanpy - INFO - Chain [1] start processing\n",
      "00:38:36 - cmdstanpy - INFO - Chain [1] done processing\n",
      "00:38:37 - cmdstanpy - INFO - Chain [1] start processing\n",
      "00:38:37 - cmdstanpy - INFO - Chain [1] start processing\n",
      "00:38:37 - cmdstanpy - INFO - Chain [1] start processing\n",
      "00:38:37 - cmdstanpy - INFO - Chain [1] start processing\n",
      "00:38:37 - cmdstanpy - INFO - Chain [1] start processing\n",
      "00:38:37 - cmdstanpy - INFO - Chain [1] start processing\n",
      "00:38:37 - cmdstanpy - INFO - Chain [1] start processing\n",
      "00:38:37 - cmdstanpy - INFO - Chain [1] start processing\n",
      "00:38:37 - cmdstanpy - INFO - Chain [1] start processing\n",
      "00:38:37 - cmdstanpy - INFO - Chain [1] start processing\n",
      "00:38:37 - cmdstanpy - INFO - Chain [1] start processing\n",
      "00:38:37 - cmdstanpy - INFO - Chain [1] start processing\n",
      "00:38:37 - cmdstanpy - INFO - Chain [1] done processing\n",
      "00:38:37 - cmdstanpy - INFO - Chain [1] done processing\n",
      "00:38:37 - cmdstanpy - INFO - Chain [1] done processing\n",
      "00:38:37 - cmdstanpy - INFO - Chain [1] start processing\n",
      "00:38:37 - cmdstanpy - INFO - Chain [1] done processing\n",
      "00:38:37 - cmdstanpy - INFO - Chain [1] done processing\n",
      "00:38:38 - cmdstanpy - INFO - Chain [1] done processing\n",
      "00:38:38 - cmdstanpy - INFO - Chain [1] start processing\n",
      "00:38:38 - cmdstanpy - INFO - Chain [1] start processing\n",
      "00:38:38 - cmdstanpy - INFO - Chain [1] start processing\n",
      "00:38:38 - cmdstanpy - INFO - Chain [1] start processing\n",
      "00:38:38 - cmdstanpy - INFO - Chain [1] start processing\n",
      "00:38:38 - cmdstanpy - INFO - Chain [1] done processing\n",
      "00:38:38 - cmdstanpy - INFO - Chain [1] start processing\n",
      "00:38:39 - cmdstanpy - INFO - Chain [1] done processing\n",
      "00:38:39 - cmdstanpy - INFO - Chain [1] done processing\n",
      "00:38:39 - cmdstanpy - INFO - Chain [1] done processing\n",
      "00:38:39 - cmdstanpy - INFO - Chain [1] done processing\n",
      "00:38:39 - cmdstanpy - INFO - Chain [1] start processing\n",
      "00:38:39 - cmdstanpy - INFO - Chain [1] done processing\n",
      "00:38:39 - cmdstanpy - INFO - Chain [1] start processing\n",
      "00:38:39 - cmdstanpy - INFO - Chain [1] start processing\n",
      "00:38:39 - cmdstanpy - INFO - Chain [1] done processing\n",
      "00:38:39 - cmdstanpy - INFO - Chain [1] start processing\n",
      "00:38:39 - cmdstanpy - INFO - Chain [1] done processing\n",
      "00:38:39 - cmdstanpy - INFO - Chain [1] start processing\n",
      "00:38:39 - cmdstanpy - INFO - Chain [1] start processing\n",
      "00:38:39 - cmdstanpy - INFO - Chain [1] start processing\n",
      "00:38:40 - cmdstanpy - INFO - Chain [1] done processing\n",
      "00:38:40 - cmdstanpy - INFO - Chain [1] done processing\n",
      "00:38:40 - cmdstanpy - INFO - Chain [1] done processing\n",
      "00:38:40 - cmdstanpy - INFO - Chain [1] done processing\n",
      "00:38:40 - cmdstanpy - INFO - Chain [1] done processing\n",
      "00:38:40 - cmdstanpy - INFO - Chain [1] start processing\n",
      "00:38:40 - cmdstanpy - INFO - Chain [1] start processing\n",
      "00:38:40 - cmdstanpy - INFO - Chain [1] done processing\n",
      "00:38:40 - cmdstanpy - INFO - Chain [1] start processing\n",
      "00:38:40 - cmdstanpy - INFO - Chain [1] start processing\n",
      "00:38:40 - cmdstanpy - INFO - Chain [1] start processing\n",
      "00:38:40 - cmdstanpy - INFO - Chain [1] start processing\n",
      "00:38:41 - cmdstanpy - INFO - Chain [1] done processing\n",
      "00:38:41 - cmdstanpy - INFO - Chain [1] done processing\n",
      "00:38:41 - cmdstanpy - INFO - Chain [1] start processing\n",
      "00:38:41 - cmdstanpy - INFO - Chain [1] start processing\n",
      "00:38:42 - cmdstanpy - INFO - Chain [1] done processing\n",
      "00:38:42 - cmdstanpy - INFO - Chain [1] done processing\n",
      "00:38:42 - cmdstanpy - INFO - Chain [1] done processing\n",
      "00:38:42 - cmdstanpy - INFO - Chain [1] start processing\n",
      "00:38:42 - cmdstanpy - INFO - Chain [1] done processing\n",
      "00:38:42 - cmdstanpy - INFO - Chain [1] done processing\n",
      "00:38:42 - cmdstanpy - INFO - Chain [1] done processing\n",
      "00:38:42 - cmdstanpy - INFO - Chain [1] start processing\n",
      "00:38:42 - cmdstanpy - INFO - Chain [1] start processing\n",
      "00:38:42 - cmdstanpy - INFO - Chain [1] done processing\n",
      "00:38:42 - cmdstanpy - INFO - Chain [1] done processing\n",
      "00:38:42 - cmdstanpy - INFO - Chain [1] start processing\n",
      "00:38:42 - cmdstanpy - INFO - Chain [1] start processing\n",
      "00:38:42 - cmdstanpy - INFO - Chain [1] start processing\n",
      "00:38:42 - cmdstanpy - INFO - Chain [1] done processing\n",
      "00:38:42 - cmdstanpy - INFO - Chain [1] done processing\n",
      "00:38:42 - cmdstanpy - INFO - Chain [1] done processing\n",
      "00:38:43 - cmdstanpy - INFO - Chain [1] start processing\n",
      "00:38:43 - cmdstanpy - INFO - Chain [1] done processing\n",
      "00:38:43 - cmdstanpy - INFO - Chain [1] done processing\n",
      "00:38:43 - cmdstanpy - INFO - Chain [1] done processing\n",
      "00:38:52 - cmdstanpy - INFO - Chain [1] done processing\n",
      "00:38:54 - cmdstanpy - INFO - Chain [1] done processing\n",
      "00:38:55 - cmdstanpy - INFO - Chain [1] done processing\n",
      "00:38:55 - cmdstanpy - INFO - Chain [1] done processing\n",
      "00:38:56 - cmdstanpy - INFO - Chain [1] done processing\n",
      "00:38:56 - cmdstanpy - INFO - Chain [1] start processing\n",
      "00:38:56 - cmdstanpy - INFO - Chain [1] done processing\n",
      "00:38:57 - cmdstanpy - INFO - Chain [1] start processing\n",
      "00:38:57 - cmdstanpy - INFO - Chain [1] start processing\n",
      "00:38:57 - cmdstanpy - INFO - Chain [1] start processing\n",
      "00:38:57 - cmdstanpy - INFO - Chain [1] start processing\n",
      "00:38:57 - cmdstanpy - INFO - Chain [1] start processing\n",
      "00:38:57 - cmdstanpy - INFO - Chain [1] start processing\n",
      "00:38:57 - cmdstanpy - INFO - Chain [1] start processing\n",
      "00:38:57 - cmdstanpy - INFO - Chain [1] start processing\n",
      "00:38:57 - cmdstanpy - INFO - Chain [1] start processing\n",
      "00:38:57 - cmdstanpy - INFO - Chain [1] start processing\n",
      "00:38:57 - cmdstanpy - INFO - Chain [1] start processing\n",
      "00:38:57 - cmdstanpy - INFO - Chain [1] start processing\n",
      "00:38:57 - cmdstanpy - INFO - Chain [1] done processing\n",
      "00:38:57 - cmdstanpy - INFO - Chain [1] done processing\n",
      "00:38:58 - cmdstanpy - INFO - Chain [1] done processing\n",
      "00:38:58 - cmdstanpy - INFO - Chain [1] done processing\n",
      "00:38:58 - cmdstanpy - INFO - Chain [1] done processing\n",
      "00:38:58 - cmdstanpy - INFO - Chain [1] start processing\n",
      "00:38:58 - cmdstanpy - INFO - Chain [1] start processing\n",
      "00:38:58 - cmdstanpy - INFO - Chain [1] start processing\n",
      "00:38:58 - cmdstanpy - INFO - Chain [1] start processing\n",
      "00:38:58 - cmdstanpy - INFO - Chain [1] start processing\n",
      "00:38:58 - cmdstanpy - INFO - Chain [1] done processing\n",
      "00:38:58 - cmdstanpy - INFO - Chain [1] start processing\n",
      "00:38:58 - cmdstanpy - INFO - Chain [1] done processing\n",
      "00:38:59 - cmdstanpy - INFO - Chain [1] done processing\n",
      "00:38:59 - cmdstanpy - INFO - Chain [1] start processing\n",
      "00:38:59 - cmdstanpy - INFO - Chain [1] done processing\n",
      "00:38:59 - cmdstanpy - INFO - Chain [1] done processing\n",
      "00:38:59 - cmdstanpy - INFO - Chain [1] start processing\n",
      "00:38:59 - cmdstanpy - INFO - Chain [1] done processing\n",
      "00:38:59 - cmdstanpy - INFO - Chain [1] done processing\n",
      "00:39:00 - cmdstanpy - INFO - Chain [1] start processing\n",
      "00:38:59 - cmdstanpy - INFO - Chain [1] start processing\n",
      "00:39:00 - cmdstanpy - INFO - Chain [1] done processing\n",
      "00:39:00 - cmdstanpy - INFO - Chain [1] start processing\n",
      "00:39:00 - cmdstanpy - INFO - Chain [1] start processing\n",
      "00:39:00 - cmdstanpy - INFO - Chain [1] start processing\n",
      "00:39:00 - cmdstanpy - INFO - Chain [1] done processing\n",
      "00:39:00 - cmdstanpy - INFO - Chain [1] done processing\n",
      "00:39:00 - cmdstanpy - INFO - Chain [1] done processing\n",
      "00:39:01 - cmdstanpy - INFO - Chain [1] start processing\n",
      "00:39:01 - cmdstanpy - INFO - Chain [1] done processing\n",
      "00:39:01 - cmdstanpy - INFO - Chain [1] start processing\n",
      "00:39:01 - cmdstanpy - INFO - Chain [1] start processing\n",
      "00:39:01 - cmdstanpy - INFO - Chain [1] done processing\n",
      "00:39:01 - cmdstanpy - INFO - Chain [1] start processing\n",
      "00:39:01 - cmdstanpy - INFO - Chain [1] start processing\n",
      "00:39:02 - cmdstanpy - INFO - Chain [1] done processing\n",
      "00:39:02 - cmdstanpy - INFO - Chain [1] done processing\n",
      "00:39:02 - cmdstanpy - INFO - Chain [1] start processing\n",
      "00:39:02 - cmdstanpy - INFO - Chain [1] done processing\n",
      "00:39:02 - cmdstanpy - INFO - Chain [1] start processing\n",
      "00:39:02 - cmdstanpy - INFO - Chain [1] done processing\n",
      "00:39:02 - cmdstanpy - INFO - Chain [1] done processing\n",
      "00:39:02 - cmdstanpy - INFO - Chain [1] done processing\n",
      "00:39:02 - cmdstanpy - INFO - Chain [1] start processing\n",
      "00:39:02 - cmdstanpy - INFO - Chain [1] start processing\n",
      "00:39:02 - cmdstanpy - INFO - Chain [1] start processing\n",
      "00:39:02 - cmdstanpy - INFO - Chain [1] done processing\n",
      "00:39:03 - cmdstanpy - INFO - Chain [1] start processing\n",
      "00:39:03 - cmdstanpy - INFO - Chain [1] done processing\n",
      "00:39:03 - cmdstanpy - INFO - Chain [1] done processing\n",
      "00:39:03 - cmdstanpy - INFO - Chain [1] start processing\n",
      "00:39:03 - cmdstanpy - INFO - Chain [1] done processing\n",
      "00:39:03 - cmdstanpy - INFO - Chain [1] done processing\n",
      "00:39:03 - cmdstanpy - INFO - Chain [1] start processing\n",
      "00:39:03 - cmdstanpy - INFO - Chain [1] start processing\n",
      "00:39:03 - cmdstanpy - INFO - Chain [1] done processing\n",
      "00:39:03 - cmdstanpy - INFO - Chain [1] start processing\n",
      "00:39:03 - cmdstanpy - INFO - Chain [1] done processing\n",
      "00:39:03 - cmdstanpy - INFO - Chain [1] done processing\n",
      "00:39:03 - cmdstanpy - INFO - Chain [1] start processing\n",
      "00:39:03 - cmdstanpy - INFO - Chain [1] done processing\n",
      "00:39:03 - cmdstanpy - INFO - Chain [1] done processing\n",
      "00:39:04 - cmdstanpy - INFO - Chain [1] done processing\n",
      "00:39:04 - cmdstanpy - INFO - Chain [1] done processing\n",
      "00:39:14 - cmdstanpy - INFO - Chain [1] done processing\n",
      "00:39:15 - cmdstanpy - INFO - Chain [1] done processing\n",
      "00:39:17 - cmdstanpy - INFO - Chain [1] done processing\n",
      "00:39:17 - cmdstanpy - INFO - Chain [1] done processing\n",
      "00:39:20 - cmdstanpy - INFO - Chain [1] done processing\n",
      "00:39:21 - cmdstanpy - INFO - Chain [1] start processing\n",
      "00:39:21 - cmdstanpy - INFO - Chain [1] done processing\n",
      "00:39:21 - cmdstanpy - INFO - Chain [1] start processing\n",
      "00:39:21 - cmdstanpy - INFO - Chain [1] start processing\n",
      "00:39:21 - cmdstanpy - INFO - Chain [1] start processing\n",
      "00:39:21 - cmdstanpy - INFO - Chain [1] start processing\n",
      "00:39:21 - cmdstanpy - INFO - Chain [1] start processing\n",
      "00:39:21 - cmdstanpy - INFO - Chain [1] start processing\n",
      "00:39:21 - cmdstanpy - INFO - Chain [1] start processing\n",
      "00:39:21 - cmdstanpy - INFO - Chain [1] start processing\n",
      "00:39:21 - cmdstanpy - INFO - Chain [1] start processing\n",
      "00:39:21 - cmdstanpy - INFO - Chain [1] start processing\n",
      "00:39:21 - cmdstanpy - INFO - Chain [1] start processing\n",
      "00:39:21 - cmdstanpy - INFO - Chain [1] start processing\n",
      "00:39:22 - cmdstanpy - INFO - Chain [1] done processing\n",
      "00:39:22 - cmdstanpy - INFO - Chain [1] done processing\n",
      "00:39:22 - cmdstanpy - INFO - Chain [1] done processing\n",
      "00:39:22 - cmdstanpy - INFO - Chain [1] start processing\n",
      "00:39:22 - cmdstanpy - INFO - Chain [1] done processing\n",
      "00:39:22 - cmdstanpy - INFO - Chain [1] start processing\n",
      "00:39:22 - cmdstanpy - INFO - Chain [1] done processing\n",
      "00:39:22 - cmdstanpy - INFO - Chain [1] start processing\n",
      "00:39:22 - cmdstanpy - INFO - Chain [1] start processing\n",
      "00:39:23 - cmdstanpy - INFO - Chain [1] done processing\n",
      "00:39:23 - cmdstanpy - INFO - Chain [1] done processing\n",
      "00:39:23 - cmdstanpy - INFO - Chain [1] start processing\n",
      "00:39:23 - cmdstanpy - INFO - Chain [1] done processing\n",
      "00:39:23 - cmdstanpy - INFO - Chain [1] start processing\n",
      "00:39:23 - cmdstanpy - INFO - Chain [1] start processing\n",
      "00:39:23 - cmdstanpy - INFO - Chain [1] start processing\n",
      "00:39:24 - cmdstanpy - INFO - Chain [1] done processing\n",
      "00:39:24 - cmdstanpy - INFO - Chain [1] start processing\n",
      "00:39:24 - cmdstanpy - INFO - Chain [1] done processing\n",
      "00:39:24 - cmdstanpy - INFO - Chain [1] start processing\n",
      "00:39:24 - cmdstanpy - INFO - Chain [1] done processing\n",
      "00:39:24 - cmdstanpy - INFO - Chain [1] done processing\n",
      "00:39:24 - cmdstanpy - INFO - Chain [1] done processing\n",
      "00:39:24 - cmdstanpy - INFO - Chain [1] done processing\n",
      "00:39:24 - cmdstanpy - INFO - Chain [1] start processing\n",
      "00:39:24 - cmdstanpy - INFO - Chain [1] start processing\n",
      "00:39:25 - cmdstanpy - INFO - Chain [1] start processing\n",
      "00:39:25 - cmdstanpy - INFO - Chain [1] start processing\n",
      "00:39:25 - cmdstanpy - INFO - Chain [1] done processing\n",
      "00:39:25 - cmdstanpy - INFO - Chain [1] start processing\n",
      "00:39:25 - cmdstanpy - INFO - Chain [1] done processing\n",
      "00:39:26 - cmdstanpy - INFO - Chain [1] done processing\n",
      "00:39:26 - cmdstanpy - INFO - Chain [1] start processing\n",
      "00:39:26 - cmdstanpy - INFO - Chain [1] start processing\n",
      "00:39:26 - cmdstanpy - INFO - Chain [1] done processing\n",
      "00:39:26 - cmdstanpy - INFO - Chain [1] done processing\n",
      "00:39:26 - cmdstanpy - INFO - Chain [1] start processing\n",
      "00:39:26 - cmdstanpy - INFO - Chain [1] done processing\n",
      "00:39:26 - cmdstanpy - INFO - Chain [1] start processing\n",
      "00:39:27 - cmdstanpy - INFO - Chain [1] done processing\n",
      "00:39:27 - cmdstanpy - INFO - Chain [1] start processing\n",
      "00:39:27 - cmdstanpy - INFO - Chain [1] done processing\n",
      "00:39:27 - cmdstanpy - INFO - Chain [1] done processing\n",
      "00:39:27 - cmdstanpy - INFO - Chain [1] start processing\n",
      "00:39:27 - cmdstanpy - INFO - Chain [1] start processing\n",
      "00:39:27 - cmdstanpy - INFO - Chain [1] start processing\n",
      "00:39:28 - cmdstanpy - INFO - Chain [1] done processing\n",
      "00:39:28 - cmdstanpy - INFO - Chain [1] done processing\n",
      "00:39:28 - cmdstanpy - INFO - Chain [1] start processing\n",
      "00:39:28 - cmdstanpy - INFO - Chain [1] start processing\n",
      "00:39:28 - cmdstanpy - INFO - Chain [1] done processing\n",
      "00:39:28 - cmdstanpy - INFO - Chain [1] done processing\n",
      "00:39:28 - cmdstanpy - INFO - Chain [1] done processing\n",
      "00:39:28 - cmdstanpy - INFO - Chain [1] start processing\n",
      "00:39:28 - cmdstanpy - INFO - Chain [1] done processing\n",
      "00:39:28 - cmdstanpy - INFO - Chain [1] start processing\n",
      "00:39:28 - cmdstanpy - INFO - Chain [1] done processing\n",
      "00:39:28 - cmdstanpy - INFO - Chain [1] done processing\n",
      "00:39:29 - cmdstanpy - INFO - Chain [1] start processing\n",
      "00:39:29 - cmdstanpy - INFO - Chain [1] done processing\n",
      "00:39:29 - cmdstanpy - INFO - Chain [1] start processing\n",
      "00:39:29 - cmdstanpy - INFO - Chain [1] done processing\n",
      "00:39:29 - cmdstanpy - INFO - Chain [1] done processing\n",
      "00:39:29 - cmdstanpy - INFO - Chain [1] done processing\n",
      "00:39:29 - cmdstanpy - INFO - Chain [1] done processing\n",
      "00:39:38 - cmdstanpy - INFO - Chain [1] done processing\n",
      "00:39:41 - cmdstanpy - INFO - Chain [1] done processing\n",
      "00:39:42 - cmdstanpy - INFO - Chain [1] done processing\n",
      "00:39:45 - cmdstanpy - INFO - Chain [1] done processing\n",
      "00:39:46 - cmdstanpy - INFO - Chain [1] done processing\n",
      "00:39:46 - cmdstanpy - INFO - Chain [1] start processing\n",
      "00:39:46 - cmdstanpy - INFO - Chain [1] done processing\n",
      "00:39:46 - cmdstanpy - INFO - Chain [1] start processing\n",
      "00:39:46 - cmdstanpy - INFO - Chain [1] start processing\n",
      "00:39:46 - cmdstanpy - INFO - Chain [1] start processing\n",
      "00:39:46 - cmdstanpy - INFO - Chain [1] start processing\n",
      "00:39:46 - cmdstanpy - INFO - Chain [1] start processing\n",
      "00:39:46 - cmdstanpy - INFO - Chain [1] start processing\n",
      "00:39:46 - cmdstanpy - INFO - Chain [1] start processing\n",
      "00:39:46 - cmdstanpy - INFO - Chain [1] start processing\n",
      "00:39:46 - cmdstanpy - INFO - Chain [1] start processing\n",
      "00:39:46 - cmdstanpy - INFO - Chain [1] start processing\n",
      "00:39:46 - cmdstanpy - INFO - Chain [1] start processing\n",
      "00:39:47 - cmdstanpy - INFO - Chain [1] start processing\n",
      "00:39:47 - cmdstanpy - INFO - Chain [1] done processing\n",
      "00:39:48 - cmdstanpy - INFO - Chain [1] start processing\n",
      "00:39:48 - cmdstanpy - INFO - Chain [1] done processing\n",
      "00:39:48 - cmdstanpy - INFO - Chain [1] start processing\n",
      "00:39:49 - cmdstanpy - INFO - Chain [1] done processing\n",
      "00:39:49 - cmdstanpy - INFO - Chain [1] start processing\n",
      "00:39:49 - cmdstanpy - INFO - Chain [1] done processing\n",
      "00:39:50 - cmdstanpy - INFO - Chain [1] start processing\n",
      "00:39:50 - cmdstanpy - INFO - Chain [1] done processing\n",
      "00:39:50 - cmdstanpy - INFO - Chain [1] start processing\n",
      "00:39:51 - cmdstanpy - INFO - Chain [1] done processing\n",
      "00:39:51 - cmdstanpy - INFO - Chain [1] start processing\n",
      "00:39:51 - cmdstanpy - INFO - Chain [1] done processing\n",
      "00:39:52 - cmdstanpy - INFO - Chain [1] start processing\n",
      "00:39:52 - cmdstanpy - INFO - Chain [1] done processing\n",
      "00:39:53 - cmdstanpy - INFO - Chain [1] done processing\n",
      "00:39:53 - cmdstanpy - INFO - Chain [1] start processing\n",
      "00:39:53 - cmdstanpy - INFO - Chain [1] start processing\n",
      "00:39:54 - cmdstanpy - INFO - Chain [1] done processing\n",
      "00:39:54 - cmdstanpy - INFO - Chain [1] start processing\n",
      "00:39:55 - cmdstanpy - INFO - Chain [1] done processing\n",
      "00:39:55 - cmdstanpy - INFO - Chain [1] start processing\n",
      "00:39:56 - cmdstanpy - INFO - Chain [1] done processing\n",
      "00:39:56 - cmdstanpy - INFO - Chain [1] start processing\n",
      "00:39:56 - cmdstanpy - INFO - Chain [1] done processing\n",
      "00:39:57 - cmdstanpy - INFO - Chain [1] start processing\n",
      "00:39:58 - cmdstanpy - INFO - Chain [1] done processing\n",
      "00:39:58 - cmdstanpy - INFO - Chain [1] done processing\n",
      "00:39:58 - cmdstanpy - INFO - Chain [1] start processing\n",
      "00:39:58 - cmdstanpy - INFO - Chain [1] start processing\n",
      "00:39:59 - cmdstanpy - INFO - Chain [1] done processing\n",
      "00:40:00 - cmdstanpy - INFO - Chain [1] start processing\n",
      "00:40:00 - cmdstanpy - INFO - Chain [1] done processing\n",
      "00:40:00 - cmdstanpy - INFO - Chain [1] start processing\n",
      "00:40:01 - cmdstanpy - INFO - Chain [1] done processing\n",
      "00:40:01 - cmdstanpy - INFO - Chain [1] start processing\n",
      "00:40:01 - cmdstanpy - INFO - Chain [1] done processing\n",
      "00:40:02 - cmdstanpy - INFO - Chain [1] start processing\n",
      "00:40:03 - cmdstanpy - INFO - Chain [1] done processing\n",
      "00:40:03 - cmdstanpy - INFO - Chain [1] start processing\n",
      "00:40:03 - cmdstanpy - INFO - Chain [1] done processing\n",
      "00:40:04 - cmdstanpy - INFO - Chain [1] start processing\n",
      "00:40:05 - cmdstanpy - INFO - Chain [1] done processing\n",
      "00:40:05 - cmdstanpy - INFO - Chain [1] start processing\n",
      "00:40:05 - cmdstanpy - INFO - Chain [1] done processing\n",
      "00:40:06 - cmdstanpy - INFO - Chain [1] start processing\n",
      "00:40:06 - cmdstanpy - INFO - Chain [1] done processing\n",
      "00:40:06 - cmdstanpy - INFO - Chain [1] start processing\n",
      "00:40:06 - cmdstanpy - INFO - Chain [1] done processing\n",
      "00:40:06 - cmdstanpy - INFO - Chain [1] done processing\n",
      "00:40:07 - cmdstanpy - INFO - Chain [1] start processing\n",
      "00:40:07 - cmdstanpy - INFO - Chain [1] start processing\n",
      "00:40:07 - cmdstanpy - INFO - Chain [1] done processing\n",
      "00:40:07 - cmdstanpy - INFO - Chain [1] done processing\n",
      "00:40:07 - cmdstanpy - INFO - Chain [1] start processing\n",
      "00:40:07 - cmdstanpy - INFO - Chain [1] start processing\n",
      "00:40:07 - cmdstanpy - INFO - Chain [1] done processing\n",
      "00:40:07 - cmdstanpy - INFO - Chain [1] done processing\n",
      "00:40:08 - cmdstanpy - INFO - Chain [1] start processing\n",
      "00:40:08 - cmdstanpy - INFO - Chain [1] done processing\n",
      "00:40:12 - cmdstanpy - INFO - Chain [1] done processing\n",
      "00:40:14 - cmdstanpy - INFO - Chain [1] done processing\n",
      "00:40:14 - cmdstanpy - INFO - Chain [1] done processing\n",
      "00:40:16 - cmdstanpy - INFO - Chain [1] done processing\n",
      "00:40:18 - cmdstanpy - INFO - Chain [1] done processing\n",
      "00:40:18 - cmdstanpy - INFO - Chain [1] done processing\n",
      "00:40:20 - cmdstanpy - INFO - Chain [1] done processing\n",
      "00:40:24 - cmdstanpy - INFO - Chain [1] done processing\n",
      "00:40:24 - cmdstanpy - INFO - Chain [1] done processing\n",
      "00:40:24 - cmdstanpy - INFO - Chain [1] done processing\n",
      "00:40:25 - cmdstanpy - INFO - Chain [1] start processing\n",
      "00:40:25 - cmdstanpy - INFO - Chain [1] done processing\n",
      "00:40:25 - cmdstanpy - INFO - Chain [1] start processing\n",
      "00:40:25 - cmdstanpy - INFO - Chain [1] start processing\n",
      "00:40:25 - cmdstanpy - INFO - Chain [1] start processing\n",
      "00:40:25 - cmdstanpy - INFO - Chain [1] start processing\n",
      "00:40:25 - cmdstanpy - INFO - Chain [1] start processing\n",
      "00:40:25 - cmdstanpy - INFO - Chain [1] start processing\n",
      "00:40:25 - cmdstanpy - INFO - Chain [1] start processing\n",
      "00:40:25 - cmdstanpy - INFO - Chain [1] start processing\n",
      "00:40:25 - cmdstanpy - INFO - Chain [1] start processing\n",
      "00:40:25 - cmdstanpy - INFO - Chain [1] start processing\n",
      "00:40:25 - cmdstanpy - INFO - Chain [1] start processing\n",
      "00:40:25 - cmdstanpy - INFO - Chain [1] start processing\n",
      "00:40:26 - cmdstanpy - INFO - Chain [1] done processing\n",
      "00:40:27 - cmdstanpy - INFO - Chain [1] done processing\n",
      "00:40:27 - cmdstanpy - INFO - Chain [1] start processing\n",
      "00:40:27 - cmdstanpy - INFO - Chain [1] start processing\n",
      "00:40:28 - cmdstanpy - INFO - Chain [1] done processing\n",
      "00:40:28 - cmdstanpy - INFO - Chain [1] done processing\n",
      "00:40:29 - cmdstanpy - INFO - Chain [1] start processing\n",
      "00:40:29 - cmdstanpy - INFO - Chain [1] start processing\n",
      "00:40:30 - cmdstanpy - INFO - Chain [1] done processing\n",
      "00:40:30 - cmdstanpy - INFO - Chain [1] start processing\n",
      "00:40:30 - cmdstanpy - INFO - Chain [1] done processing\n",
      "00:40:30 - cmdstanpy - INFO - Chain [1] start processing\n",
      "00:40:31 - cmdstanpy - INFO - Chain [1] done processing\n",
      "00:40:32 - cmdstanpy - INFO - Chain [1] start processing\n",
      "00:40:32 - cmdstanpy - INFO - Chain [1] done processing\n",
      "00:40:33 - cmdstanpy - INFO - Chain [1] start processing\n",
      "00:40:33 - cmdstanpy - INFO - Chain [1] done processing\n",
      "00:40:33 - cmdstanpy - INFO - Chain [1] start processing\n",
      "00:40:34 - cmdstanpy - INFO - Chain [1] done processing\n",
      "00:40:34 - cmdstanpy - INFO - Chain [1] start processing\n",
      "00:40:34 - cmdstanpy - INFO - Chain [1] done processing\n",
      "00:40:35 - cmdstanpy - INFO - Chain [1] start processing\n",
      "00:40:36 - cmdstanpy - INFO - Chain [1] done processing\n",
      "00:40:36 - cmdstanpy - INFO - Chain [1] start processing\n",
      "00:40:36 - cmdstanpy - INFO - Chain [1] done processing\n",
      "00:40:37 - cmdstanpy - INFO - Chain [1] start processing\n",
      "00:40:37 - cmdstanpy - INFO - Chain [1] done processing\n",
      "00:40:38 - cmdstanpy - INFO - Chain [1] start processing\n",
      "00:40:39 - cmdstanpy - INFO - Chain [1] done processing\n",
      "00:40:39 - cmdstanpy - INFO - Chain [1] done processing\n",
      "00:40:39 - cmdstanpy - INFO - Chain [1] start processing\n",
      "00:40:39 - cmdstanpy - INFO - Chain [1] start processing\n",
      "00:40:40 - cmdstanpy - INFO - Chain [1] done processing\n",
      "00:40:41 - cmdstanpy - INFO - Chain [1] start processing\n",
      "00:40:41 - cmdstanpy - INFO - Chain [1] done processing\n",
      "00:40:41 - cmdstanpy - INFO - Chain [1] start processing\n",
      "00:40:42 - cmdstanpy - INFO - Chain [1] done processing\n",
      "00:40:42 - cmdstanpy - INFO - Chain [1] start processing\n",
      "00:40:43 - cmdstanpy - INFO - Chain [1] done processing\n",
      "00:40:43 - cmdstanpy - INFO - Chain [1] start processing\n",
      "00:40:43 - cmdstanpy - INFO - Chain [1] done processing\n",
      "00:40:44 - cmdstanpy - INFO - Chain [1] start processing\n",
      "00:40:44 - cmdstanpy - INFO - Chain [1] done processing\n",
      "00:40:44 - cmdstanpy - INFO - Chain [1] start processing\n",
      "00:40:45 - cmdstanpy - INFO - Chain [1] done processing\n",
      "00:40:45 - cmdstanpy - INFO - Chain [1] done processing\n",
      "00:40:45 - cmdstanpy - INFO - Chain [1] done processing\n",
      "00:40:45 - cmdstanpy - INFO - Chain [1] start processing\n",
      "00:40:45 - cmdstanpy - INFO - Chain [1] start processing\n",
      "00:40:45 - cmdstanpy - INFO - Chain [1] done processing\n",
      "00:40:45 - cmdstanpy - INFO - Chain [1] start processing\n",
      "00:40:45 - cmdstanpy - INFO - Chain [1] done processing\n",
      "00:40:46 - cmdstanpy - INFO - Chain [1] done processing\n",
      "00:40:46 - cmdstanpy - INFO - Chain [1] start processing\n",
      "00:40:46 - cmdstanpy - INFO - Chain [1] start processing\n",
      "00:40:46 - cmdstanpy - INFO - Chain [1] done processing\n",
      "00:40:46 - cmdstanpy - INFO - Chain [1] start processing\n",
      "00:40:46 - cmdstanpy - INFO - Chain [1] done processing\n",
      "00:40:46 - cmdstanpy - INFO - Chain [1] done processing\n",
      "00:40:46 - cmdstanpy - INFO - Chain [1] start processing\n",
      "00:40:46 - cmdstanpy - INFO - Chain [1] done processing\n",
      "00:40:46 - cmdstanpy - INFO - Chain [1] done processing\n",
      "00:40:47 - cmdstanpy - INFO - Chain [1] done processing\n",
      "00:40:52 - cmdstanpy - INFO - Chain [1] done processing\n",
      "00:40:55 - cmdstanpy - INFO - Chain [1] done processing\n",
      "00:40:56 - cmdstanpy - INFO - Chain [1] done processing\n",
      "00:40:56 - cmdstanpy - INFO - Chain [1] done processing\n",
      "00:40:59 - cmdstanpy - INFO - Chain [1] done processing\n",
      "00:41:00 - cmdstanpy - INFO - Chain [1] done processing\n",
      "00:41:01 - cmdstanpy - INFO - Chain [1] done processing\n",
      "00:41:01 - cmdstanpy - INFO - Chain [1] start processing\n",
      "00:41:02 - cmdstanpy - INFO - Chain [1] done processing\n",
      "00:41:02 - cmdstanpy - INFO - Chain [1] start processing\n",
      "00:41:02 - cmdstanpy - INFO - Chain [1] start processing\n",
      "00:41:02 - cmdstanpy - INFO - Chain [1] start processing\n",
      "00:41:02 - cmdstanpy - INFO - Chain [1] start processing\n",
      "00:41:02 - cmdstanpy - INFO - Chain [1] start processing\n",
      "00:41:02 - cmdstanpy - INFO - Chain [1] start processing\n",
      "00:41:02 - cmdstanpy - INFO - Chain [1] start processing\n",
      "00:41:02 - cmdstanpy - INFO - Chain [1] start processing\n",
      "00:41:02 - cmdstanpy - INFO - Chain [1] start processing\n",
      "00:41:02 - cmdstanpy - INFO - Chain [1] start processing\n",
      "00:41:02 - cmdstanpy - INFO - Chain [1] start processing\n",
      "00:41:02 - cmdstanpy - INFO - Chain [1] start processing\n",
      "00:41:03 - cmdstanpy - INFO - Chain [1] done processing\n",
      "00:41:04 - cmdstanpy - INFO - Chain [1] start processing\n",
      "00:41:05 - cmdstanpy - INFO - Chain [1] done processing\n",
      "00:41:05 - cmdstanpy - INFO - Chain [1] start processing\n",
      "00:41:07 - cmdstanpy - INFO - Chain [1] done processing\n",
      "00:41:07 - cmdstanpy - INFO - Chain [1] start processing\n",
      "00:41:07 - cmdstanpy - INFO - Chain [1] done processing\n",
      "00:41:08 - cmdstanpy - INFO - Chain [1] start processing\n",
      "00:41:08 - cmdstanpy - INFO - Chain [1] done processing\n",
      "00:41:08 - cmdstanpy - INFO - Chain [1] start processing\n",
      "00:41:09 - cmdstanpy - INFO - Chain [1] done processing\n",
      "00:41:09 - cmdstanpy - INFO - Chain [1] start processing\n",
      "00:41:10 - cmdstanpy - INFO - Chain [1] done processing\n",
      "00:41:10 - cmdstanpy - INFO - Chain [1] start processing\n",
      "00:41:10 - cmdstanpy - INFO - Chain [1] done processing\n",
      "00:41:11 - cmdstanpy - INFO - Chain [1] start processing\n",
      "00:41:11 - cmdstanpy - INFO - Chain [1] done processing\n",
      "00:41:12 - cmdstanpy - INFO - Chain [1] start processing\n",
      "00:41:13 - cmdstanpy - INFO - Chain [1] done processing\n",
      "00:41:13 - cmdstanpy - INFO - Chain [1] start processing\n",
      "00:41:13 - cmdstanpy - INFO - Chain [1] done processing\n",
      "00:41:13 - cmdstanpy - INFO - Chain [1] start processing\n",
      "00:41:14 - cmdstanpy - INFO - Chain [1] done processing\n",
      "00:41:15 - cmdstanpy - INFO - Chain [1] done processing\n",
      "00:41:15 - cmdstanpy - INFO - Chain [1] start processing\n",
      "00:41:15 - cmdstanpy - INFO - Chain [1] start processing\n",
      "00:41:16 - cmdstanpy - INFO - Chain [1] done processing\n",
      "00:41:16 - cmdstanpy - INFO - Chain [1] done processing\n",
      "00:41:16 - cmdstanpy - INFO - Chain [1] start processing\n",
      "00:41:16 - cmdstanpy - INFO - Chain [1] start processing\n",
      "00:41:18 - cmdstanpy - INFO - Chain [1] done processing\n",
      "00:41:18 - cmdstanpy - INFO - Chain [1] start processing\n",
      "00:41:18 - cmdstanpy - INFO - Chain [1] done processing\n",
      "00:41:19 - cmdstanpy - INFO - Chain [1] start processing\n",
      "00:41:19 - cmdstanpy - INFO - Chain [1] done processing\n",
      "00:41:20 - cmdstanpy - INFO - Chain [1] start processing\n",
      "00:41:20 - cmdstanpy - INFO - Chain [1] done processing\n",
      "00:41:20 - cmdstanpy - INFO - Chain [1] start processing\n",
      "00:41:21 - cmdstanpy - INFO - Chain [1] done processing\n",
      "00:41:22 - cmdstanpy - INFO - Chain [1] start processing\n",
      "00:41:22 - cmdstanpy - INFO - Chain [1] done processing\n",
      "00:41:22 - cmdstanpy - INFO - Chain [1] start processing\n",
      "00:41:23 - cmdstanpy - INFO - Chain [1] done processing\n",
      "00:41:23 - cmdstanpy - INFO - Chain [1] done processing\n",
      "00:41:24 - cmdstanpy - INFO - Chain [1] start processing\n",
      "00:41:24 - cmdstanpy - INFO - Chain [1] start processing\n",
      "00:41:24 - cmdstanpy - INFO - Chain [1] done processing\n",
      "00:41:24 - cmdstanpy - INFO - Chain [1] start processing\n",
      "00:41:24 - cmdstanpy - INFO - Chain [1] done processing\n",
      "00:41:24 - cmdstanpy - INFO - Chain [1] start processing\n",
      "00:41:24 - cmdstanpy - INFO - Chain [1] done processing\n",
      "00:41:24 - cmdstanpy - INFO - Chain [1] done processing\n",
      "00:41:25 - cmdstanpy - INFO - Chain [1] start processing\n",
      "00:41:25 - cmdstanpy - INFO - Chain [1] start processing\n",
      "00:41:25 - cmdstanpy - INFO - Chain [1] done processing\n",
      "00:41:25 - cmdstanpy - INFO - Chain [1] done processing\n",
      "00:41:25 - cmdstanpy - INFO - Chain [1] done processing\n",
      "00:41:25 - cmdstanpy - INFO - Chain [1] start processing\n",
      "00:41:25 - cmdstanpy - INFO - Chain [1] done processing\n",
      "00:41:25 - cmdstanpy - INFO - Chain [1] start processing\n",
      "00:41:25 - cmdstanpy - INFO - Chain [1] done processing\n",
      "00:41:30 - cmdstanpy - INFO - Chain [1] done processing\n",
      "00:41:31 - cmdstanpy - INFO - Chain [1] done processing\n",
      "00:41:33 - cmdstanpy - INFO - Chain [1] done processing\n",
      "00:41:35 - cmdstanpy - INFO - Chain [1] done processing\n",
      "00:41:39 - cmdstanpy - INFO - Chain [1] done processing\n",
      "00:41:41 - cmdstanpy - INFO - Chain [1] done processing\n",
      "00:41:42 - cmdstanpy - INFO - Chain [1] done processing\n",
      "00:41:44 - cmdstanpy - INFO - Chain [1] done processing\n",
      "00:41:46 - cmdstanpy - INFO - Chain [1] done processing\n"
     ]
    }
   ],
   "source": [
    "mae_list = []\n",
    "\n",
    "for params in all_params:\n",
    "    model = Prophet(**params).fit(train_data)\n",
    "    df_cv = cross_validation(model, horizon=\"150 days\", parallel=\"processes\")\n",
    "    df_p = performance_metrics(df_cv)\n",
    "    mae_list.append(df_p['mae'].values[0])"
   ]
  },
  {
   "cell_type": "code",
   "execution_count": 39,
   "metadata": {},
   "outputs": [
    {
     "data": {
      "text/html": [
       "<div>\n",
       "<style scoped>\n",
       "    .dataframe tbody tr th:only-of-type {\n",
       "        vertical-align: middle;\n",
       "    }\n",
       "\n",
       "    .dataframe tbody tr th {\n",
       "        vertical-align: top;\n",
       "    }\n",
       "\n",
       "    .dataframe thead th {\n",
       "        text-align: right;\n",
       "    }\n",
       "</style>\n",
       "<table border=\"1\" class=\"dataframe\">\n",
       "  <thead>\n",
       "    <tr style=\"text-align: right;\">\n",
       "      <th></th>\n",
       "      <th>changepoint_prior_scale</th>\n",
       "      <th>seasonality_prior_scale</th>\n",
       "      <th>mae</th>\n",
       "    </tr>\n",
       "  </thead>\n",
       "  <tbody>\n",
       "    <tr>\n",
       "      <th>0</th>\n",
       "      <td>0.001</td>\n",
       "      <td>0.01</td>\n",
       "      <td>17.858652</td>\n",
       "    </tr>\n",
       "    <tr>\n",
       "      <th>1</th>\n",
       "      <td>0.001</td>\n",
       "      <td>0.10</td>\n",
       "      <td>15.120136</td>\n",
       "    </tr>\n",
       "    <tr>\n",
       "      <th>2</th>\n",
       "      <td>0.001</td>\n",
       "      <td>1.00</td>\n",
       "      <td>16.712508</td>\n",
       "    </tr>\n",
       "    <tr>\n",
       "      <th>3</th>\n",
       "      <td>0.001</td>\n",
       "      <td>10.00</td>\n",
       "      <td>21.403408</td>\n",
       "    </tr>\n",
       "    <tr>\n",
       "      <th>4</th>\n",
       "      <td>0.010</td>\n",
       "      <td>0.01</td>\n",
       "      <td>18.273276</td>\n",
       "    </tr>\n",
       "  </tbody>\n",
       "</table>\n",
       "</div>"
      ],
      "text/plain": [
       "   changepoint_prior_scale  seasonality_prior_scale        mae\n",
       "0                    0.001                     0.01  17.858652\n",
       "1                    0.001                     0.10  15.120136\n",
       "2                    0.001                     1.00  16.712508\n",
       "3                    0.001                    10.00  21.403408\n",
       "4                    0.010                     0.01  18.273276"
      ]
     },
     "execution_count": 39,
     "metadata": {},
     "output_type": "execute_result"
    }
   ],
   "source": [
    "tuning_results = pd.DataFrame(all_params)\n",
    "tuning_results['mae'] = mae_list\n",
    "tuning_results.head()"
   ]
  },
  {
   "cell_type": "code",
   "execution_count": 44,
   "metadata": {},
   "outputs": [
    {
     "data": {
      "text/html": [
       "<div>\n",
       "<style scoped>\n",
       "    .dataframe tbody tr th:only-of-type {\n",
       "        vertical-align: middle;\n",
       "    }\n",
       "\n",
       "    .dataframe tbody tr th {\n",
       "        vertical-align: top;\n",
       "    }\n",
       "\n",
       "    .dataframe thead th {\n",
       "        text-align: right;\n",
       "    }\n",
       "</style>\n",
       "<table border=\"1\" class=\"dataframe\">\n",
       "  <thead>\n",
       "    <tr style=\"text-align: right;\">\n",
       "      <th></th>\n",
       "      <th>changepoint_prior_scale</th>\n",
       "      <th>seasonality_prior_scale</th>\n",
       "      <th>mae</th>\n",
       "    </tr>\n",
       "  </thead>\n",
       "  <tbody>\n",
       "    <tr>\n",
       "      <th>13</th>\n",
       "      <td>0.5</td>\n",
       "      <td>0.1</td>\n",
       "      <td>14.955821</td>\n",
       "    </tr>\n",
       "  </tbody>\n",
       "</table>\n",
       "</div>"
      ],
      "text/plain": [
       "    changepoint_prior_scale  seasonality_prior_scale        mae\n",
       "13                      0.5                      0.1  14.955821"
      ]
     },
     "execution_count": 44,
     "metadata": {},
     "output_type": "execute_result"
    }
   ],
   "source": [
    "tuning_results[tuning_results[\"mae\"] == tuning_results[\"mae\"].min()]\n",
    "\n"
   ]
  },
  {
   "cell_type": "code",
   "execution_count": 45,
   "metadata": {},
   "outputs": [
    {
     "name": "stdout",
     "output_type": "stream",
     "text": [
      "{'changepoint_prior_scale': 0.5, 'seasonality_prior_scale': 0.1}\n"
     ]
    }
   ],
   "source": [
    "import numpy as np\n",
    "\n",
    "best_params = all_params[np.argmin(mae_list)]\n",
    "print(best_params)"
   ]
  },
  {
   "cell_type": "code",
   "execution_count": null,
   "metadata": {},
   "outputs": [],
   "source": []
  },
  {
   "cell_type": "code",
   "execution_count": 46,
   "metadata": {},
   "outputs": [
    {
     "name": "stderr",
     "output_type": "stream",
     "text": [
      "00:46:53 - cmdstanpy - INFO - Chain [1] start processing\n",
      "00:46:53 - cmdstanpy - INFO - Chain [1] done processing\n"
     ]
    }
   ],
   "source": [
    "new_model = Prophet(**best_params)\n",
    "new_model.fit(train_data)\n",
    "new_forecast = model.predict(valid_data)"
   ]
  },
  {
   "cell_type": "code",
   "execution_count": 48,
   "metadata": {},
   "outputs": [
    {
     "data": {
      "application/vnd.plotly.v1+json": {
       "config": {
        "plotlyServerURL": "https://plot.ly"
       },
       "data": [
        {
         "marker": {
          "color": "blue",
          "size": 10
         },
         "name": "Train",
         "textfont": {
          "color": "black",
          "family": "Times New Roman",
          "size": 18
         },
         "type": "scatter",
         "x": [
          "1949-01-01T00:00:00",
          "1949-02-01T00:00:00",
          "1949-03-01T00:00:00",
          "1949-04-01T00:00:00",
          "1949-05-01T00:00:00",
          "1949-06-01T00:00:00",
          "1949-07-01T00:00:00",
          "1949-08-01T00:00:00",
          "1949-09-01T00:00:00",
          "1949-10-01T00:00:00",
          "1949-11-01T00:00:00",
          "1949-12-01T00:00:00",
          "1950-01-01T00:00:00",
          "1950-02-01T00:00:00",
          "1950-03-01T00:00:00",
          "1950-04-01T00:00:00",
          "1950-05-01T00:00:00",
          "1950-06-01T00:00:00",
          "1950-07-01T00:00:00",
          "1950-08-01T00:00:00",
          "1950-09-01T00:00:00",
          "1950-10-01T00:00:00",
          "1950-11-01T00:00:00",
          "1950-12-01T00:00:00",
          "1951-01-01T00:00:00",
          "1951-02-01T00:00:00",
          "1951-03-01T00:00:00",
          "1951-04-01T00:00:00",
          "1951-05-01T00:00:00",
          "1951-06-01T00:00:00",
          "1951-07-01T00:00:00",
          "1951-08-01T00:00:00",
          "1951-09-01T00:00:00",
          "1951-10-01T00:00:00",
          "1951-11-01T00:00:00",
          "1951-12-01T00:00:00",
          "1952-01-01T00:00:00",
          "1952-02-01T00:00:00",
          "1952-03-01T00:00:00",
          "1952-04-01T00:00:00",
          "1952-05-01T00:00:00",
          "1952-06-01T00:00:00",
          "1952-07-01T00:00:00",
          "1952-08-01T00:00:00",
          "1952-09-01T00:00:00",
          "1952-10-01T00:00:00",
          "1952-11-01T00:00:00",
          "1952-12-01T00:00:00",
          "1953-01-01T00:00:00",
          "1953-02-01T00:00:00",
          "1953-03-01T00:00:00",
          "1953-04-01T00:00:00",
          "1953-05-01T00:00:00",
          "1953-06-01T00:00:00",
          "1953-07-01T00:00:00",
          "1953-08-01T00:00:00",
          "1953-09-01T00:00:00",
          "1953-10-01T00:00:00",
          "1953-11-01T00:00:00",
          "1953-12-01T00:00:00",
          "1954-01-01T00:00:00",
          "1954-02-01T00:00:00",
          "1954-03-01T00:00:00",
          "1954-04-01T00:00:00",
          "1954-05-01T00:00:00",
          "1954-06-01T00:00:00",
          "1954-07-01T00:00:00",
          "1954-08-01T00:00:00",
          "1954-09-01T00:00:00",
          "1954-10-01T00:00:00",
          "1954-11-01T00:00:00",
          "1954-12-01T00:00:00",
          "1955-01-01T00:00:00",
          "1955-02-01T00:00:00",
          "1955-03-01T00:00:00",
          "1955-04-01T00:00:00",
          "1955-05-01T00:00:00",
          "1955-06-01T00:00:00",
          "1955-07-01T00:00:00",
          "1955-08-01T00:00:00",
          "1955-09-01T00:00:00",
          "1955-10-01T00:00:00",
          "1955-11-01T00:00:00",
          "1955-12-01T00:00:00",
          "1956-01-01T00:00:00",
          "1956-02-01T00:00:00",
          "1956-03-01T00:00:00",
          "1956-04-01T00:00:00",
          "1956-05-01T00:00:00",
          "1956-06-01T00:00:00",
          "1956-07-01T00:00:00",
          "1956-08-01T00:00:00",
          "1956-09-01T00:00:00",
          "1956-10-01T00:00:00",
          "1956-11-01T00:00:00",
          "1956-12-01T00:00:00",
          "1957-01-01T00:00:00",
          "1957-02-01T00:00:00",
          "1957-03-01T00:00:00",
          "1957-04-01T00:00:00",
          "1957-05-01T00:00:00",
          "1957-06-01T00:00:00",
          "1957-07-01T00:00:00",
          "1957-08-01T00:00:00",
          "1957-09-01T00:00:00",
          "1957-10-01T00:00:00",
          "1957-11-01T00:00:00",
          "1957-12-01T00:00:00",
          "1958-01-01T00:00:00",
          "1958-02-01T00:00:00",
          "1958-03-01T00:00:00",
          "1958-04-01T00:00:00",
          "1958-05-01T00:00:00",
          "1958-06-01T00:00:00",
          "1958-07-01T00:00:00",
          "1958-08-01T00:00:00",
          "1958-09-01T00:00:00",
          "1958-10-01T00:00:00",
          "1958-11-01T00:00:00",
          "1958-12-01T00:00:00"
         ],
         "y": [
          112,
          118,
          132,
          129,
          121,
          135,
          148,
          148,
          136,
          119,
          104,
          118,
          115,
          126,
          141,
          135,
          125,
          149,
          170,
          170,
          158,
          133,
          114,
          140,
          145,
          150,
          178,
          163,
          172,
          178,
          199,
          199,
          184,
          162,
          146,
          166,
          171,
          180,
          193,
          181,
          183,
          218,
          230,
          242,
          209,
          191,
          172,
          194,
          196,
          196,
          236,
          235,
          229,
          243,
          264,
          272,
          237,
          211,
          180,
          201,
          204,
          188,
          235,
          227,
          234,
          264,
          302,
          293,
          259,
          229,
          203,
          229,
          242,
          233,
          267,
          269,
          270,
          315,
          364,
          347,
          312,
          274,
          237,
          278,
          284,
          277,
          317,
          313,
          318,
          374,
          413,
          405,
          355,
          306,
          271,
          306,
          315,
          301,
          356,
          348,
          355,
          422,
          465,
          467,
          404,
          347,
          305,
          336,
          340,
          318,
          362,
          348,
          363,
          435,
          491,
          505,
          404,
          359,
          310,
          337
         ]
        },
        {
         "marker": {
          "color": "red",
          "size": 10
         },
         "name": "Valid",
         "type": "scatter",
         "x": [
          "1959-01-01T00:00:00",
          "1959-02-01T00:00:00",
          "1959-03-01T00:00:00",
          "1959-04-01T00:00:00",
          "1959-05-01T00:00:00",
          "1959-06-01T00:00:00",
          "1959-07-01T00:00:00",
          "1959-08-01T00:00:00",
          "1959-09-01T00:00:00",
          "1959-10-01T00:00:00",
          "1959-11-01T00:00:00",
          "1959-12-01T00:00:00",
          "1960-01-01T00:00:00",
          "1960-02-01T00:00:00",
          "1960-03-01T00:00:00",
          "1960-04-01T00:00:00",
          "1960-05-01T00:00:00",
          "1960-06-01T00:00:00",
          "1960-07-01T00:00:00",
          "1960-08-01T00:00:00",
          "1960-09-01T00:00:00",
          "1960-10-01T00:00:00",
          "1960-11-01T00:00:00",
          "1960-12-01T00:00:00"
         ],
         "y": [
          360,
          342,
          406,
          396,
          420,
          472,
          548,
          559,
          463,
          407,
          362,
          405,
          417,
          391,
          419,
          461,
          472,
          535,
          622,
          606,
          508,
          461,
          390,
          432
         ]
        },
        {
         "marker": {
          "color": "green",
          "size": 10
         },
         "name": "Predict",
         "type": "scatter",
         "x": [
          "1959-01-01T00:00:00",
          "1959-02-01T00:00:00",
          "1959-03-01T00:00:00",
          "1959-04-01T00:00:00",
          "1959-05-01T00:00:00",
          "1959-06-01T00:00:00",
          "1959-07-01T00:00:00",
          "1959-08-01T00:00:00",
          "1959-09-01T00:00:00",
          "1959-10-01T00:00:00",
          "1959-11-01T00:00:00",
          "1959-12-01T00:00:00",
          "1960-01-01T00:00:00",
          "1960-02-01T00:00:00",
          "1960-03-01T00:00:00",
          "1960-04-01T00:00:00",
          "1960-05-01T00:00:00",
          "1960-06-01T00:00:00",
          "1960-07-01T00:00:00",
          "1960-08-01T00:00:00",
          "1960-09-01T00:00:00",
          "1960-10-01T00:00:00",
          "1960-11-01T00:00:00",
          "1960-12-01T00:00:00"
         ],
         "y": [
          377.9826518775701,
          374.7715936760896,
          405.2850950134822,
          399.0219967735616,
          404.0060482333092,
          434.3768340511976,
          472.2549854715595,
          466.60613501931164,
          430.5640945759631,
          397.46126517437204,
          366.3421420113743,
          392.7474792073885,
          402.4612922396824,
          400.20593936083026,
          433.0438871700667,
          425.2022667540499,
          424.16951431613154,
          465.9747463185149,
          490.1038669835757,
          495.51916107313815,
          453.0003621359108,
          419.9053456826337,
          392.4450666154714,
          417.9464731815257
         ]
        }
       ],
       "layout": {
        "legend": {
         "orientation": "h",
         "x": 1,
         "xanchor": "right",
         "y": 1.02,
         "yanchor": "bottom"
        },
        "template": {
         "data": {
          "bar": [
           {
            "error_x": {
             "color": "#2a3f5f"
            },
            "error_y": {
             "color": "#2a3f5f"
            },
            "marker": {
             "line": {
              "color": "#E5ECF6",
              "width": 0.5
             },
             "pattern": {
              "fillmode": "overlay",
              "size": 10,
              "solidity": 0.2
             }
            },
            "type": "bar"
           }
          ],
          "barpolar": [
           {
            "marker": {
             "line": {
              "color": "#E5ECF6",
              "width": 0.5
             },
             "pattern": {
              "fillmode": "overlay",
              "size": 10,
              "solidity": 0.2
             }
            },
            "type": "barpolar"
           }
          ],
          "carpet": [
           {
            "aaxis": {
             "endlinecolor": "#2a3f5f",
             "gridcolor": "white",
             "linecolor": "white",
             "minorgridcolor": "white",
             "startlinecolor": "#2a3f5f"
            },
            "baxis": {
             "endlinecolor": "#2a3f5f",
             "gridcolor": "white",
             "linecolor": "white",
             "minorgridcolor": "white",
             "startlinecolor": "#2a3f5f"
            },
            "type": "carpet"
           }
          ],
          "choropleth": [
           {
            "colorbar": {
             "outlinewidth": 0,
             "ticks": ""
            },
            "type": "choropleth"
           }
          ],
          "contour": [
           {
            "colorbar": {
             "outlinewidth": 0,
             "ticks": ""
            },
            "colorscale": [
             [
              0,
              "#0d0887"
             ],
             [
              0.1111111111111111,
              "#46039f"
             ],
             [
              0.2222222222222222,
              "#7201a8"
             ],
             [
              0.3333333333333333,
              "#9c179e"
             ],
             [
              0.4444444444444444,
              "#bd3786"
             ],
             [
              0.5555555555555556,
              "#d8576b"
             ],
             [
              0.6666666666666666,
              "#ed7953"
             ],
             [
              0.7777777777777778,
              "#fb9f3a"
             ],
             [
              0.8888888888888888,
              "#fdca26"
             ],
             [
              1,
              "#f0f921"
             ]
            ],
            "type": "contour"
           }
          ],
          "contourcarpet": [
           {
            "colorbar": {
             "outlinewidth": 0,
             "ticks": ""
            },
            "type": "contourcarpet"
           }
          ],
          "heatmap": [
           {
            "colorbar": {
             "outlinewidth": 0,
             "ticks": ""
            },
            "colorscale": [
             [
              0,
              "#0d0887"
             ],
             [
              0.1111111111111111,
              "#46039f"
             ],
             [
              0.2222222222222222,
              "#7201a8"
             ],
             [
              0.3333333333333333,
              "#9c179e"
             ],
             [
              0.4444444444444444,
              "#bd3786"
             ],
             [
              0.5555555555555556,
              "#d8576b"
             ],
             [
              0.6666666666666666,
              "#ed7953"
             ],
             [
              0.7777777777777778,
              "#fb9f3a"
             ],
             [
              0.8888888888888888,
              "#fdca26"
             ],
             [
              1,
              "#f0f921"
             ]
            ],
            "type": "heatmap"
           }
          ],
          "heatmapgl": [
           {
            "colorbar": {
             "outlinewidth": 0,
             "ticks": ""
            },
            "colorscale": [
             [
              0,
              "#0d0887"
             ],
             [
              0.1111111111111111,
              "#46039f"
             ],
             [
              0.2222222222222222,
              "#7201a8"
             ],
             [
              0.3333333333333333,
              "#9c179e"
             ],
             [
              0.4444444444444444,
              "#bd3786"
             ],
             [
              0.5555555555555556,
              "#d8576b"
             ],
             [
              0.6666666666666666,
              "#ed7953"
             ],
             [
              0.7777777777777778,
              "#fb9f3a"
             ],
             [
              0.8888888888888888,
              "#fdca26"
             ],
             [
              1,
              "#f0f921"
             ]
            ],
            "type": "heatmapgl"
           }
          ],
          "histogram": [
           {
            "marker": {
             "pattern": {
              "fillmode": "overlay",
              "size": 10,
              "solidity": 0.2
             }
            },
            "type": "histogram"
           }
          ],
          "histogram2d": [
           {
            "colorbar": {
             "outlinewidth": 0,
             "ticks": ""
            },
            "colorscale": [
             [
              0,
              "#0d0887"
             ],
             [
              0.1111111111111111,
              "#46039f"
             ],
             [
              0.2222222222222222,
              "#7201a8"
             ],
             [
              0.3333333333333333,
              "#9c179e"
             ],
             [
              0.4444444444444444,
              "#bd3786"
             ],
             [
              0.5555555555555556,
              "#d8576b"
             ],
             [
              0.6666666666666666,
              "#ed7953"
             ],
             [
              0.7777777777777778,
              "#fb9f3a"
             ],
             [
              0.8888888888888888,
              "#fdca26"
             ],
             [
              1,
              "#f0f921"
             ]
            ],
            "type": "histogram2d"
           }
          ],
          "histogram2dcontour": [
           {
            "colorbar": {
             "outlinewidth": 0,
             "ticks": ""
            },
            "colorscale": [
             [
              0,
              "#0d0887"
             ],
             [
              0.1111111111111111,
              "#46039f"
             ],
             [
              0.2222222222222222,
              "#7201a8"
             ],
             [
              0.3333333333333333,
              "#9c179e"
             ],
             [
              0.4444444444444444,
              "#bd3786"
             ],
             [
              0.5555555555555556,
              "#d8576b"
             ],
             [
              0.6666666666666666,
              "#ed7953"
             ],
             [
              0.7777777777777778,
              "#fb9f3a"
             ],
             [
              0.8888888888888888,
              "#fdca26"
             ],
             [
              1,
              "#f0f921"
             ]
            ],
            "type": "histogram2dcontour"
           }
          ],
          "mesh3d": [
           {
            "colorbar": {
             "outlinewidth": 0,
             "ticks": ""
            },
            "type": "mesh3d"
           }
          ],
          "parcoords": [
           {
            "line": {
             "colorbar": {
              "outlinewidth": 0,
              "ticks": ""
             }
            },
            "type": "parcoords"
           }
          ],
          "pie": [
           {
            "automargin": true,
            "type": "pie"
           }
          ],
          "scatter": [
           {
            "fillpattern": {
             "fillmode": "overlay",
             "size": 10,
             "solidity": 0.2
            },
            "type": "scatter"
           }
          ],
          "scatter3d": [
           {
            "line": {
             "colorbar": {
              "outlinewidth": 0,
              "ticks": ""
             }
            },
            "marker": {
             "colorbar": {
              "outlinewidth": 0,
              "ticks": ""
             }
            },
            "type": "scatter3d"
           }
          ],
          "scattercarpet": [
           {
            "marker": {
             "colorbar": {
              "outlinewidth": 0,
              "ticks": ""
             }
            },
            "type": "scattercarpet"
           }
          ],
          "scattergeo": [
           {
            "marker": {
             "colorbar": {
              "outlinewidth": 0,
              "ticks": ""
             }
            },
            "type": "scattergeo"
           }
          ],
          "scattergl": [
           {
            "marker": {
             "colorbar": {
              "outlinewidth": 0,
              "ticks": ""
             }
            },
            "type": "scattergl"
           }
          ],
          "scattermapbox": [
           {
            "marker": {
             "colorbar": {
              "outlinewidth": 0,
              "ticks": ""
             }
            },
            "type": "scattermapbox"
           }
          ],
          "scatterpolar": [
           {
            "marker": {
             "colorbar": {
              "outlinewidth": 0,
              "ticks": ""
             }
            },
            "type": "scatterpolar"
           }
          ],
          "scatterpolargl": [
           {
            "marker": {
             "colorbar": {
              "outlinewidth": 0,
              "ticks": ""
             }
            },
            "type": "scatterpolargl"
           }
          ],
          "scatterternary": [
           {
            "marker": {
             "colorbar": {
              "outlinewidth": 0,
              "ticks": ""
             }
            },
            "type": "scatterternary"
           }
          ],
          "surface": [
           {
            "colorbar": {
             "outlinewidth": 0,
             "ticks": ""
            },
            "colorscale": [
             [
              0,
              "#0d0887"
             ],
             [
              0.1111111111111111,
              "#46039f"
             ],
             [
              0.2222222222222222,
              "#7201a8"
             ],
             [
              0.3333333333333333,
              "#9c179e"
             ],
             [
              0.4444444444444444,
              "#bd3786"
             ],
             [
              0.5555555555555556,
              "#d8576b"
             ],
             [
              0.6666666666666666,
              "#ed7953"
             ],
             [
              0.7777777777777778,
              "#fb9f3a"
             ],
             [
              0.8888888888888888,
              "#fdca26"
             ],
             [
              1,
              "#f0f921"
             ]
            ],
            "type": "surface"
           }
          ],
          "table": [
           {
            "cells": {
             "fill": {
              "color": "#EBF0F8"
             },
             "line": {
              "color": "white"
             }
            },
            "header": {
             "fill": {
              "color": "#C8D4E3"
             },
             "line": {
              "color": "white"
             }
            },
            "type": "table"
           }
          ]
         },
         "layout": {
          "annotationdefaults": {
           "arrowcolor": "#2a3f5f",
           "arrowhead": 0,
           "arrowwidth": 1
          },
          "autotypenumbers": "strict",
          "coloraxis": {
           "colorbar": {
            "outlinewidth": 0,
            "ticks": ""
           }
          },
          "colorscale": {
           "diverging": [
            [
             0,
             "#8e0152"
            ],
            [
             0.1,
             "#c51b7d"
            ],
            [
             0.2,
             "#de77ae"
            ],
            [
             0.3,
             "#f1b6da"
            ],
            [
             0.4,
             "#fde0ef"
            ],
            [
             0.5,
             "#f7f7f7"
            ],
            [
             0.6,
             "#e6f5d0"
            ],
            [
             0.7,
             "#b8e186"
            ],
            [
             0.8,
             "#7fbc41"
            ],
            [
             0.9,
             "#4d9221"
            ],
            [
             1,
             "#276419"
            ]
           ],
           "sequential": [
            [
             0,
             "#0d0887"
            ],
            [
             0.1111111111111111,
             "#46039f"
            ],
            [
             0.2222222222222222,
             "#7201a8"
            ],
            [
             0.3333333333333333,
             "#9c179e"
            ],
            [
             0.4444444444444444,
             "#bd3786"
            ],
            [
             0.5555555555555556,
             "#d8576b"
            ],
            [
             0.6666666666666666,
             "#ed7953"
            ],
            [
             0.7777777777777778,
             "#fb9f3a"
            ],
            [
             0.8888888888888888,
             "#fdca26"
            ],
            [
             1,
             "#f0f921"
            ]
           ],
           "sequentialminus": [
            [
             0,
             "#0d0887"
            ],
            [
             0.1111111111111111,
             "#46039f"
            ],
            [
             0.2222222222222222,
             "#7201a8"
            ],
            [
             0.3333333333333333,
             "#9c179e"
            ],
            [
             0.4444444444444444,
             "#bd3786"
            ],
            [
             0.5555555555555556,
             "#d8576b"
            ],
            [
             0.6666666666666666,
             "#ed7953"
            ],
            [
             0.7777777777777778,
             "#fb9f3a"
            ],
            [
             0.8888888888888888,
             "#fdca26"
            ],
            [
             1,
             "#f0f921"
            ]
           ]
          },
          "colorway": [
           "#636efa",
           "#EF553B",
           "#00cc96",
           "#ab63fa",
           "#FFA15A",
           "#19d3f3",
           "#FF6692",
           "#B6E880",
           "#FF97FF",
           "#FECB52"
          ],
          "font": {
           "color": "#2a3f5f"
          },
          "geo": {
           "bgcolor": "white",
           "lakecolor": "white",
           "landcolor": "#E5ECF6",
           "showlakes": true,
           "showland": true,
           "subunitcolor": "white"
          },
          "hoverlabel": {
           "align": "left"
          },
          "hovermode": "closest",
          "mapbox": {
           "style": "light"
          },
          "paper_bgcolor": "white",
          "plot_bgcolor": "#E5ECF6",
          "polar": {
           "angularaxis": {
            "gridcolor": "white",
            "linecolor": "white",
            "ticks": ""
           },
           "bgcolor": "#E5ECF6",
           "radialaxis": {
            "gridcolor": "white",
            "linecolor": "white",
            "ticks": ""
           }
          },
          "scene": {
           "xaxis": {
            "backgroundcolor": "#E5ECF6",
            "gridcolor": "white",
            "gridwidth": 2,
            "linecolor": "white",
            "showbackground": true,
            "ticks": "",
            "zerolinecolor": "white"
           },
           "yaxis": {
            "backgroundcolor": "#E5ECF6",
            "gridcolor": "white",
            "gridwidth": 2,
            "linecolor": "white",
            "showbackground": true,
            "ticks": "",
            "zerolinecolor": "white"
           },
           "zaxis": {
            "backgroundcolor": "#E5ECF6",
            "gridcolor": "white",
            "gridwidth": 2,
            "linecolor": "white",
            "showbackground": true,
            "ticks": "",
            "zerolinecolor": "white"
           }
          },
          "shapedefaults": {
           "line": {
            "color": "#2a3f5f"
           }
          },
          "ternary": {
           "aaxis": {
            "gridcolor": "white",
            "linecolor": "white",
            "ticks": ""
           },
           "baxis": {
            "gridcolor": "white",
            "linecolor": "white",
            "ticks": ""
           },
           "bgcolor": "#E5ECF6",
           "caxis": {
            "gridcolor": "white",
            "linecolor": "white",
            "ticks": ""
           }
          },
          "title": {
           "x": 0.05
          },
          "xaxis": {
           "automargin": true,
           "gridcolor": "white",
           "linecolor": "white",
           "ticks": "",
           "title": {
            "standoff": 15
           },
           "zerolinecolor": "white",
           "zerolinewidth": 2
          },
          "yaxis": {
           "automargin": true,
           "gridcolor": "white",
           "linecolor": "white",
           "ticks": "",
           "title": {
            "standoff": 15
           },
           "zerolinecolor": "white",
           "zerolinewidth": 2
          }
         }
        },
        "title": {
         "font": {
          "size": 15
         },
         "text": "Best Params Prophet Model Plot",
         "x": 0.5,
         "xanchor": "center",
         "y": 0.98,
         "yanchor": "top"
        },
        "xaxis": {
         "anchor": "y",
         "domain": [
          0,
          1
         ],
         "rangeselector": {
          "buttons": [
           {
            "count": 1,
            "label": "1m",
            "step": "month",
            "stepmode": "backward"
           },
           {
            "count": 6,
            "label": "6m",
            "step": "month",
            "stepmode": "backward"
           },
           {
            "count": 1,
            "label": "YTD",
            "step": "year",
            "stepmode": "todate"
           },
           {
            "count": 1,
            "label": "1y",
            "step": "year",
            "stepmode": "backward"
           },
           {
            "step": "all"
           }
          ]
         },
         "title": {
          "text": "Date"
         }
        },
        "yaxis": {
         "anchor": "x",
         "domain": [
          0,
          1
         ],
         "title": {
          "text": "Demand"
         }
        }
       }
      }
     },
     "metadata": {},
     "output_type": "display_data"
    }
   ],
   "source": [
    "forecast_plot(\n",
    "    train_data,\n",
    "    valid_data,\n",
    "    'ds',\n",
    "    new_forecast[\"yhat\"],\n",
    "    [\"Train\", \"Valid\", \"Predict\"],\n",
    "    \"Best Params Prophet\",\n",
    "    \"Date\",\n",
    "    \"Demand\",\n",
    ")"
   ]
  },
  {
   "cell_type": "code",
   "execution_count": null,
   "metadata": {},
   "outputs": [],
   "source": []
  },
  {
   "cell_type": "code",
   "execution_count": null,
   "metadata": {},
   "outputs": [],
   "source": []
  },
  {
   "cell_type": "code",
   "execution_count": null,
   "metadata": {},
   "outputs": [],
   "source": []
  }
 ],
 "metadata": {
  "kernelspec": {
   "display_name": "prophet",
   "language": "python",
   "name": "python3"
  },
  "language_info": {
   "codemirror_mode": {
    "name": "ipython",
    "version": 3
   },
   "file_extension": ".py",
   "mimetype": "text/x-python",
   "name": "python",
   "nbconvert_exporter": "python",
   "pygments_lexer": "ipython3",
   "version": "3.11.3"
  },
  "orig_nbformat": 4
 },
 "nbformat": 4,
 "nbformat_minor": 2
}
